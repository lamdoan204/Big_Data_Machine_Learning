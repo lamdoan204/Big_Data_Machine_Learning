{
 "cells": [
  {
   "cell_type": "code",
   "execution_count": 109,
   "id": "f3c3cfaa",
   "metadata": {},
   "outputs": [],
   "source": [
    "from pyspark.sql import SparkSession\n",
    "from pyspark.ml import pipeline\n",
    "from pyspark.sql import functions as F\n",
    "from pyspark.sql.types import NumericType\n"
   ]
  },
  {
   "cell_type": "code",
   "execution_count": 110,
   "id": "c5354a97",
   "metadata": {},
   "outputs": [],
   "source": [
    "# Create spark session \n",
    "spark = SparkSession.builder.appName('PreprocessPipeline').getOrCreate()\n"
   ]
  },
  {
   "cell_type": "code",
   "execution_count": 111,
   "id": "6481682b",
   "metadata": {},
   "outputs": [],
   "source": [
    "# read file csv \n",
    "data = spark.read.csv('../data/vietnam_housing_dataset.csv', header= True, inferSchema= True)"
   ]
  },
  {
   "cell_type": "code",
   "execution_count": 112,
   "id": "20019959",
   "metadata": {},
   "outputs": [
    {
     "name": "stdout",
     "output_type": "stream",
     "text": [
      "+--------------------+----+--------+-----------+---------------+-----------------+------+--------+---------+----------------+---------------+-----+\n",
      "|             Address|Area|Frontage|Access Road|House direction|Balcony direction|Floors|Bedrooms|Bathrooms|    Legal status|Furniture state|Price|\n",
      "+--------------------+----+--------+-----------+---------------+-----------------+------+--------+---------+----------------+---------------+-----+\n",
      "|Dự án The Empire ...|84.0|    NULL|       NULL|           NULL|             NULL|     4|    NULL|     NULL|Have certificate|           NULL|  8.6|\n",
      "|Dự án The Crown -...|60.0|    NULL|       NULL|           NULL|             NULL|     5|    NULL|     NULL|            NULL|           NULL|  7.5|\n",
      "|Dự án The Crown -...|90.0|     6.0|       13.0|     Đông - Bắc|       Đông - Bắc|     5|    NULL|     NULL|   Sale contract|           NULL|  8.9|\n",
      "|Đường Nguyễn Văn ...|54.0|    NULL|        3.5|      Tây - Nam|        Tây - Nam|     2|       2|        3|Have certificate|           Full| 5.35|\n",
      "|Đường Quang Trung...|92.0|    NULL|       NULL|     Đông - Nam|       Đông - Nam|     2|       4|        4|Have certificate|           Full|  6.9|\n",
      "|Dự án The Empire ...|91.0|     7.0|       13.0|      Tây - Bắc|             NULL|  NULL|    NULL|     NULL|Have certificate|           NULL|  9.8|\n",
      "|Dự án The Empire ...|64.0|     4.0|       NULL|           NULL|             NULL|     5|    NULL|     NULL|            NULL|           NULL|  7.2|\n",
      "|Dự án Him Lam Thư...|74.0|     5.0|       18.0|            Nam|              Nam|     5|       4|        5|Have certificate|           NULL|  9.9|\n",
      "|Dự án The Empire ...|48.0|    NULL|       NULL|           NULL|             NULL|     5|       6|     NULL|            NULL|          Basic|  5.7|\n",
      "|Dự án The Crown -...|91.0|     7.0|       NULL|           NULL|             NULL|     5|    NULL|     NULL|Have certificate|           NULL|  9.5|\n",
      "+--------------------+----+--------+-----------+---------------+-----------------+------+--------+---------+----------------+---------------+-----+\n",
      "only showing top 10 rows\n"
     ]
    }
   ],
   "source": [
    "data.show(10)"
   ]
  },
  {
   "cell_type": "code",
   "execution_count": 113,
   "id": "2ae82981",
   "metadata": {},
   "outputs": [
    {
     "data": {
      "text/plain": [
       "[('Address', 'string'),\n",
       " ('Area', 'double'),\n",
       " ('Frontage', 'double'),\n",
       " ('Access Road', 'double'),\n",
       " ('House direction', 'string'),\n",
       " ('Balcony direction', 'string'),\n",
       " ('Floors', 'int'),\n",
       " ('Bedrooms', 'int'),\n",
       " ('Bathrooms', 'int'),\n",
       " ('Legal status', 'string'),\n",
       " ('Furniture state', 'string'),\n",
       " ('Price', 'double')]"
      ]
     },
     "execution_count": 113,
     "metadata": {},
     "output_type": "execute_result"
    }
   ],
   "source": [
    "# kiểm tra kiểu dữ liệu của  features\n",
    "data.dtypes"
   ]
  },
  {
   "cell_type": "code",
   "execution_count": 114,
   "id": "36651141",
   "metadata": {},
   "outputs": [
    {
     "name": "stdout",
     "output_type": "stream",
     "text": [
      "+-------+----+--------+-----------+---------------+-----------------+------+--------+---------+------------+---------------+-----+\n",
      "|Address|Area|Frontage|Access Road|House direction|Balcony direction|Floors|Bedrooms|Bathrooms|Legal status|Furniture state|Price|\n",
      "+-------+----+--------+-----------+---------------+-----------------+------+--------+---------+------------+---------------+-----+\n",
      "|      0|   0|   11563|      13296|          21238|            24982|  3603|    5161|     7073|        4506|          14118|    0|\n",
      "+-------+----+--------+-----------+---------------+-----------------+------+--------+---------+------------+---------------+-----+\n",
      "\n"
     ]
    }
   ],
   "source": [
    "# số lượng giá trị null trong từ cột\n",
    "null_count_df = data.select( [ F.count( F.when(F.col(col=c).isNull(), c)).alias(c) for c in data.columns] )\n",
    "null_count_df.show()\n"
   ]
  },
  {
   "cell_type": "code",
   "execution_count": 115,
   "id": "a2e1c7af",
   "metadata": {},
   "outputs": [
    {
     "name": "stdout",
     "output_type": "stream",
     "text": [
      "Số bản ghi của tập dữ liệu: 30228\n"
     ]
    }
   ],
   "source": [
    "print(\"Số bản ghi của tập dữ liệu:\" , data.count() )"
   ]
  },
  {
   "cell_type": "code",
   "execution_count": 116,
   "id": "3593a055",
   "metadata": {},
   "outputs": [
    {
     "name": "stdout",
     "output_type": "stream",
     "text": [
      "+--------------------+----+--------+-----------+---------------+-----------------+------+--------+---------+----------------+---------------+-----+\n",
      "|             Address|Area|Frontage|Access_Road|House_direction|Balcony_direction|Floors|Bedrooms|Bathrooms|    Legal_status|Furniture_state|Price|\n",
      "+--------------------+----+--------+-----------+---------------+-----------------+------+--------+---------+----------------+---------------+-----+\n",
      "|Dự án The Empire ...|84.0|    NULL|       NULL|           NULL|             NULL|     4|    NULL|     NULL|Have certificate|           NULL|  8.6|\n",
      "|Dự án The Crown -...|60.0|    NULL|       NULL|           NULL|             NULL|     5|    NULL|     NULL|            NULL|           NULL|  7.5|\n",
      "|Dự án The Crown -...|90.0|     6.0|       13.0|     Đông - Bắc|       Đông - Bắc|     5|    NULL|     NULL|   Sale contract|           NULL|  8.9|\n",
      "|Đường Nguyễn Văn ...|54.0|    NULL|        3.5|      Tây - Nam|        Tây - Nam|     2|       2|        3|Have certificate|           Full| 5.35|\n",
      "|Đường Quang Trung...|92.0|    NULL|       NULL|     Đông - Nam|       Đông - Nam|     2|       4|        4|Have certificate|           Full|  6.9|\n",
      "+--------------------+----+--------+-----------+---------------+-----------------+------+--------+---------+----------------+---------------+-----+\n",
      "only showing top 5 rows\n"
     ]
    }
   ],
   "source": [
    "# đổi tên các cột\n",
    "for col in data.columns:\n",
    "    data = data.withColumnRenamed(col, col.replace(' ','_'))\n",
    "data.show(5)"
   ]
  },
  {
   "cell_type": "code",
   "execution_count": 117,
   "id": "b5544819",
   "metadata": {},
   "outputs": [],
   "source": [
    "# xử lý giá trị null của cột numerical\n",
    "# cột frontage and access_road \n",
    "cols = ['Frontage', \"Access_Road\", \"Bedrooms\", \"Bathrooms\"]\n",
    "data = data.fillna({col : int (0) for col in cols}) \n",
    "# floor\n",
    "data = data.fillna({'Floors':1})"
   ]
  },
  {
   "cell_type": "code",
   "execution_count": 118,
   "id": "e0ee9a40",
   "metadata": {},
   "outputs": [
    {
     "name": "stdout",
     "output_type": "stream",
     "text": [
      "+---------------+-----+\n",
      "|House_direction|count|\n",
      "+---------------+-----+\n",
      "|      Tây - Nam| 1152|\n",
      "|      Tây - Bắc| 1125|\n",
      "|           NULL|21238|\n",
      "|            Tây|  791|\n",
      "|     Đông - Nam| 1916|\n",
      "|     Đông - Bắc| 1180|\n",
      "|            Bắc|  832|\n",
      "|            Nam| 1042|\n",
      "|           Đông|  952|\n",
      "+---------------+-----+\n",
      "\n"
     ]
    }
   ],
   "source": [
    "data.groupBy('House_direction').count().show()"
   ]
  },
  {
   "cell_type": "code",
   "execution_count": 119,
   "id": "b5f4c08d",
   "metadata": {},
   "outputs": [
    {
     "name": "stdout",
     "output_type": "stream",
     "text": [
      "+---------------+-----+\n",
      "|House_direction|count|\n",
      "+---------------+-----+\n",
      "|             TB| 3725|\n",
      "|              T| 3502|\n",
      "|              B| 3413|\n",
      "|             DB| 3810|\n",
      "|             DN| 4570|\n",
      "|              D| 3634|\n",
      "|             TN| 3806|\n",
      "|              N| 3768|\n",
      "+---------------+-----+\n",
      "\n"
     ]
    }
   ],
   "source": [
    "# xử lý giá trị null của cột String\n",
    "mapping = {\n",
    "    \"Đông\": \"D\",\n",
    "    \"Tây\": \"T\",\n",
    "    \"Nam\": \"N\",\n",
    "    \"Bắc\": \"B\",\n",
    "    \"Đông - Bắc\": \"DB\",\n",
    "    \"Đông - Nam\": \"DN\",\n",
    "    \"Tây - Bắc\": \"TB\",\n",
    "    \"Tây - Nam\": \"TN\"\n",
    "}\n",
    "direction_cols = [\"House_direction\", \"Balcony_direction\"]\n",
    "\n",
    "values = list(mapping.values())\n",
    "n = len(values)\n",
    "\n",
    "for col in direction_cols:\n",
    "    data = data.withColumn(\n",
    "        col,\n",
    "        F.when(\n",
    "            F.col(col).isNull(),\n",
    "            F.element_at(F.array([F.lit(v) for v in values]), (F.rand()*n+1).cast(\"int\"))\n",
    "        ).otherwise(F.col(col))\n",
    "    )\n",
    "\n",
    "for col in direction_cols:\n",
    "    for k, v in mapping.items():\n",
    "        data = data.withColumn(\n",
    "            col,\n",
    "            F.when(F.col(col) == k, v).otherwise(F.col(col))\n",
    "        )\n",
    "\n",
    "data.groupBy('House_direction').count().show()\n",
    "\n"
   ]
  },
  {
   "cell_type": "code",
   "execution_count": 120,
   "id": "e823880b",
   "metadata": {},
   "outputs": [],
   "source": [
    "data = data.fillna({'Furniture_state': 'NO'})"
   ]
  },
  {
   "cell_type": "code",
   "execution_count": 121,
   "id": "5f0507a9",
   "metadata": {},
   "outputs": [
    {
     "name": "stdout",
     "output_type": "stream",
     "text": [
      "+----------------+-----+\n",
      "|    Legal_status|count|\n",
      "+----------------+-----+\n",
      "|   Sale contract|  949|\n",
      "|Have certificate|24773|\n",
      "|            NULL| 4506|\n",
      "+----------------+-----+\n",
      "\n"
     ]
    }
   ],
   "source": [
    "data.groupBy('Legal_status').count().show()"
   ]
  },
  {
   "cell_type": "code",
   "execution_count": 122,
   "id": "16edd150",
   "metadata": {},
   "outputs": [],
   "source": [
    "data = data.fillna({'Legal_status' : 'Sale contract'})"
   ]
  },
  {
   "cell_type": "code",
   "execution_count": 123,
   "id": "7cdbafdc",
   "metadata": {},
   "outputs": [
    {
     "name": "stdout",
     "output_type": "stream",
     "text": [
      "+-------+----+--------+-----------+---------------+-----------------+------+--------+---------+------------+---------------+-----+\n",
      "|Address|Area|Frontage|Access_Road|House_direction|Balcony_direction|Floors|Bedrooms|Bathrooms|Legal_status|Furniture_state|Price|\n",
      "+-------+----+--------+-----------+---------------+-----------------+------+--------+---------+------------+---------------+-----+\n",
      "|      0|   0|       0|          0|              0|                0|     0|       0|        0|           0|              0|    0|\n",
      "+-------+----+--------+-----------+---------------+-----------------+------+--------+---------+------------+---------------+-----+\n",
      "\n"
     ]
    }
   ],
   "source": [
    "null_count_df = data.select( [ F.count( F.when(F.col(col=c).isNull(), c)).alias(c) for c in data.columns] )\n",
    "null_count_df.show()"
   ]
  },
  {
   "cell_type": "code",
   "execution_count": 128,
   "id": "ed31444b",
   "metadata": {},
   "outputs": [],
   "source": [
    "# trích xuất dữ liệu từ cốt Address\n",
    "# Trích xuất vị trí\n",
    "data = data.withColumn('parts_address', F.split(F.col('Address'), ','))\n",
    "\n",
    "data = data.withColumn(\"Province_City\",  F.trim(F.element_at(F.col(\"parts_address\"), -1)))\n",
    "\n",
    "data = data.withColumn(\n",
    "    \"Type\",\n",
    "    F.when(\n",
    "        F.lower(F.trim(F.element_at(F.col(\"parts_address\"), 1))).like(\"%dự án%\"),\n",
    "        F.lit(\"Chung cư\")\n",
    "    ).otherwise(F.lit(\"Nhà\"))\n",
    ")\n",
    "\n",
    "data = data.drop(\"parts_address\")"
   ]
  },
  {
   "cell_type": "code",
   "execution_count": 125,
   "id": "339b2fba",
   "metadata": {},
   "outputs": [
    {
     "name": "stdout",
     "output_type": "stream",
     "text": [
      "+--------+-----+\n",
      "|    Type|count|\n",
      "+--------+-----+\n",
      "|Chung cư| 3651|\n",
      "|     Nhà|26577|\n",
      "+--------+-----+\n",
      "\n"
     ]
    }
   ],
   "source": [
    "data.groupBy('Type').count().show()"
   ]
  },
  {
   "cell_type": "code",
   "execution_count": 126,
   "id": "2e3c4784",
   "metadata": {},
   "outputs": [],
   "source": [
    "# chuẩn hóa dữ liệu"
   ]
  },
  {
   "cell_type": "code",
   "execution_count": 129,
   "id": "46cd824f",
   "metadata": {},
   "outputs": [
    {
     "name": "stdout",
     "output_type": "stream",
     "text": [
      "+--------------------+-----+--------+-----------+---------------+-----------------+------+--------+---------+----------------+---------------+-----+-------------+--------+\n",
      "|             Address| Area|Frontage|Access_Road|House_direction|Balcony_direction|Floors|Bedrooms|Bathrooms|    Legal_status|Furniture_state|Price|Province_City|    Type|\n",
      "+--------------------+-----+--------+-----------+---------------+-----------------+------+--------+---------+----------------+---------------+-----+-------------+--------+\n",
      "|Dự án The Empire ...| 84.0|     0.0|        0.0|             DB|               TB|     4|       0|        0|Have certificate|             NO|  8.6|     Hưng Yên|Chung cư|\n",
      "|Dự án The Crown -...| 60.0|     0.0|        0.0|             TN|                B|     5|       0|        0|   Sale contract|             NO|  7.5|     Hưng Yên|Chung cư|\n",
      "|Dự án The Crown -...| 90.0|     6.0|       13.0|             DB|               DB|     5|       0|        0|   Sale contract|             NO|  8.9|     Hưng Yên|Chung cư|\n",
      "|Đường Nguyễn Văn ...| 54.0|     0.0|        3.5|             TN|               TN|     2|       2|        3|Have certificate|           Full| 5.35|  Hồ Chí Minh|     Nhà|\n",
      "|Đường Quang Trung...| 92.0|     0.0|        0.0|             DN|               DN|     2|       4|        4|Have certificate|           Full|  6.9|  Hồ Chí Minh|     Nhà|\n",
      "|Dự án The Empire ...| 91.0|     7.0|       13.0|             TB|                D|     1|       0|        0|Have certificate|             NO|  9.8|     Hưng Yên|Chung cư|\n",
      "|Dự án The Empire ...| 64.0|     4.0|        0.0|             DB|                T|     5|       0|        0|   Sale contract|             NO|  7.2|     Hưng Yên|Chung cư|\n",
      "|Dự án Him Lam Thư...| 74.0|     5.0|       18.0|              N|                N|     5|       4|        5|Have certificate|             NO|  9.9|       Hà Nội|Chung cư|\n",
      "|Dự án The Empire ...| 48.0|     0.0|        0.0|              N|               DB|     5|       6|        0|   Sale contract|          Basic|  5.7|     Hưng Yên|Chung cư|\n",
      "|Dự án The Crown -...| 91.0|     7.0|        0.0|             DN|               DB|     5|       0|        0|Have certificate|             NO|  9.5|     Hưng Yên|Chung cư|\n",
      "|Dự án The Crown -...| 80.0|     5.0|       13.0|             DN|                B|     5|       6|        6|Have certificate|             NO| 10.0|     Hưng Yên|Chung cư|\n",
      "|Dự án The Crown -...| 70.0|     6.0|       13.0|             DN|                T|     5|       6|        0|   Sale contract|             NO|  9.8|     Hưng Yên|Chung cư|\n",
      "|Dự án The Crown -...| 60.0|     0.0|        0.0|              B|                T|     5|       0|        0|   Sale contract|             NO|  8.9|     Hưng Yên|Chung cư|\n",
      "|Dự án The Empire ...| 91.0|     0.0|        0.0|              B|               DB|     1|       0|        0|Have certificate|             NO|  8.6|     Hưng Yên|Chung cư|\n",
      "|Dự án The Empire ...| 96.0|     6.0|       13.0|             TB|                T|     4|       0|        0|   Sale contract|             NO|  9.6|     Hưng Yên|Chung cư|\n",
      "|Đường Phạm Văn Ch...| 30.0|     0.0|        0.0|             DN|                N|     2|       2|        2|Have certificate|           Full| 3.79|  Hồ Chí Minh|     Nhà|\n",
      "|Dự án Khu đô thị ...|300.0|    15.0|       32.0|              D|                N|     3|       6|        3|Have certificate|           Full|  9.4|   Quảng Ninh|Chung cư|\n",
      "|Dự án The Crown -...| 91.0|     7.0|       17.0|             DN|               DN|     1|       0|        0|   Sale contract|          Basic| 10.0|     Hưng Yên|Chung cư|\n",
      "|Dự án The Empire ...| 65.0|     5.0|       20.0|             DN|               DN|     5|       5|        4|   Sale contract|             NO|  7.8|     Hưng Yên|Chung cư|\n",
      "|Đường Quang Trung...| 46.0|     4.6|        6.0|             DN|               DN|     4|       4|        5|Have certificate|           Full| 7.99|  Hồ Chí Minh|     Nhà|\n",
      "+--------------------+-----+--------+-----------+---------------+-----------------+------+--------+---------+----------------+---------------+-----+-------------+--------+\n",
      "only showing top 20 rows\n"
     ]
    }
   ],
   "source": [
    "data.show()"
   ]
  }
 ],
 "metadata": {
  "kernelspec": {
   "display_name": "Python 3",
   "language": "python",
   "name": "python3"
  },
  "language_info": {
   "codemirror_mode": {
    "name": "ipython",
    "version": 3
   },
   "file_extension": ".py",
   "mimetype": "text/x-python",
   "name": "python",
   "nbconvert_exporter": "python",
   "pygments_lexer": "ipython3",
   "version": "3.10.0"
  }
 },
 "nbformat": 4,
 "nbformat_minor": 5
}
