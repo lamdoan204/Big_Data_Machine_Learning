{
 "cells": [
  {
   "cell_type": "markdown",
   "id": "5e26dd61",
   "metadata": {},
   "source": [
    "### 1. Chuẩn bị dữ liệu"
   ]
  },
  {
   "cell_type": "code",
   "execution_count": null,
   "id": "58819d52",
   "metadata": {},
   "outputs": [
    {
     "name": "stderr",
     "output_type": "stream",
     "text": [
      "25/10/17 13:46:37 WARN Utils: Your hostname, soaz resolves to a loopback address: 127.0.1.1; using 192.168.100.246 instead (on interface wlp0s20f3)\n",
      "25/10/17 13:46:37 WARN Utils: Set SPARK_LOCAL_IP if you need to bind to another address\n",
      "Setting default log level to \"WARN\".\n",
      "To adjust logging level use sc.setLogLevel(newLevel). For SparkR, use setLogLevel(newLevel).\n",
      "25/10/17 13:46:38 WARN NativeCodeLoader: Unable to load native-hadoop library for your platform... using builtin-java classes where applicable\n"
     ]
    }
   ],
   "source": [
    "from pyspark.sql import SparkSession\n",
    "from pyspark.sql.functions import col\n",
    "from pyspark.ml import Pipeline\n",
    "from pyspark.ml.feature import StringIndexer, OneHotEncoder, VectorAssembler, StandardScaler\n",
    "from pyspark.ml.regression import LinearRegression, DecisionTreeRegressor, RandomForestRegressor\n",
    "from pyspark.ml.evaluation import RegressionEvaluator\n",
    "from pyspark.ml.tuning import ParamGridBuilder, TrainValidationSplit\n",
    "\n",
    "spark = (\n",
    "    SparkSession.builder\n",
    "    .appName(\"RegressionModels\")\n",
    "    .getOrCreate()\n",
    ")"
   ]
  },
  {
   "cell_type": "code",
   "execution_count": 3,
   "id": "03c8a73b",
   "metadata": {},
   "outputs": [
    {
     "name": "stdout",
     "output_type": "stream",
     "text": [
      "📊 Dữ liệu ban đầu:\n",
      "+--------+---------------------+------------+------+---+----+----+------+\n",
      "|image_id|street               |citi        |n_citi|bed|bath|sqft|price |\n",
      "+--------+---------------------+------------+------+---+----+----+------+\n",
      "|1       |124 C Street W       |Brawley, CA |48    |3  |2   |713 |228500|\n",
      "|2       |2304 Clark Road      |Imperial, CA|152   |3  |1   |800 |273950|\n",
      "|3       |755 Brawley Avenue   |Brawley, CA |48    |3  |1   |1082|350000|\n",
      "|4       |2207 R Carrillo Court|Calexico, CA|55    |4  |3   |2547|385100|\n",
      "|6       |1100 CAMILIA Street  |Calexico, CA|55    |4  |3   |2769|415000|\n",
      "+--------+---------------------+------------+------+---+----+----+------+\n",
      "only showing top 5 rows\n",
      "\n",
      "root\n",
      " |-- image_id: integer (nullable = true)\n",
      " |-- street: string (nullable = true)\n",
      " |-- citi: string (nullable = true)\n",
      " |-- n_citi: integer (nullable = true)\n",
      " |-- bed: integer (nullable = true)\n",
      " |-- bath: integer (nullable = true)\n",
      " |-- sqft: integer (nullable = true)\n",
      " |-- price: integer (nullable = true)\n",
      "\n"
     ]
    }
   ],
   "source": [
    "from pyspark.sql.functions import col\n",
    "\n",
    "df = spark.read.csv('../../data/cleaned_data/data.csv', inferSchema= True, header= True)\n",
    "\n",
    "print(\"📊 Dữ liệu ban đầu:\")\n",
    "df.show(5, truncate=False)\n",
    "df.printSchema()\n"
   ]
  },
  {
   "cell_type": "markdown",
   "id": "23db8a22",
   "metadata": {},
   "source": [
    "### 2. Tiền xử lý dữ liệu và chuẩn bị features"
   ]
  },
  {
   "cell_type": "code",
   "execution_count": 4,
   "id": "5a614c9e",
   "metadata": {},
   "outputs": [],
   "source": [
    "from pyspark.sql.functions import regexp_replace\n",
    "\n",
    "df = df.withColumn(\"street\", regexp_replace(\"street\", \"^[^ ]+ \", \"\"))"
   ]
  },
  {
   "cell_type": "code",
   "execution_count": 5,
   "id": "1b1c7f98",
   "metadata": {},
   "outputs": [
    {
     "data": {
      "text/plain": [
       "DataFrame[street: string, count: bigint]"
      ]
     },
     "execution_count": 5,
     "metadata": {},
     "output_type": "execute_result"
    }
   ],
   "source": [
    "df.groupBy(\"street\").count().orderBy(col(\"count\").desc())\n"
   ]
  },
  {
   "cell_type": "code",
   "execution_count": 6,
   "id": "50d5d7e1",
   "metadata": {},
   "outputs": [
    {
     "name": "stdout",
     "output_type": "stream",
     "text": [
      "+----------------------+\n",
      "|count(DISTINCT street)|\n",
      "+----------------------+\n",
      "|                 10378|\n",
      "+----------------------+\n",
      "\n"
     ]
    }
   ],
   "source": [
    "from pyspark.sql.functions import countDistinct\n",
    "\n",
    "df.select(countDistinct(\"street\")).show()"
   ]
  },
  {
   "cell_type": "code",
   "execution_count": 7,
   "id": "6e0231cf",
   "metadata": {},
   "outputs": [],
   "source": [
    "\n",
    "# B1: Tính tần suất xuất hiện của mỗi street\n",
    "street_freq = df.groupBy(\"street\").count().withColumnRenamed(\"count\", \"street_frequency\")\n",
    "\n",
    "# B2: Join trở lại với DataFrame gốc\n",
    "df = df.join(street_freq, on=\"street\", how=\"left\")\n",
    "\n",
    "# B3: Thay cột street bằng tần suất\n",
    "df = df.withColumn(\"street\", col(\"street_frequency\")).drop(\"street_frequency\")"
   ]
  },
  {
   "cell_type": "code",
   "execution_count": 8,
   "id": "fcc0005b",
   "metadata": {},
   "outputs": [
    {
     "data": {
      "text/plain": [
       "DataFrame[citi: string, count: bigint]"
      ]
     },
     "execution_count": 8,
     "metadata": {},
     "output_type": "execute_result"
    }
   ],
   "source": [
    "df.groupBy(\"citi\").count().orderBy(col(\"count\").desc())"
   ]
  },
  {
   "cell_type": "code",
   "execution_count": 9,
   "id": "1bf59557",
   "metadata": {},
   "outputs": [
    {
     "name": "stdout",
     "output_type": "stream",
     "text": [
      "+--------------------+\n",
      "|count(DISTINCT citi)|\n",
      "+--------------------+\n",
      "|                 415|\n",
      "+--------------------+\n",
      "\n"
     ]
    }
   ],
   "source": [
    "df.select(countDistinct(\"citi\")).show()"
   ]
  },
  {
   "cell_type": "code",
   "execution_count": 10,
   "id": "a9fe02c4",
   "metadata": {},
   "outputs": [],
   "source": [
    "from pyspark.sql import DataFrame\n",
    "from pyspark.sql.functions import when, col\n",
    "\n",
    "def spark_get_dummies(df: DataFrame, column: str) -> DataFrame:\n",
    "    unique_values = [row[0] for row in df.select(column).distinct().collect()]\n",
    "    for val in unique_values:\n",
    "        df = df.withColumn(f\"{column}_{val}\", when(col(column) == val, 1).otherwise(0))\n",
    "    return df.drop(column)\n"
   ]
  },
  {
   "cell_type": "code",
   "execution_count": 11,
   "id": "b1d69699",
   "metadata": {},
   "outputs": [],
   "source": [
    "df = spark_get_dummies(df, \"citi\")\n"
   ]
  },
  {
   "cell_type": "code",
   "execution_count": null,
   "id": "d3add8b5",
   "metadata": {},
   "outputs": [],
   "source": [
    "cols = [c for c in df.columns if c != \"price\"] + [\"price\"]\n",
    "df = df.select(*cols)  \n",
    "                           "
   ]
  },
  {
   "cell_type": "code",
   "execution_count": 13,
   "id": "50a78d84",
   "metadata": {},
   "outputs": [
    {
     "name": "stderr",
     "output_type": "stream",
     "text": [
      "25/10/17 13:47:09 WARN SparkStringUtils: Truncated the string representation of a plan since it was too large. This behavior can be adjusted by setting 'spark.sql.debug.maxToStringFields'.\n"
     ]
    },
    {
     "name": "stdout",
     "output_type": "stream",
     "text": [
      "+------+--------+------+---+----+----+---------------+---------------+----------------+----------------+----------------------+------------------------+--------------+---------------------+--------------------+-----------------+---------------------+-----------------+---------------------+--------------------+------------------+-----------------------+-------------------+------------------------+-------------------+------------------+---------------------+------------------------+----------------+---------------+----------------+-------------------+-------------------+--------------------+------------------------+-------------------+--------------+----------------+------------------+---------------------+-------------------+-----------------+------------------+-----------------+----------------+--------------------+---------------+-----------------+----------------------+-------------------+---------------------+-------------------------+----------------+-----------------------------+--------------------+--------------------+--------------------+--------------------+------------------+-------------------+------------------+----------------+------------------+------------------+------------------------+------------------+--------------------+----------------------+---------------------+---------------+---------------------+---------------+-------------------------+-------------+-------------------+----------------------+----------------------+---------------+------------------+----------------------+-----------------------+--------------------+-----------------+-----------------+----------------+------------------+---------------------+-------------------+--------------------+--------------------+-----------------+---------------+------------------------+--------------+----------------+-------------------+-----------------+------------------+----------------+----------------+--------------------+---------------------+------------------------+----------------------+----------------+-----------------+--------------+----------------------+----------------------+------------------------+----------------+---------------------+------------------------+----------------------+-----------------------+----------------------+----------------+--------------------+----------------------+------------------+-------------------+-------------------------+--------------+---------------------+--------------------+--------------+------------------+-----------------+---------------+-----------------+-------------------------+--------------+----------------------+---------------+-----------------------+-----------------------+-----------------+------------------------+---------------+-----------------------+------------------------+--------------------+----------------------+-------------------+-------------------+---------------------+---------------------+----------------+---------------------+---------------------+---------------------+----------------+-----------------+-------------------+---------------+--------------------+--------------------+---------------+-----------------+--------------+--------------+-----------------+----------------+------------------+----------------------+------------------+--------------------+-------------------------+--------------------+---------------+-----------------+-----------------+----------------+---------------+----------------+-----------------+-----------------+--------------------+-----------------+--------------------+--------------+----------------------+-----------------+------------------------+-------------------------+----------------------+------------------+-------------------+--------------------+-------------------+----------------+------------------+-----------------------+---------------------+-----------------+---------------------+---------------------+-------------------------------+-------------------+---------------------+---------------+----------------------+----------------------+-----------------------+---------------------+-----------------+---------------+--------------------+------------------+--------------------+--------------------+----------------+----------------------+--------------+---------------------+------------------+------------------+----------------+-------------------------+-----------------+-----------------+------------------+-----------------+-----------------+----------------+---------------------+--------------+--------------------+-----------------------+-------------+------------------+--------------------+---------------------------+-----------------------+-------------------+---------------------+-----------------+-----------------+--------------------+--------------------+------------------+------------------+---------------------+------------------+-------------------+------------------+-------------------+------------------+-----------------------+----------------+----------------+------------------+----------------+--------------------+-----------------+---------------+--------------------+---------------+-----------------------+-----------------+-----------------------+---------------+-------------------------+-------------------------+--------------+-----------------------+---------------+--------------+--------------------+-------------------+--------------------+------------------+--------------------+-----------------+--------------------+------------------+---------------------------+-----------------+---------------+--------------------------+----------------------+--------------------+----------------------+----------------+-----------------+----------------+----------------------+---------------------+---------------+-----------------+----------------------+------------------+------------------+---------------+---------------------+----------------+---------------+-----------------+------------------+----------------+--------------+------------------+---------------+-----------------+--------------------+-----------------+----------------+---------------+------------------+-------------------------+------------------+---------------+-------------+-------------------------+----------------+-----------------------+------------------------+---------------------+--------------------------+----------------+-----------------+------------------+-------------------+---------------+--------------+--------------------+----------------------+-----------------+-----------------------+------------------------+-----------------+----------------------+----------------+---------------+----------------------+-------------+----------------------------+---------------------+-----------------+-----------------------------+--------------------+-----------------+------------------+-----------------------+----------------+-------------+----------------------+---------------+-------------------+-------------------+--------------------+----------------------------+---------------+---------------------------+--------------------+------------------+------------------+-------------------+----------------+-----------------+-------------------+---------------+-----------------+-----------------+------------------+------------------+--------------------+------------------+--------------------+-----------------+----------------+----------------+-----------------+-------------------+--------------------+-----------------+-------------------+---------------------------+------------------------+----------------------+----------------+----------------------------+---------------------+-----------------------+---------------+-----------------+-----------------------+-------------------+----------------------+----------------------+-----------------+---------------------+-------------------+-----------------+---------------+---------------+-----------------+-----------------+---------------------+-------------------------+----------------+------------------+------------------------+-----------------+----------------+----------------+------------------+-----------------+---------------+-------------------+------------------+--------------------+-----------------+-----------------+-------------------+--------------+-----------------+---------------------+---------------+-------------------------+----------------------+------+\n",
      "|street|image_id|n_citi|bed|bath|sqft|citi_Mojave, CA|citi_Gorman, CA|citi_Ontario, CA|citi_Creston, CA|citi_Rancho Mirage, CA|citi_Stevenson Ranch, CA|citi_Hemet, CA|citi_Palm Springs, CA|citi_Santa Paula, CA|citi_Altadena, CA|citi_Bell Gardens, CA|citi_La Habra, CA|citi_La Crescenta, CA|citi_Salton City, CA|citi_Los Feliz, CA|citi_West Hollywood, CA|citi_Costa Mesa, CA|citi_Wofford Heights, CA|citi_Montebello, CA|citi_Rimforest, CA|citi_North Tustin, CA|citi_North Hollywood, CA|citi_Compton, CA|citi_Saugus, CA|citi_Barstow, CA|citi_South Gate, CA|citi_Loma Linda, CA|citi_Lemon Grove, CA|citi_Fountain Valley, CA|citi_Cedar Glen, CA|citi_Jamul, CA|citi_Bonsall, CA|citi_Hawthorne, CA|citi_San Fernando, CA|citi_Seal Beach, CA|citi_Big Bear, CA|citi_San Dimas, CA|citi_Cerritos, CA|citi_Aguanga, CA|citi_Bakersfield, CA|citi_Walnut, CA|citi_Pasadena, CA|citi_Anaheim Hills, CA|citi_Oro Grande, CA|citi_Santa Ysabel, CA|citi_Lake Los Angeles, CA|citi_Needles, CA|citi_La Canada Flintridge, CA|citi_West Covina, CA|citi_Ocean Beach, CA|citi_Victorville, CA|citi_Studio City, CA|citi_Montecito, CA|citi_Atascadero, CA|citi_Hollywood, CA|citi_Cabazon, CA|citi_Crestline, CA|citi_Parkfield, CA|citi_California City, CA|citi_Silverado, CA|citi_Pine Valley, CA|citi_Lake Sherwood, CA|citi_Port Hueneme, CA|citi_Downey, CA|citi_Laguna Woods, CA|citi_Covina, CA|citi_Stallion Springs, CA|citi_Piru, CA|citi_El Segundo, CA|citi_Mission Hills, CA|citi_Redondo Beach, CA|citi_Upland, CA|citi_Alta Loma, CA|citi_Big Bear City, CA|citi_Canyon Country, CA|citi_Pearblossom, CA|citi_Lawndale, CA|citi_Moorpark, CA|citi_Tarzana, CA|citi_La Puente, CA|citi_Baldwin Park, CA|citi_Ridgecrest, CA|citi_Toluca Lake, CA|citi_Yorba Linda, CA|citi_Homeland, CA|citi_Venice, CA|citi_Modjeska Canyon, CA|citi_Nuevo, CA|citi_Mentone, CA|citi_Sun Valley, CA|citi_La Verne, CA|citi_Fullerton, CA|citi_La Mesa, CA|citi_Jacumba, CA|citi_Temple City, CA|citi_Grover Beach, CA|citi_Cedarpines Park, CA|citi_Valley Center, CA|citi_Shandon, CA|citi_Monrovia, CA|citi_Campo, CA|citi_Cherry Valley, CA|citi_Spring Valley, CA|citi_Mountain Center, CA|citi_Thermal, CA|citi_Los Alamitos, CA|citi_Rancho Bernardo, CA|citi_Hermosa Beach, CA|citi_South El Monte, CA|citi_Moreno Valley, CA|citi_Brawley, CA|citi_Joshua Tree, CA|citi_Pacific Beach, CA|citi_Templeton, CA|citi_Eagle Rock, CA|citi_Hacienda Heights, CA|citi_Norco, CA|citi_Apple Valley, CA|citi_Carpinteria, CA|citi_Acton, CA|citi_La Mirada, CA|citi_Murrieta, CA|citi_Phelan, CA|citi_Calexico, CA|citi_Santa Fe Springs, CA|citi_Chino, CA|citi_Santa Clarita, CA|citi_Blythe, CA|citi_Lucerne Valley, CA|citi_Warner Springs, CA|citi_Belltown, CA|citi_Rancho Santa Fe, CA|citi_Nipomo, CA|citi_Lake Elizabeth, CA|citi_Huntington Park, CA|citi_Pico Rivera, CA|citi_Highland Park, CA|citi_Whitewater, CA|citi_New Cuyama, CA|citi_Porter Ranch, CA|citi_Shadow Hills, CA|citi_Norwalk, CA|citi_Yucca Valley, CA|citi_Forest Falls, CA|citi_Solana Beach, CA|citi_Cayucos, CA|citi_Lakewood, CA|citi_Wrightwood, CA|citi_Encino, CA|citi_Los Angeles, CA|citi_North Hills, CA|citi_Corona, CA|citi_Buellton, CA|citi_Somis, CA|citi_Lebec, CA|citi_Carlsbad, CA|citi_Dulzura, CA|citi_Claremont, CA|citi_Lake Elsinore, CA|citi_Camarillo, CA|citi_Valley Glen, CA|citi_Rancho Cucamonga, CA|citi_San Gabriel, CA|citi_Malibu, CA|citi_Palmdale, CA|citi_Calimesa, CA|citi_Lynwood, CA|citi_Ramona, CA|citi_Newhall, CA|citi_Rosamond, CA|citi_Highland, CA|citi_Canyon Lake, CA|citi_Caliente, CA|citi_Diamond Bar, CA|citi_Indio, CA|citi_National City, CA|citi_Torrance, CA|citi_Rowland Heights, CA|citi_Lakeview Terrace, CA|citi_Arroyo Grande, CA|citi_Tehachapi, CA|citi_Littlerock, CA|citi_Westminster, CA|citi_Villa Park, CA|citi_Cypress, CA|citi_San Diego, CA|citi_South Pasadena, CA|citi_Leona Valley, CA|citi_Rosemead, CA|citi_Newbury Park, CA|citi_Frazier Park, CA|citi_Rancho Santa Margarita, CA|citi_San Marcos, CA|citi_Green Valley, CA|citi_Carson, CA|citi_Newport Coast, CA|citi_Grand Terrace, CA|citi_Valley Village, CA|citi_Laguna Hills, CA|citi_Winnetka, CA|citi_Tustin, CA|citi_Pinon Hills, CA|citi_Oceanside, CA|citi_Palm Desert, CA|citi_Paso Robles, CA|citi_Tujunga, CA|citi_Mission Viejo, CA|citi_Arvin, CA|citi_Santa Monica, CA|citi_Idyllwild, CA|citi_Boulevard, CA|citi_Potrero, CA|citi_Newberry Springs, CA|citi_Oak Glen, CA|citi_Blue Jay, CA|citi_Oak Hills, CA|citi_Van Nuys, CA|citi_Wildomar, CA|citi_Solvang, CA|citi_Sierra Madre, CA|citi_Poway, CA|citi_Lake Hughes, CA|citi_Phillips Ranch, CA|citi_Brea, CA|citi_San Pedro, CA|citi_Pismo Beach, CA|citi_Vandenberg Village, CA|citi_Woodland Hills, CA|citi_San Marino, CA|citi_Indian Wells, CA|citi_Lakeside, CA|citi_Fillmore, CA|citi_San Jacinto, CA|citi_Lake Forest, CA|citi_Coachella, CA|citi_Morro Bay, CA|citi_Garden Grove, CA|citi_Placentia, CA|citi_Los Alamos, CA|citi_El Mirage, CA|citi_Santa Ynez, CA|citi_Kernville, CA|citi_Thousand Palms, CA|citi_Anaheim, CA|citi_Ventura, CA|citi_Riverside, CA|citi_Cardiff, CA|citi_Santa Maria, CA|citi_La Palma, CA|citi_Oxnard, CA|citi_Quartz Hill, CA|citi_Arleta, CA|citi_Paradise Hills, CA|citi_Los Osos, CA|citi_Corona del Mar, CA|citi_Irvine, CA|citi_Palomar Mountain, CA|citi_Westlake Village, CA|citi_Azusa, CA|citi_San Bernardino, CA|citi_Delano, CA|citi_Llano, CA|citi_Canoga Park, CA|citi_Wilmington, CA|citi_Lake Balboa, CA|citi_Sugarloaf, CA|citi_Simi Valley, CA|citi_El Monte, CA|citi_Pioneertown, CA|citi_Big River, CA|citi_Cardiff by the Sea, CA|citi_Glendale, CA|citi_Duarte, CA|citi_Green Valley Lake, CA|citi_Monterey Park, CA|citi_Harbor City, CA|citi_Santa Barbara, CA|citi_Banning, CA|citi_Redlands, CA|citi_Arcadia, CA|citi_Bermuda Dunes, CA|citi_Angelus Oaks, CA|citi_Bonita, CA|citi_Glendora, CA|citi_Panorama City, CA|citi_Guadalupe, CA|citi_Helendale, CA|citi_Cuyama, CA|citi_Coto de Caza, CA|citi_Pacoima, CA|citi_Oceano, CA|citi_Oak Park, CA|citi_Val Verde, CA|citi_Fontana, CA|citi_Vista, CA|citi_View Park, CA|citi_Perris, CA|citi_Descanso, CA|citi_La Conchita, CA|citi_Hesperia, CA|citi_Del Mar, CA|citi_Santee, CA|citi_Inglewood, CA|citi_East Los Angeles, CA|citi_Calabasas, CA|citi_Orange, CA|citi_Anza, CA|citi_Hawaiian Gardens, CA|citi_Artesia, CA|citi_Morongo Valley, CA|citi_Santa Margarita, CA|citi_Agoura Hills, CA|citi_Pacific Palisades, CA|citi_Menifee, CA|citi_Sun City, CA|citi_Mira Loma, CA|citi_Twin Peaks, CA|citi_Lompoc, CA|citi_Boron, CA|citi_Culver City, CA|citi_Laguna Niguel, CA|citi_Beaumont, CA|citi_Lake Arrowhead, CA|citi_Running Springs, CA|citi_Whittier, CA|citi_Playa del Rey, CA|citi_Topanga, CA|citi_Alpine, CA|citi_Beverly Hills, CA|citi_Bell, CA|citi_San Juan Capistrano, CA|citi_San Clemente, CA|citi_La Jolla, CA|citi_Palos Verdes Estates, CA|citi_Bloomington, CA|citi_El Cajon, CA|citi_Encinitas, CA|citi_Cathedral City, CA|citi_Yucaipa, CA|citi_Ojai, CA|citi_Newport Beach, CA|citi_Rialto, CA|citi_Long Beach, CA|citi_Chatsworth, CA|citi_Avila Beach, CA|citi_Rancho Palos Verdes, CA|citi_Reseda, CA|citi_Pine Mountain Club, CA|citi_Westchester, CA|citi_Lancaster, CA|citi_Paramount, CA|citi_West Hills, CA|citi_Gardena, CA|citi_Montrose, CA|citi_Winchester, CA|citi_Colton, CA|citi_Imperial, CA|citi_Rossmoor, CA|citi_Santa Ana, CA|citi_Montclair, CA|citi_Chula Vista, CA|citi_Fallbrook, CA|citi_Midway City, CA|citi_Temecula, CA|citi_Cambria, CA|citi_Sunland, CA|citi_Mt Baldy, CA|citi_Buena Park, CA|citi_Aliso Viejo, CA|citi_Ranchita, CA|citi_Dana Point, CA|citi_Desert Hot Springs, CA|citi_Borrego Springs, CA|citi_Thousand Oaks, CA|citi_Stanton, CA|citi_Bear Valley Springs, CA|citi_Sherman Oaks, CA|citi_Trabuco Canyon, CA|citi_Lomita, CA|citi_Adelanto, CA|citi_Imperial Beach, CA|citi_Northridge, CA|citi_Juniper Hills, CA|citi_Granada Hills, CA|citi_Valencia, CA|citi_Pauma Valley, CA|citi_Agua Dulce, CA|citi_Coronado, CA|citi_Julian, CA|citi_Sylmar, CA|citi_Romoland, CA|citi_Commerce, CA|citi_Laguna Beach, CA|citi_La Habra Heights, CA|citi_Landers, CA|citi_Escondido, CA|citi_San Luis Obispo, CA|citi_Oak View, CA|citi_Castaic, CA|citi_Burbank, CA|citi_La Quinta, CA|citi_29 Palms, CA|citi_Pomona, CA|citi_San Miguel, CA|citi_Echo Park, CA|citi_Chino Hills, CA|citi_Fawnskin, CA|citi_Inyokern, CA|citi_Bellflower, CA|citi_Keene, CA|citi_Alhambra, CA|citi_Ladera Ranch, CA|citi_Goleta, CA|citi_Huntington Beach, CA|citi_Big Bear Lake, CA|price |\n",
      "+------+--------+------+---+----+----+---------------+---------------+----------------+----------------+----------------------+------------------------+--------------+---------------------+--------------------+-----------------+---------------------+-----------------+---------------------+--------------------+------------------+-----------------------+-------------------+------------------------+-------------------+------------------+---------------------+------------------------+----------------+---------------+----------------+-------------------+-------------------+--------------------+------------------------+-------------------+--------------+----------------+------------------+---------------------+-------------------+-----------------+------------------+-----------------+----------------+--------------------+---------------+-----------------+----------------------+-------------------+---------------------+-------------------------+----------------+-----------------------------+--------------------+--------------------+--------------------+--------------------+------------------+-------------------+------------------+----------------+------------------+------------------+------------------------+------------------+--------------------+----------------------+---------------------+---------------+---------------------+---------------+-------------------------+-------------+-------------------+----------------------+----------------------+---------------+------------------+----------------------+-----------------------+--------------------+-----------------+-----------------+----------------+------------------+---------------------+-------------------+--------------------+--------------------+-----------------+---------------+------------------------+--------------+----------------+-------------------+-----------------+------------------+----------------+----------------+--------------------+---------------------+------------------------+----------------------+----------------+-----------------+--------------+----------------------+----------------------+------------------------+----------------+---------------------+------------------------+----------------------+-----------------------+----------------------+----------------+--------------------+----------------------+------------------+-------------------+-------------------------+--------------+---------------------+--------------------+--------------+------------------+-----------------+---------------+-----------------+-------------------------+--------------+----------------------+---------------+-----------------------+-----------------------+-----------------+------------------------+---------------+-----------------------+------------------------+--------------------+----------------------+-------------------+-------------------+---------------------+---------------------+----------------+---------------------+---------------------+---------------------+----------------+-----------------+-------------------+---------------+--------------------+--------------------+---------------+-----------------+--------------+--------------+-----------------+----------------+------------------+----------------------+------------------+--------------------+-------------------------+--------------------+---------------+-----------------+-----------------+----------------+---------------+----------------+-----------------+-----------------+--------------------+-----------------+--------------------+--------------+----------------------+-----------------+------------------------+-------------------------+----------------------+------------------+-------------------+--------------------+-------------------+----------------+------------------+-----------------------+---------------------+-----------------+---------------------+---------------------+-------------------------------+-------------------+---------------------+---------------+----------------------+----------------------+-----------------------+---------------------+-----------------+---------------+--------------------+------------------+--------------------+--------------------+----------------+----------------------+--------------+---------------------+------------------+------------------+----------------+-------------------------+-----------------+-----------------+------------------+-----------------+-----------------+----------------+---------------------+--------------+--------------------+-----------------------+-------------+------------------+--------------------+---------------------------+-----------------------+-------------------+---------------------+-----------------+-----------------+--------------------+--------------------+------------------+------------------+---------------------+------------------+-------------------+------------------+-------------------+------------------+-----------------------+----------------+----------------+------------------+----------------+--------------------+-----------------+---------------+--------------------+---------------+-----------------------+-----------------+-----------------------+---------------+-------------------------+-------------------------+--------------+-----------------------+---------------+--------------+--------------------+-------------------+--------------------+------------------+--------------------+-----------------+--------------------+------------------+---------------------------+-----------------+---------------+--------------------------+----------------------+--------------------+----------------------+----------------+-----------------+----------------+----------------------+---------------------+---------------+-----------------+----------------------+------------------+------------------+---------------+---------------------+----------------+---------------+-----------------+------------------+----------------+--------------+------------------+---------------+-----------------+--------------------+-----------------+----------------+---------------+------------------+-------------------------+------------------+---------------+-------------+-------------------------+----------------+-----------------------+------------------------+---------------------+--------------------------+----------------+-----------------+------------------+-------------------+---------------+--------------+--------------------+----------------------+-----------------+-----------------------+------------------------+-----------------+----------------------+----------------+---------------+----------------------+-------------+----------------------------+---------------------+-----------------+-----------------------------+--------------------+-----------------+------------------+-----------------------+----------------+-------------+----------------------+---------------+-------------------+-------------------+--------------------+----------------------------+---------------+---------------------------+--------------------+------------------+------------------+-------------------+----------------+-----------------+-------------------+---------------+-----------------+-----------------+------------------+------------------+--------------------+------------------+--------------------+-----------------+----------------+----------------+-----------------+-------------------+--------------------+-----------------+-------------------+---------------------------+------------------------+----------------------+----------------+----------------------------+---------------------+-----------------------+---------------+-----------------+-----------------------+-------------------+----------------------+----------------------+-----------------+---------------------+-------------------+-----------------+---------------+---------------+-----------------+-----------------+---------------------+-------------------------+----------------+------------------+------------------------+-----------------+----------------+----------------+------------------+-----------------+---------------+-------------------+------------------+--------------------+-----------------+-----------------+-------------------+--------------+-----------------+---------------------+---------------+-------------------------+----------------------+------+\n",
      "|1     |1       |48    |3  |2   |713 |0              |0              |0               |0               |0                     |0                       |0             |0                    |0                   |0                |0                    |0                |0                    |0                   |0                 |0                      |0                  |0                       |0                  |0                 |0                    |0                       |0               |0              |0               |0                  |0                  |0                   |0                       |0                  |0             |0               |0                 |0                    |0                  |0                |0                 |0                |0               |0                   |0              |0                |0                     |0                  |0                    |0                        |0               |0                            |0                   |0                   |0                   |0                   |0                 |0                  |0                 |0               |0                 |0                 |0                       |0                 |0                   |0                     |0                    |0              |0                    |0              |0                        |0            |0                  |0                     |0                     |0              |0                 |0                     |0                      |0                   |0                |0                |0               |0                 |0                    |0                  |0                   |0                   |0                |0              |0                       |0             |0               |0                  |0                |0                 |0               |0               |0                   |0                    |0                       |0                     |0               |0                |0             |0                     |0                     |0                       |0               |0                    |0                       |0                     |0                      |0                     |1               |0                   |0                     |0                 |0                  |0                        |0             |0                    |0                   |0             |0                 |0                |0              |0                |0                        |0             |0                     |0              |0                      |0                      |0                |0                       |0              |0                      |0                       |0                   |0                     |0                  |0                  |0                    |0                    |0               |0                    |0                    |0                    |0               |0                |0                  |0              |0                   |0                   |0              |0                |0             |0             |0                |0               |0                 |0                     |0                 |0                   |0                        |0                   |0              |0                |0                |0               |0              |0               |0                |0                |0                   |0                |0                   |0             |0                     |0                |0                       |0                        |0                     |0                 |0                  |0                   |0                  |0               |0                 |0                      |0                    |0                |0                    |0                    |0                              |0                  |0                    |0              |0                     |0                     |0                      |0                    |0                |0              |0                   |0                 |0                   |0                   |0               |0                     |0             |0                    |0                 |0                 |0               |0                        |0                |0                |0                 |0                |0                |0               |0                    |0             |0                   |0                      |0            |0                 |0                   |0                          |0                      |0                  |0                    |0                |0                |0                   |0                   |0                 |0                 |0                    |0                 |0                  |0                 |0                  |0                 |0                      |0               |0               |0                 |0               |0                   |0                |0              |0                   |0              |0                      |0                |0                      |0              |0                        |0                        |0             |0                      |0              |0             |0                   |0                  |0                   |0                 |0                   |0                |0                   |0                 |0                          |0                |0              |0                         |0                     |0                   |0                     |0               |0                |0               |0                     |0                    |0              |0                |0                     |0                 |0                 |0              |0                    |0               |0              |0                |0                 |0               |0             |0                 |0              |0                |0                   |0                |0               |0              |0                 |0                        |0                 |0              |0            |0                        |0               |0                      |0                       |0                    |0                         |0               |0                |0                 |0                  |0              |0             |0                   |0                     |0                |0                      |0                       |0                |0                     |0               |0              |0                     |0            |0                           |0                    |0                |0                            |0                   |0                |0                 |0                      |0               |0            |0                     |0              |0                  |0                  |0                   |0                           |0              |0                          |0                   |0                 |0                 |0                  |0               |0                |0                  |0              |0                |0                |0                 |0                 |0                   |0                 |0                   |0                |0               |0               |0                |0                  |0                   |0                |0                  |0                          |0                       |0                     |0               |0                           |0                    |0                      |0              |0                |0                      |0                  |0                     |0                     |0                |0                    |0                  |0                |0              |0              |0                |0                |0                    |0                        |0               |0                 |0                       |0                |0               |0               |0                 |0                |0              |0                  |0                 |0                   |0                |0                |0                  |0             |0                |0                    |0              |0                        |0                     |228500|\n",
      "|1     |2       |152   |3  |1   |800 |0              |0              |0               |0               |0                     |0                       |0             |0                    |0                   |0                |0                    |0                |0                    |0                   |0                 |0                      |0                  |0                       |0                  |0                 |0                    |0                       |0               |0              |0               |0                  |0                  |0                   |0                       |0                  |0             |0               |0                 |0                    |0                  |0                |0                 |0                |0               |0                   |0              |0                |0                     |0                  |0                    |0                        |0               |0                            |0                   |0                   |0                   |0                   |0                 |0                  |0                 |0               |0                 |0                 |0                       |0                 |0                   |0                     |0                    |0              |0                    |0              |0                        |0            |0                  |0                     |0                     |0              |0                 |0                     |0                      |0                   |0                |0                |0               |0                 |0                    |0                  |0                   |0                   |0                |0              |0                       |0             |0               |0                  |0                |0                 |0               |0               |0                   |0                    |0                       |0                     |0               |0                |0             |0                     |0                     |0                       |0               |0                    |0                       |0                     |0                      |0                     |0               |0                   |0                     |0                 |0                  |0                        |0             |0                    |0                   |0             |0                 |0                |0              |0                |0                        |0             |0                     |0              |0                      |0                      |0                |0                       |0              |0                      |0                       |0                   |0                     |0                  |0                  |0                    |0                    |0               |0                    |0                    |0                    |0               |0                |0                  |0              |0                   |0                   |0              |0                |0             |0             |0                |0               |0                 |0                     |0                 |0                   |0                        |0                   |0              |0                |0                |0               |0              |0               |0                |0                |0                   |0                |0                   |0             |0                     |0                |0                       |0                        |0                     |0                 |0                  |0                   |0                  |0               |0                 |0                      |0                    |0                |0                    |0                    |0                              |0                  |0                    |0              |0                     |0                     |0                      |0                    |0                |0              |0                   |0                 |0                   |0                   |0               |0                     |0             |0                    |0                 |0                 |0               |0                        |0                |0                |0                 |0                |0                |0               |0                    |0             |0                   |0                      |0            |0                 |0                   |0                          |0                      |0                  |0                    |0                |0                |0                   |0                   |0                 |0                 |0                    |0                 |0                  |0                 |0                  |0                 |0                      |0               |0               |0                 |0               |0                   |0                |0              |0                   |0              |0                      |0                |0                      |0              |0                        |0                        |0             |0                      |0              |0             |0                   |0                  |0                   |0                 |0                   |0                |0                   |0                 |0                          |0                |0              |0                         |0                     |0                   |0                     |0               |0                |0               |0                     |0                    |0              |0                |0                     |0                 |0                 |0              |0                    |0               |0              |0                |0                 |0               |0             |0                 |0              |0                |0                   |0                |0               |0              |0                 |0                        |0                 |0              |0            |0                        |0               |0                      |0                       |0                    |0                         |0               |0                |0                 |0                  |0              |0             |0                   |0                     |0                |0                      |0                       |0                |0                     |0               |0              |0                     |0            |0                           |0                    |0                |0                            |0                   |0                |0                 |0                      |0               |0            |0                     |0              |0                  |0                  |0                   |0                           |0              |0                          |0                   |0                 |0                 |0                  |0               |0                |0                  |0              |1                |0                |0                 |0                 |0                   |0                 |0                   |0                |0               |0               |0                |0                  |0                   |0                |0                  |0                          |0                       |0                     |0               |0                           |0                    |0                      |0              |0                |0                      |0                  |0                     |0                     |0                |0                    |0                  |0                |0              |0              |0                |0                |0                    |0                        |0               |0                 |0                       |0                |0               |0               |0                 |0                |0              |0                  |0                 |0                   |0                |0                |0                  |0             |0                |0                    |0              |0                        |0                     |273950|\n",
      "|1     |3       |48    |3  |1   |1082|0              |0              |0               |0               |0                     |0                       |0             |0                    |0                   |0                |0                    |0                |0                    |0                   |0                 |0                      |0                  |0                       |0                  |0                 |0                    |0                       |0               |0              |0               |0                  |0                  |0                   |0                       |0                  |0             |0               |0                 |0                    |0                  |0                |0                 |0                |0               |0                   |0              |0                |0                     |0                  |0                    |0                        |0               |0                            |0                   |0                   |0                   |0                   |0                 |0                  |0                 |0               |0                 |0                 |0                       |0                 |0                   |0                     |0                    |0              |0                    |0              |0                        |0            |0                  |0                     |0                     |0              |0                 |0                     |0                      |0                   |0                |0                |0               |0                 |0                    |0                  |0                   |0                   |0                |0              |0                       |0             |0               |0                  |0                |0                 |0               |0               |0                   |0                    |0                       |0                     |0               |0                |0             |0                     |0                     |0                       |0               |0                    |0                       |0                     |0                      |0                     |1               |0                   |0                     |0                 |0                  |0                        |0             |0                    |0                   |0             |0                 |0                |0              |0                |0                        |0             |0                     |0              |0                      |0                      |0                |0                       |0              |0                      |0                       |0                   |0                     |0                  |0                  |0                    |0                    |0               |0                    |0                    |0                    |0               |0                |0                  |0              |0                   |0                   |0              |0                |0             |0             |0                |0               |0                 |0                     |0                 |0                   |0                        |0                   |0              |0                |0                |0               |0              |0               |0                |0                |0                   |0                |0                   |0             |0                     |0                |0                       |0                        |0                     |0                 |0                  |0                   |0                  |0               |0                 |0                      |0                    |0                |0                    |0                    |0                              |0                  |0                    |0              |0                     |0                     |0                      |0                    |0                |0              |0                   |0                 |0                   |0                   |0               |0                     |0             |0                    |0                 |0                 |0               |0                        |0                |0                |0                 |0                |0                |0               |0                    |0             |0                   |0                      |0            |0                 |0                   |0                          |0                      |0                  |0                    |0                |0                |0                   |0                   |0                 |0                 |0                    |0                 |0                  |0                 |0                  |0                 |0                      |0               |0               |0                 |0               |0                   |0                |0              |0                   |0              |0                      |0                |0                      |0              |0                        |0                        |0             |0                      |0              |0             |0                   |0                  |0                   |0                 |0                   |0                |0                   |0                 |0                          |0                |0              |0                         |0                     |0                   |0                     |0               |0                |0               |0                     |0                    |0              |0                |0                     |0                 |0                 |0              |0                    |0               |0              |0                |0                 |0               |0             |0                 |0              |0                |0                   |0                |0               |0              |0                 |0                        |0                 |0              |0            |0                        |0               |0                      |0                       |0                    |0                         |0               |0                |0                 |0                  |0              |0             |0                   |0                     |0                |0                      |0                       |0                |0                     |0               |0              |0                     |0            |0                           |0                    |0                |0                            |0                   |0                |0                 |0                      |0               |0            |0                     |0              |0                  |0                  |0                   |0                           |0              |0                          |0                   |0                 |0                 |0                  |0               |0                |0                  |0              |0                |0                |0                 |0                 |0                   |0                 |0                   |0                |0               |0               |0                |0                  |0                   |0                |0                  |0                          |0                       |0                     |0               |0                           |0                    |0                      |0              |0                |0                      |0                  |0                     |0                     |0                |0                    |0                  |0                |0              |0              |0                |0                |0                    |0                        |0               |0                 |0                       |0                |0               |0               |0                 |0                |0              |0                  |0                 |0                   |0                |0                |0                  |0             |0                |0                    |0              |0                        |0                     |350000|\n",
      "|1     |4       |55    |4  |3   |2547|0              |0              |0               |0               |0                     |0                       |0             |0                    |0                   |0                |0                    |0                |0                    |0                   |0                 |0                      |0                  |0                       |0                  |0                 |0                    |0                       |0               |0              |0               |0                  |0                  |0                   |0                       |0                  |0             |0               |0                 |0                    |0                  |0                |0                 |0                |0               |0                   |0              |0                |0                     |0                  |0                    |0                        |0               |0                            |0                   |0                   |0                   |0                   |0                 |0                  |0                 |0               |0                 |0                 |0                       |0                 |0                   |0                     |0                    |0              |0                    |0              |0                        |0            |0                  |0                     |0                     |0              |0                 |0                     |0                      |0                   |0                |0                |0               |0                 |0                    |0                  |0                   |0                   |0                |0              |0                       |0             |0               |0                  |0                |0                 |0               |0               |0                   |0                    |0                       |0                     |0               |0                |0             |0                     |0                     |0                       |0               |0                    |0                       |0                     |0                      |0                     |0               |0                   |0                     |0                 |0                  |0                        |0             |0                    |0                   |0             |0                 |0                |0              |1                |0                        |0             |0                     |0              |0                      |0                      |0                |0                       |0              |0                      |0                       |0                   |0                     |0                  |0                  |0                    |0                    |0               |0                    |0                    |0                    |0               |0                |0                  |0              |0                   |0                   |0              |0                |0             |0             |0                |0               |0                 |0                     |0                 |0                   |0                        |0                   |0              |0                |0                |0               |0              |0               |0                |0                |0                   |0                |0                   |0             |0                     |0                |0                       |0                        |0                     |0                 |0                  |0                   |0                  |0               |0                 |0                      |0                    |0                |0                    |0                    |0                              |0                  |0                    |0              |0                     |0                     |0                      |0                    |0                |0              |0                   |0                 |0                   |0                   |0               |0                     |0             |0                    |0                 |0                 |0               |0                        |0                |0                |0                 |0                |0                |0               |0                    |0             |0                   |0                      |0            |0                 |0                   |0                          |0                      |0                  |0                    |0                |0                |0                   |0                   |0                 |0                 |0                    |0                 |0                  |0                 |0                  |0                 |0                      |0               |0               |0                 |0               |0                   |0                |0              |0                   |0              |0                      |0                |0                      |0              |0                        |0                        |0             |0                      |0              |0             |0                   |0                  |0                   |0                 |0                   |0                |0                   |0                 |0                          |0                |0              |0                         |0                     |0                   |0                     |0               |0                |0               |0                     |0                    |0              |0                |0                     |0                 |0                 |0              |0                    |0               |0              |0                |0                 |0               |0             |0                 |0              |0                |0                   |0                |0               |0              |0                 |0                        |0                 |0              |0            |0                        |0               |0                      |0                       |0                    |0                         |0               |0                |0                 |0                  |0              |0             |0                   |0                     |0                |0                      |0                       |0                |0                     |0               |0              |0                     |0            |0                           |0                    |0                |0                            |0                   |0                |0                 |0                      |0               |0            |0                     |0              |0                  |0                  |0                   |0                           |0              |0                          |0                   |0                 |0                 |0                  |0               |0                |0                  |0              |0                |0                |0                 |0                 |0                   |0                 |0                   |0                |0               |0               |0                |0                  |0                   |0                |0                  |0                          |0                       |0                     |0               |0                           |0                    |0                      |0              |0                |0                      |0                  |0                     |0                     |0                |0                    |0                  |0                |0              |0              |0                |0                |0                    |0                        |0               |0                 |0                       |0                |0               |0               |0                 |0                |0              |0                  |0                 |0                   |0                |0                |0                  |0             |0                |0                    |0              |0                        |0                     |385100|\n",
      "|1     |6       |55    |4  |3   |2769|0              |0              |0               |0               |0                     |0                       |0             |0                    |0                   |0                |0                    |0                |0                    |0                   |0                 |0                      |0                  |0                       |0                  |0                 |0                    |0                       |0               |0              |0               |0                  |0                  |0                   |0                       |0                  |0             |0               |0                 |0                    |0                  |0                |0                 |0                |0               |0                   |0              |0                |0                     |0                  |0                    |0                        |0               |0                            |0                   |0                   |0                   |0                   |0                 |0                  |0                 |0               |0                 |0                 |0                       |0                 |0                   |0                     |0                    |0              |0                    |0              |0                        |0            |0                  |0                     |0                     |0              |0                 |0                     |0                      |0                   |0                |0                |0               |0                 |0                    |0                  |0                   |0                   |0                |0              |0                       |0             |0               |0                  |0                |0                 |0               |0               |0                   |0                    |0                       |0                     |0               |0                |0             |0                     |0                     |0                       |0               |0                    |0                       |0                     |0                      |0                     |0               |0                   |0                     |0                 |0                  |0                        |0             |0                    |0                   |0             |0                 |0                |0              |1                |0                        |0             |0                     |0              |0                      |0                      |0                |0                       |0              |0                      |0                       |0                   |0                     |0                  |0                  |0                    |0                    |0               |0                    |0                    |0                    |0               |0                |0                  |0              |0                   |0                   |0              |0                |0             |0             |0                |0               |0                 |0                     |0                 |0                   |0                        |0                   |0              |0                |0                |0               |0              |0               |0                |0                |0                   |0                |0                   |0             |0                     |0                |0                       |0                        |0                     |0                 |0                  |0                   |0                  |0               |0                 |0                      |0                    |0                |0                    |0                    |0                              |0                  |0                    |0              |0                     |0                     |0                      |0                    |0                |0              |0                   |0                 |0                   |0                   |0               |0                     |0             |0                    |0                 |0                 |0               |0                        |0                |0                |0                 |0                |0                |0               |0                    |0             |0                   |0                      |0            |0                 |0                   |0                          |0                      |0                  |0                    |0                |0                |0                   |0                   |0                 |0                 |0                    |0                 |0                  |0                 |0                  |0                 |0                      |0               |0               |0                 |0               |0                   |0                |0              |0                   |0              |0                      |0                |0                      |0              |0                        |0                        |0             |0                      |0              |0             |0                   |0                  |0                   |0                 |0                   |0                |0                   |0                 |0                          |0                |0              |0                         |0                     |0                   |0                     |0               |0                |0               |0                     |0                    |0              |0                |0                     |0                 |0                 |0              |0                    |0               |0              |0                |0                 |0               |0             |0                 |0              |0                |0                   |0                |0               |0              |0                 |0                        |0                 |0              |0            |0                        |0               |0                      |0                       |0                    |0                         |0               |0                |0                 |0                  |0              |0             |0                   |0                     |0                |0                      |0                       |0                |0                     |0               |0              |0                     |0            |0                           |0                    |0                |0                            |0                   |0                |0                 |0                      |0               |0            |0                     |0              |0                  |0                  |0                   |0                           |0              |0                          |0                   |0                 |0                 |0                  |0               |0                |0                  |0              |0                |0                |0                 |0                 |0                   |0                 |0                   |0                |0               |0               |0                |0                  |0                   |0                |0                  |0                          |0                       |0                     |0               |0                           |0                    |0                      |0              |0                |0                      |0                  |0                     |0                     |0                |0                    |0                  |0                |0              |0              |0                |0                |0                    |0                        |0               |0                 |0                       |0                |0               |0               |0                 |0                |0              |0                  |0                 |0                   |0                |0                |0                  |0             |0                |0                    |0              |0                        |0                     |415000|\n",
      "+------+--------+------+---+----+----+---------------+---------------+----------------+----------------+----------------------+------------------------+--------------+---------------------+--------------------+-----------------+---------------------+-----------------+---------------------+--------------------+------------------+-----------------------+-------------------+------------------------+-------------------+------------------+---------------------+------------------------+----------------+---------------+----------------+-------------------+-------------------+--------------------+------------------------+-------------------+--------------+----------------+------------------+---------------------+-------------------+-----------------+------------------+-----------------+----------------+--------------------+---------------+-----------------+----------------------+-------------------+---------------------+-------------------------+----------------+-----------------------------+--------------------+--------------------+--------------------+--------------------+------------------+-------------------+------------------+----------------+------------------+------------------+------------------------+------------------+--------------------+----------------------+---------------------+---------------+---------------------+---------------+-------------------------+-------------+-------------------+----------------------+----------------------+---------------+------------------+----------------------+-----------------------+--------------------+-----------------+-----------------+----------------+------------------+---------------------+-------------------+--------------------+--------------------+-----------------+---------------+------------------------+--------------+----------------+-------------------+-----------------+------------------+----------------+----------------+--------------------+---------------------+------------------------+----------------------+----------------+-----------------+--------------+----------------------+----------------------+------------------------+----------------+---------------------+------------------------+----------------------+-----------------------+----------------------+----------------+--------------------+----------------------+------------------+-------------------+-------------------------+--------------+---------------------+--------------------+--------------+------------------+-----------------+---------------+-----------------+-------------------------+--------------+----------------------+---------------+-----------------------+-----------------------+-----------------+------------------------+---------------+-----------------------+------------------------+--------------------+----------------------+-------------------+-------------------+---------------------+---------------------+----------------+---------------------+---------------------+---------------------+----------------+-----------------+-------------------+---------------+--------------------+--------------------+---------------+-----------------+--------------+--------------+-----------------+----------------+------------------+----------------------+------------------+--------------------+-------------------------+--------------------+---------------+-----------------+-----------------+----------------+---------------+----------------+-----------------+-----------------+--------------------+-----------------+--------------------+--------------+----------------------+-----------------+------------------------+-------------------------+----------------------+------------------+-------------------+--------------------+-------------------+----------------+------------------+-----------------------+---------------------+-----------------+---------------------+---------------------+-------------------------------+-------------------+---------------------+---------------+----------------------+----------------------+-----------------------+---------------------+-----------------+---------------+--------------------+------------------+--------------------+--------------------+----------------+----------------------+--------------+---------------------+------------------+------------------+----------------+-------------------------+-----------------+-----------------+------------------+-----------------+-----------------+----------------+---------------------+--------------+--------------------+-----------------------+-------------+------------------+--------------------+---------------------------+-----------------------+-------------------+---------------------+-----------------+-----------------+--------------------+--------------------+------------------+------------------+---------------------+------------------+-------------------+------------------+-------------------+------------------+-----------------------+----------------+----------------+------------------+----------------+--------------------+-----------------+---------------+--------------------+---------------+-----------------------+-----------------+-----------------------+---------------+-------------------------+-------------------------+--------------+-----------------------+---------------+--------------+--------------------+-------------------+--------------------+------------------+--------------------+-----------------+--------------------+------------------+---------------------------+-----------------+---------------+--------------------------+----------------------+--------------------+----------------------+----------------+-----------------+----------------+----------------------+---------------------+---------------+-----------------+----------------------+------------------+------------------+---------------+---------------------+----------------+---------------+-----------------+------------------+----------------+--------------+------------------+---------------+-----------------+--------------------+-----------------+----------------+---------------+------------------+-------------------------+------------------+---------------+-------------+-------------------------+----------------+-----------------------+------------------------+---------------------+--------------------------+----------------+-----------------+------------------+-------------------+---------------+--------------+--------------------+----------------------+-----------------+-----------------------+------------------------+-----------------+----------------------+----------------+---------------+----------------------+-------------+----------------------------+---------------------+-----------------+-----------------------------+--------------------+-----------------+------------------+-----------------------+----------------+-------------+----------------------+---------------+-------------------+-------------------+--------------------+----------------------------+---------------+---------------------------+--------------------+------------------+------------------+-------------------+----------------+-----------------+-------------------+---------------+-----------------+-----------------+------------------+------------------+--------------------+------------------+--------------------+-----------------+----------------+----------------+-----------------+-------------------+--------------------+-----------------+-------------------+---------------------------+------------------------+----------------------+----------------+----------------------------+---------------------+-----------------------+---------------+-----------------+-----------------------+-------------------+----------------------+----------------------+-----------------+---------------------+-------------------+-----------------+---------------+---------------+-----------------+-----------------+---------------------+-------------------------+----------------+------------------+------------------------+-----------------+----------------+----------------+------------------+-----------------+---------------+-------------------+------------------+--------------------+-----------------+-----------------+-------------------+--------------+-----------------+---------------------+---------------+-------------------------+----------------------+------+\n",
      "only showing top 5 rows\n",
      "\n",
      "root\n",
      " |-- street: long (nullable = true)\n",
      " |-- image_id: integer (nullable = true)\n",
      " |-- n_citi: integer (nullable = true)\n",
      " |-- bed: integer (nullable = true)\n",
      " |-- bath: integer (nullable = true)\n",
      " |-- sqft: integer (nullable = true)\n",
      " |-- citi_Mojave, CA: integer (nullable = false)\n",
      " |-- citi_Gorman, CA: integer (nullable = false)\n",
      " |-- citi_Ontario, CA: integer (nullable = false)\n",
      " |-- citi_Creston, CA: integer (nullable = false)\n",
      " |-- citi_Rancho Mirage, CA: integer (nullable = false)\n",
      " |-- citi_Stevenson Ranch, CA: integer (nullable = false)\n",
      " |-- citi_Hemet, CA: integer (nullable = false)\n",
      " |-- citi_Palm Springs, CA: integer (nullable = false)\n",
      " |-- citi_Santa Paula, CA: integer (nullable = false)\n",
      " |-- citi_Altadena, CA: integer (nullable = false)\n",
      " |-- citi_Bell Gardens, CA: integer (nullable = false)\n",
      " |-- citi_La Habra, CA: integer (nullable = false)\n",
      " |-- citi_La Crescenta, CA: integer (nullable = false)\n",
      " |-- citi_Salton City, CA: integer (nullable = false)\n",
      " |-- citi_Los Feliz, CA: integer (nullable = false)\n",
      " |-- citi_West Hollywood, CA: integer (nullable = false)\n",
      " |-- citi_Costa Mesa, CA: integer (nullable = false)\n",
      " |-- citi_Wofford Heights, CA: integer (nullable = false)\n",
      " |-- citi_Montebello, CA: integer (nullable = false)\n",
      " |-- citi_Rimforest, CA: integer (nullable = false)\n",
      " |-- citi_North Tustin, CA: integer (nullable = false)\n",
      " |-- citi_North Hollywood, CA: integer (nullable = false)\n",
      " |-- citi_Compton, CA: integer (nullable = false)\n",
      " |-- citi_Saugus, CA: integer (nullable = false)\n",
      " |-- citi_Barstow, CA: integer (nullable = false)\n",
      " |-- citi_South Gate, CA: integer (nullable = false)\n",
      " |-- citi_Loma Linda, CA: integer (nullable = false)\n",
      " |-- citi_Lemon Grove, CA: integer (nullable = false)\n",
      " |-- citi_Fountain Valley, CA: integer (nullable = false)\n",
      " |-- citi_Cedar Glen, CA: integer (nullable = false)\n",
      " |-- citi_Jamul, CA: integer (nullable = false)\n",
      " |-- citi_Bonsall, CA: integer (nullable = false)\n",
      " |-- citi_Hawthorne, CA: integer (nullable = false)\n",
      " |-- citi_San Fernando, CA: integer (nullable = false)\n",
      " |-- citi_Seal Beach, CA: integer (nullable = false)\n",
      " |-- citi_Big Bear, CA: integer (nullable = false)\n",
      " |-- citi_San Dimas, CA: integer (nullable = false)\n",
      " |-- citi_Cerritos, CA: integer (nullable = false)\n",
      " |-- citi_Aguanga, CA: integer (nullable = false)\n",
      " |-- citi_Bakersfield, CA: integer (nullable = false)\n",
      " |-- citi_Walnut, CA: integer (nullable = false)\n",
      " |-- citi_Pasadena, CA: integer (nullable = false)\n",
      " |-- citi_Anaheim Hills, CA: integer (nullable = false)\n",
      " |-- citi_Oro Grande, CA: integer (nullable = false)\n",
      " |-- citi_Santa Ysabel, CA: integer (nullable = false)\n",
      " |-- citi_Lake Los Angeles, CA: integer (nullable = false)\n",
      " |-- citi_Needles, CA: integer (nullable = false)\n",
      " |-- citi_La Canada Flintridge, CA: integer (nullable = false)\n",
      " |-- citi_West Covina, CA: integer (nullable = false)\n",
      " |-- citi_Ocean Beach, CA: integer (nullable = false)\n",
      " |-- citi_Victorville, CA: integer (nullable = false)\n",
      " |-- citi_Studio City, CA: integer (nullable = false)\n",
      " |-- citi_Montecito, CA: integer (nullable = false)\n",
      " |-- citi_Atascadero, CA: integer (nullable = false)\n",
      " |-- citi_Hollywood, CA: integer (nullable = false)\n",
      " |-- citi_Cabazon, CA: integer (nullable = false)\n",
      " |-- citi_Crestline, CA: integer (nullable = false)\n",
      " |-- citi_Parkfield, CA: integer (nullable = false)\n",
      " |-- citi_California City, CA: integer (nullable = false)\n",
      " |-- citi_Silverado, CA: integer (nullable = false)\n",
      " |-- citi_Pine Valley, CA: integer (nullable = false)\n",
      " |-- citi_Lake Sherwood, CA: integer (nullable = false)\n",
      " |-- citi_Port Hueneme, CA: integer (nullable = false)\n",
      " |-- citi_Downey, CA: integer (nullable = false)\n",
      " |-- citi_Laguna Woods, CA: integer (nullable = false)\n",
      " |-- citi_Covina, CA: integer (nullable = false)\n",
      " |-- citi_Stallion Springs, CA: integer (nullable = false)\n",
      " |-- citi_Piru, CA: integer (nullable = false)\n",
      " |-- citi_El Segundo, CA: integer (nullable = false)\n",
      " |-- citi_Mission Hills, CA: integer (nullable = false)\n",
      " |-- citi_Redondo Beach, CA: integer (nullable = false)\n",
      " |-- citi_Upland, CA: integer (nullable = false)\n",
      " |-- citi_Alta Loma, CA: integer (nullable = false)\n",
      " |-- citi_Big Bear City, CA: integer (nullable = false)\n",
      " |-- citi_Canyon Country, CA: integer (nullable = false)\n",
      " |-- citi_Pearblossom, CA: integer (nullable = false)\n",
      " |-- citi_Lawndale, CA: integer (nullable = false)\n",
      " |-- citi_Moorpark, CA: integer (nullable = false)\n",
      " |-- citi_Tarzana, CA: integer (nullable = false)\n",
      " |-- citi_La Puente, CA: integer (nullable = false)\n",
      " |-- citi_Baldwin Park, CA: integer (nullable = false)\n",
      " |-- citi_Ridgecrest, CA: integer (nullable = false)\n",
      " |-- citi_Toluca Lake, CA: integer (nullable = false)\n",
      " |-- citi_Yorba Linda, CA: integer (nullable = false)\n",
      " |-- citi_Homeland, CA: integer (nullable = false)\n",
      " |-- citi_Venice, CA: integer (nullable = false)\n",
      " |-- citi_Modjeska Canyon, CA: integer (nullable = false)\n",
      " |-- citi_Nuevo, CA: integer (nullable = false)\n",
      " |-- citi_Mentone, CA: integer (nullable = false)\n",
      " |-- citi_Sun Valley, CA: integer (nullable = false)\n",
      " |-- citi_La Verne, CA: integer (nullable = false)\n",
      " |-- citi_Fullerton, CA: integer (nullable = false)\n",
      " |-- citi_La Mesa, CA: integer (nullable = false)\n",
      " |-- citi_Jacumba, CA: integer (nullable = false)\n",
      " |-- citi_Temple City, CA: integer (nullable = false)\n",
      " |-- citi_Grover Beach, CA: integer (nullable = false)\n",
      " |-- citi_Cedarpines Park, CA: integer (nullable = false)\n",
      " |-- citi_Valley Center, CA: integer (nullable = false)\n",
      " |-- citi_Shandon, CA: integer (nullable = false)\n",
      " |-- citi_Monrovia, CA: integer (nullable = false)\n",
      " |-- citi_Campo, CA: integer (nullable = false)\n",
      " |-- citi_Cherry Valley, CA: integer (nullable = false)\n",
      " |-- citi_Spring Valley, CA: integer (nullable = false)\n",
      " |-- citi_Mountain Center, CA: integer (nullable = false)\n",
      " |-- citi_Thermal, CA: integer (nullable = false)\n",
      " |-- citi_Los Alamitos, CA: integer (nullable = false)\n",
      " |-- citi_Rancho Bernardo, CA: integer (nullable = false)\n",
      " |-- citi_Hermosa Beach, CA: integer (nullable = false)\n",
      " |-- citi_South El Monte, CA: integer (nullable = false)\n",
      " |-- citi_Moreno Valley, CA: integer (nullable = false)\n",
      " |-- citi_Brawley, CA: integer (nullable = false)\n",
      " |-- citi_Joshua Tree, CA: integer (nullable = false)\n",
      " |-- citi_Pacific Beach, CA: integer (nullable = false)\n",
      " |-- citi_Templeton, CA: integer (nullable = false)\n",
      " |-- citi_Eagle Rock, CA: integer (nullable = false)\n",
      " |-- citi_Hacienda Heights, CA: integer (nullable = false)\n",
      " |-- citi_Norco, CA: integer (nullable = false)\n",
      " |-- citi_Apple Valley, CA: integer (nullable = false)\n",
      " |-- citi_Carpinteria, CA: integer (nullable = false)\n",
      " |-- citi_Acton, CA: integer (nullable = false)\n",
      " |-- citi_La Mirada, CA: integer (nullable = false)\n",
      " |-- citi_Murrieta, CA: integer (nullable = false)\n",
      " |-- citi_Phelan, CA: integer (nullable = false)\n",
      " |-- citi_Calexico, CA: integer (nullable = false)\n",
      " |-- citi_Santa Fe Springs, CA: integer (nullable = false)\n",
      " |-- citi_Chino, CA: integer (nullable = false)\n",
      " |-- citi_Santa Clarita, CA: integer (nullable = false)\n",
      " |-- citi_Blythe, CA: integer (nullable = false)\n",
      " |-- citi_Lucerne Valley, CA: integer (nullable = false)\n",
      " |-- citi_Warner Springs, CA: integer (nullable = false)\n",
      " |-- citi_Belltown, CA: integer (nullable = false)\n",
      " |-- citi_Rancho Santa Fe, CA: integer (nullable = false)\n",
      " |-- citi_Nipomo, CA: integer (nullable = false)\n",
      " |-- citi_Lake Elizabeth, CA: integer (nullable = false)\n",
      " |-- citi_Huntington Park, CA: integer (nullable = false)\n",
      " |-- citi_Pico Rivera, CA: integer (nullable = false)\n",
      " |-- citi_Highland Park, CA: integer (nullable = false)\n",
      " |-- citi_Whitewater, CA: integer (nullable = false)\n",
      " |-- citi_New Cuyama, CA: integer (nullable = false)\n",
      " |-- citi_Porter Ranch, CA: integer (nullable = false)\n",
      " |-- citi_Shadow Hills, CA: integer (nullable = false)\n",
      " |-- citi_Norwalk, CA: integer (nullable = false)\n",
      " |-- citi_Yucca Valley, CA: integer (nullable = false)\n",
      " |-- citi_Forest Falls, CA: integer (nullable = false)\n",
      " |-- citi_Solana Beach, CA: integer (nullable = false)\n",
      " |-- citi_Cayucos, CA: integer (nullable = false)\n",
      " |-- citi_Lakewood, CA: integer (nullable = false)\n",
      " |-- citi_Wrightwood, CA: integer (nullable = false)\n",
      " |-- citi_Encino, CA: integer (nullable = false)\n",
      " |-- citi_Los Angeles, CA: integer (nullable = false)\n",
      " |-- citi_North Hills, CA: integer (nullable = false)\n",
      " |-- citi_Corona, CA: integer (nullable = false)\n",
      " |-- citi_Buellton, CA: integer (nullable = false)\n",
      " |-- citi_Somis, CA: integer (nullable = false)\n",
      " |-- citi_Lebec, CA: integer (nullable = false)\n",
      " |-- citi_Carlsbad, CA: integer (nullable = false)\n",
      " |-- citi_Dulzura, CA: integer (nullable = false)\n",
      " |-- citi_Claremont, CA: integer (nullable = false)\n",
      " |-- citi_Lake Elsinore, CA: integer (nullable = false)\n",
      " |-- citi_Camarillo, CA: integer (nullable = false)\n",
      " |-- citi_Valley Glen, CA: integer (nullable = false)\n",
      " |-- citi_Rancho Cucamonga, CA: integer (nullable = false)\n",
      " |-- citi_San Gabriel, CA: integer (nullable = false)\n",
      " |-- citi_Malibu, CA: integer (nullable = false)\n",
      " |-- citi_Palmdale, CA: integer (nullable = false)\n",
      " |-- citi_Calimesa, CA: integer (nullable = false)\n",
      " |-- citi_Lynwood, CA: integer (nullable = false)\n",
      " |-- citi_Ramona, CA: integer (nullable = false)\n",
      " |-- citi_Newhall, CA: integer (nullable = false)\n",
      " |-- citi_Rosamond, CA: integer (nullable = false)\n",
      " |-- citi_Highland, CA: integer (nullable = false)\n",
      " |-- citi_Canyon Lake, CA: integer (nullable = false)\n",
      " |-- citi_Caliente, CA: integer (nullable = false)\n",
      " |-- citi_Diamond Bar, CA: integer (nullable = false)\n",
      " |-- citi_Indio, CA: integer (nullable = false)\n",
      " |-- citi_National City, CA: integer (nullable = false)\n",
      " |-- citi_Torrance, CA: integer (nullable = false)\n",
      " |-- citi_Rowland Heights, CA: integer (nullable = false)\n",
      " |-- citi_Lakeview Terrace, CA: integer (nullable = false)\n",
      " |-- citi_Arroyo Grande, CA: integer (nullable = false)\n",
      " |-- citi_Tehachapi, CA: integer (nullable = false)\n",
      " |-- citi_Littlerock, CA: integer (nullable = false)\n",
      " |-- citi_Westminster, CA: integer (nullable = false)\n",
      " |-- citi_Villa Park, CA: integer (nullable = false)\n",
      " |-- citi_Cypress, CA: integer (nullable = false)\n",
      " |-- citi_San Diego, CA: integer (nullable = false)\n",
      " |-- citi_South Pasadena, CA: integer (nullable = false)\n",
      " |-- citi_Leona Valley, CA: integer (nullable = false)\n",
      " |-- citi_Rosemead, CA: integer (nullable = false)\n",
      " |-- citi_Newbury Park, CA: integer (nullable = false)\n",
      " |-- citi_Frazier Park, CA: integer (nullable = false)\n",
      " |-- citi_Rancho Santa Margarita, CA: integer (nullable = false)\n",
      " |-- citi_San Marcos, CA: integer (nullable = false)\n",
      " |-- citi_Green Valley, CA: integer (nullable = false)\n",
      " |-- citi_Carson, CA: integer (nullable = false)\n",
      " |-- citi_Newport Coast, CA: integer (nullable = false)\n",
      " |-- citi_Grand Terrace, CA: integer (nullable = false)\n",
      " |-- citi_Valley Village, CA: integer (nullable = false)\n",
      " |-- citi_Laguna Hills, CA: integer (nullable = false)\n",
      " |-- citi_Winnetka, CA: integer (nullable = false)\n",
      " |-- citi_Tustin, CA: integer (nullable = false)\n",
      " |-- citi_Pinon Hills, CA: integer (nullable = false)\n",
      " |-- citi_Oceanside, CA: integer (nullable = false)\n",
      " |-- citi_Palm Desert, CA: integer (nullable = false)\n",
      " |-- citi_Paso Robles, CA: integer (nullable = false)\n",
      " |-- citi_Tujunga, CA: integer (nullable = false)\n",
      " |-- citi_Mission Viejo, CA: integer (nullable = false)\n",
      " |-- citi_Arvin, CA: integer (nullable = false)\n",
      " |-- citi_Santa Monica, CA: integer (nullable = false)\n",
      " |-- citi_Idyllwild, CA: integer (nullable = false)\n",
      " |-- citi_Boulevard, CA: integer (nullable = false)\n",
      " |-- citi_Potrero, CA: integer (nullable = false)\n",
      " |-- citi_Newberry Springs, CA: integer (nullable = false)\n",
      " |-- citi_Oak Glen, CA: integer (nullable = false)\n",
      " |-- citi_Blue Jay, CA: integer (nullable = false)\n",
      " |-- citi_Oak Hills, CA: integer (nullable = false)\n",
      " |-- citi_Van Nuys, CA: integer (nullable = false)\n",
      " |-- citi_Wildomar, CA: integer (nullable = false)\n",
      " |-- citi_Solvang, CA: integer (nullable = false)\n",
      " |-- citi_Sierra Madre, CA: integer (nullable = false)\n",
      " |-- citi_Poway, CA: integer (nullable = false)\n",
      " |-- citi_Lake Hughes, CA: integer (nullable = false)\n",
      " |-- citi_Phillips Ranch, CA: integer (nullable = false)\n",
      " |-- citi_Brea, CA: integer (nullable = false)\n",
      " |-- citi_San Pedro, CA: integer (nullable = false)\n",
      " |-- citi_Pismo Beach, CA: integer (nullable = false)\n",
      " |-- citi_Vandenberg Village, CA: integer (nullable = false)\n",
      " |-- citi_Woodland Hills, CA: integer (nullable = false)\n",
      " |-- citi_San Marino, CA: integer (nullable = false)\n",
      " |-- citi_Indian Wells, CA: integer (nullable = false)\n",
      " |-- citi_Lakeside, CA: integer (nullable = false)\n",
      " |-- citi_Fillmore, CA: integer (nullable = false)\n",
      " |-- citi_San Jacinto, CA: integer (nullable = false)\n",
      " |-- citi_Lake Forest, CA: integer (nullable = false)\n",
      " |-- citi_Coachella, CA: integer (nullable = false)\n",
      " |-- citi_Morro Bay, CA: integer (nullable = false)\n",
      " |-- citi_Garden Grove, CA: integer (nullable = false)\n",
      " |-- citi_Placentia, CA: integer (nullable = false)\n",
      " |-- citi_Los Alamos, CA: integer (nullable = false)\n",
      " |-- citi_El Mirage, CA: integer (nullable = false)\n",
      " |-- citi_Santa Ynez, CA: integer (nullable = false)\n",
      " |-- citi_Kernville, CA: integer (nullable = false)\n",
      " |-- citi_Thousand Palms, CA: integer (nullable = false)\n",
      " |-- citi_Anaheim, CA: integer (nullable = false)\n",
      " |-- citi_Ventura, CA: integer (nullable = false)\n",
      " |-- citi_Riverside, CA: integer (nullable = false)\n",
      " |-- citi_Cardiff, CA: integer (nullable = false)\n",
      " |-- citi_Santa Maria, CA: integer (nullable = false)\n",
      " |-- citi_La Palma, CA: integer (nullable = false)\n",
      " |-- citi_Oxnard, CA: integer (nullable = false)\n",
      " |-- citi_Quartz Hill, CA: integer (nullable = false)\n",
      " |-- citi_Arleta, CA: integer (nullable = false)\n",
      " |-- citi_Paradise Hills, CA: integer (nullable = false)\n",
      " |-- citi_Los Osos, CA: integer (nullable = false)\n",
      " |-- citi_Corona del Mar, CA: integer (nullable = false)\n",
      " |-- citi_Irvine, CA: integer (nullable = false)\n",
      " |-- citi_Palomar Mountain, CA: integer (nullable = false)\n",
      " |-- citi_Westlake Village, CA: integer (nullable = false)\n",
      " |-- citi_Azusa, CA: integer (nullable = false)\n",
      " |-- citi_San Bernardino, CA: integer (nullable = false)\n",
      " |-- citi_Delano, CA: integer (nullable = false)\n",
      " |-- citi_Llano, CA: integer (nullable = false)\n",
      " |-- citi_Canoga Park, CA: integer (nullable = false)\n",
      " |-- citi_Wilmington, CA: integer (nullable = false)\n",
      " |-- citi_Lake Balboa, CA: integer (nullable = false)\n",
      " |-- citi_Sugarloaf, CA: integer (nullable = false)\n",
      " |-- citi_Simi Valley, CA: integer (nullable = false)\n",
      " |-- citi_El Monte, CA: integer (nullable = false)\n",
      " |-- citi_Pioneertown, CA: integer (nullable = false)\n",
      " |-- citi_Big River, CA: integer (nullable = false)\n",
      " |-- citi_Cardiff by the Sea, CA: integer (nullable = false)\n",
      " |-- citi_Glendale, CA: integer (nullable = false)\n",
      " |-- citi_Duarte, CA: integer (nullable = false)\n",
      " |-- citi_Green Valley Lake, CA: integer (nullable = false)\n",
      " |-- citi_Monterey Park, CA: integer (nullable = false)\n",
      " |-- citi_Harbor City, CA: integer (nullable = false)\n",
      " |-- citi_Santa Barbara, CA: integer (nullable = false)\n",
      " |-- citi_Banning, CA: integer (nullable = false)\n",
      " |-- citi_Redlands, CA: integer (nullable = false)\n",
      " |-- citi_Arcadia, CA: integer (nullable = false)\n",
      " |-- citi_Bermuda Dunes, CA: integer (nullable = false)\n",
      " |-- citi_Angelus Oaks, CA: integer (nullable = false)\n",
      " |-- citi_Bonita, CA: integer (nullable = false)\n",
      " |-- citi_Glendora, CA: integer (nullable = false)\n",
      " |-- citi_Panorama City, CA: integer (nullable = false)\n",
      " |-- citi_Guadalupe, CA: integer (nullable = false)\n",
      " |-- citi_Helendale, CA: integer (nullable = false)\n",
      " |-- citi_Cuyama, CA: integer (nullable = false)\n",
      " |-- citi_Coto de Caza, CA: integer (nullable = false)\n",
      " |-- citi_Pacoima, CA: integer (nullable = false)\n",
      " |-- citi_Oceano, CA: integer (nullable = false)\n",
      " |-- citi_Oak Park, CA: integer (nullable = false)\n",
      " |-- citi_Val Verde, CA: integer (nullable = false)\n",
      " |-- citi_Fontana, CA: integer (nullable = false)\n",
      " |-- citi_Vista, CA: integer (nullable = false)\n",
      " |-- citi_View Park, CA: integer (nullable = false)\n",
      " |-- citi_Perris, CA: integer (nullable = false)\n",
      " |-- citi_Descanso, CA: integer (nullable = false)\n",
      " |-- citi_La Conchita, CA: integer (nullable = false)\n",
      " |-- citi_Hesperia, CA: integer (nullable = false)\n",
      " |-- citi_Del Mar, CA: integer (nullable = false)\n",
      " |-- citi_Santee, CA: integer (nullable = false)\n",
      " |-- citi_Inglewood, CA: integer (nullable = false)\n",
      " |-- citi_East Los Angeles, CA: integer (nullable = false)\n",
      " |-- citi_Calabasas, CA: integer (nullable = false)\n",
      " |-- citi_Orange, CA: integer (nullable = false)\n",
      " |-- citi_Anza, CA: integer (nullable = false)\n",
      " |-- citi_Hawaiian Gardens, CA: integer (nullable = false)\n",
      " |-- citi_Artesia, CA: integer (nullable = false)\n",
      " |-- citi_Morongo Valley, CA: integer (nullable = false)\n",
      " |-- citi_Santa Margarita, CA: integer (nullable = false)\n",
      " |-- citi_Agoura Hills, CA: integer (nullable = false)\n",
      " |-- citi_Pacific Palisades, CA: integer (nullable = false)\n",
      " |-- citi_Menifee, CA: integer (nullable = false)\n",
      " |-- citi_Sun City, CA: integer (nullable = false)\n",
      " |-- citi_Mira Loma, CA: integer (nullable = false)\n",
      " |-- citi_Twin Peaks, CA: integer (nullable = false)\n",
      " |-- citi_Lompoc, CA: integer (nullable = false)\n",
      " |-- citi_Boron, CA: integer (nullable = false)\n",
      " |-- citi_Culver City, CA: integer (nullable = false)\n",
      " |-- citi_Laguna Niguel, CA: integer (nullable = false)\n",
      " |-- citi_Beaumont, CA: integer (nullable = false)\n",
      " |-- citi_Lake Arrowhead, CA: integer (nullable = false)\n",
      " |-- citi_Running Springs, CA: integer (nullable = false)\n",
      " |-- citi_Whittier, CA: integer (nullable = false)\n",
      " |-- citi_Playa del Rey, CA: integer (nullable = false)\n",
      " |-- citi_Topanga, CA: integer (nullable = false)\n",
      " |-- citi_Alpine, CA: integer (nullable = false)\n",
      " |-- citi_Beverly Hills, CA: integer (nullable = false)\n",
      " |-- citi_Bell, CA: integer (nullable = false)\n",
      " |-- citi_San Juan Capistrano, CA: integer (nullable = false)\n",
      " |-- citi_San Clemente, CA: integer (nullable = false)\n",
      " |-- citi_La Jolla, CA: integer (nullable = false)\n",
      " |-- citi_Palos Verdes Estates, CA: integer (nullable = false)\n",
      " |-- citi_Bloomington, CA: integer (nullable = false)\n",
      " |-- citi_El Cajon, CA: integer (nullable = false)\n",
      " |-- citi_Encinitas, CA: integer (nullable = false)\n",
      " |-- citi_Cathedral City, CA: integer (nullable = false)\n",
      " |-- citi_Yucaipa, CA: integer (nullable = false)\n",
      " |-- citi_Ojai, CA: integer (nullable = false)\n",
      " |-- citi_Newport Beach, CA: integer (nullable = false)\n",
      " |-- citi_Rialto, CA: integer (nullable = false)\n",
      " |-- citi_Long Beach, CA: integer (nullable = false)\n",
      " |-- citi_Chatsworth, CA: integer (nullable = false)\n",
      " |-- citi_Avila Beach, CA: integer (nullable = false)\n",
      " |-- citi_Rancho Palos Verdes, CA: integer (nullable = false)\n",
      " |-- citi_Reseda, CA: integer (nullable = false)\n",
      " |-- citi_Pine Mountain Club, CA: integer (nullable = false)\n",
      " |-- citi_Westchester, CA: integer (nullable = false)\n",
      " |-- citi_Lancaster, CA: integer (nullable = false)\n",
      " |-- citi_Paramount, CA: integer (nullable = false)\n",
      " |-- citi_West Hills, CA: integer (nullable = false)\n",
      " |-- citi_Gardena, CA: integer (nullable = false)\n",
      " |-- citi_Montrose, CA: integer (nullable = false)\n",
      " |-- citi_Winchester, CA: integer (nullable = false)\n",
      " |-- citi_Colton, CA: integer (nullable = false)\n",
      " |-- citi_Imperial, CA: integer (nullable = false)\n",
      " |-- citi_Rossmoor, CA: integer (nullable = false)\n",
      " |-- citi_Santa Ana, CA: integer (nullable = false)\n",
      " |-- citi_Montclair, CA: integer (nullable = false)\n",
      " |-- citi_Chula Vista, CA: integer (nullable = false)\n",
      " |-- citi_Fallbrook, CA: integer (nullable = false)\n",
      " |-- citi_Midway City, CA: integer (nullable = false)\n",
      " |-- citi_Temecula, CA: integer (nullable = false)\n",
      " |-- citi_Cambria, CA: integer (nullable = false)\n",
      " |-- citi_Sunland, CA: integer (nullable = false)\n",
      " |-- citi_Mt Baldy, CA: integer (nullable = false)\n",
      " |-- citi_Buena Park, CA: integer (nullable = false)\n",
      " |-- citi_Aliso Viejo, CA: integer (nullable = false)\n",
      " |-- citi_Ranchita, CA: integer (nullable = false)\n",
      " |-- citi_Dana Point, CA: integer (nullable = false)\n",
      " |-- citi_Desert Hot Springs, CA: integer (nullable = false)\n",
      " |-- citi_Borrego Springs, CA: integer (nullable = false)\n",
      " |-- citi_Thousand Oaks, CA: integer (nullable = false)\n",
      " |-- citi_Stanton, CA: integer (nullable = false)\n",
      " |-- citi_Bear Valley Springs, CA: integer (nullable = false)\n",
      " |-- citi_Sherman Oaks, CA: integer (nullable = false)\n",
      " |-- citi_Trabuco Canyon, CA: integer (nullable = false)\n",
      " |-- citi_Lomita, CA: integer (nullable = false)\n",
      " |-- citi_Adelanto, CA: integer (nullable = false)\n",
      " |-- citi_Imperial Beach, CA: integer (nullable = false)\n",
      " |-- citi_Northridge, CA: integer (nullable = false)\n",
      " |-- citi_Juniper Hills, CA: integer (nullable = false)\n",
      " |-- citi_Granada Hills, CA: integer (nullable = false)\n",
      " |-- citi_Valencia, CA: integer (nullable = false)\n",
      " |-- citi_Pauma Valley, CA: integer (nullable = false)\n",
      " |-- citi_Agua Dulce, CA: integer (nullable = false)\n",
      " |-- citi_Coronado, CA: integer (nullable = false)\n",
      " |-- citi_Julian, CA: integer (nullable = false)\n",
      " |-- citi_Sylmar, CA: integer (nullable = false)\n",
      " |-- citi_Romoland, CA: integer (nullable = false)\n",
      " |-- citi_Commerce, CA: integer (nullable = false)\n",
      " |-- citi_Laguna Beach, CA: integer (nullable = false)\n",
      " |-- citi_La Habra Heights, CA: integer (nullable = false)\n",
      " |-- citi_Landers, CA: integer (nullable = false)\n",
      " |-- citi_Escondido, CA: integer (nullable = false)\n",
      " |-- citi_San Luis Obispo, CA: integer (nullable = false)\n",
      " |-- citi_Oak View, CA: integer (nullable = false)\n",
      " |-- citi_Castaic, CA: integer (nullable = false)\n",
      " |-- citi_Burbank, CA: integer (nullable = false)\n",
      " |-- citi_La Quinta, CA: integer (nullable = false)\n",
      " |-- citi_29 Palms, CA: integer (nullable = false)\n",
      " |-- citi_Pomona, CA: integer (nullable = false)\n",
      " |-- citi_San Miguel, CA: integer (nullable = false)\n",
      " |-- citi_Echo Park, CA: integer (nullable = false)\n",
      " |-- citi_Chino Hills, CA: integer (nullable = false)\n",
      " |-- citi_Fawnskin, CA: integer (nullable = false)\n",
      " |-- citi_Inyokern, CA: integer (nullable = false)\n",
      " |-- citi_Bellflower, CA: integer (nullable = false)\n",
      " |-- citi_Keene, CA: integer (nullable = false)\n",
      " |-- citi_Alhambra, CA: integer (nullable = false)\n",
      " |-- citi_Ladera Ranch, CA: integer (nullable = false)\n",
      " |-- citi_Goleta, CA: integer (nullable = false)\n",
      " |-- citi_Huntington Beach, CA: integer (nullable = false)\n",
      " |-- citi_Big Bear Lake, CA: integer (nullable = false)\n",
      " |-- price: integer (nullable = true)\n",
      "\n"
     ]
    }
   ],
   "source": [
    "df.show(5, truncate=False)\n",
    "df.printSchema()"
   ]
  },
  {
   "cell_type": "code",
   "execution_count": null,
   "id": "d2f5c506",
   "metadata": {},
   "outputs": [
    {
     "name": "stdout",
     "output_type": "stream",
     "text": [
      "+---------------------------------------------------------+------+\n",
      "|features                                                 |price |\n",
      "+---------------------------------------------------------+------+\n",
      "|(421,[0,1,2,3,4,5,116],[1.0,1.0,48.0,3.0,2.0,713.0,1.0]) |228500|\n",
      "|(421,[0,1,2,3,4,5,362],[1.0,2.0,152.0,3.0,1.0,800.0,1.0])|273950|\n",
      "|(421,[0,1,2,3,4,5,116],[1.0,3.0,48.0,3.0,1.0,1082.0,1.0])|350000|\n",
      "|(421,[0,1,2,3,4,5,129],[1.0,4.0,55.0,4.0,3.0,2547.0,1.0])|385100|\n",
      "|(421,[0,1,2,3,4,5,129],[1.0,6.0,55.0,4.0,3.0,2769.0,1.0])|415000|\n",
      "+---------------------------------------------------------+------+\n",
      "only showing top 5 rows\n",
      "\n"
     ]
    }
   ],
   "source": [
    "from pyspark.ml.feature import VectorAssembler\n",
    "\n",
    "# Giả sử df là Spark DataFrame\n",
    "columns = df.columns\n",
    "feature_cols = columns[:-1]  # tất cả cột trừ cột cuối\n",
    "label_col = columns[-1]      # cột cuối cùng là nhãn\n",
    "\n",
    "# Gộp các cột đặc trưng thành một vector duy nhất\n",
    "assembler = VectorAssembler(inputCols=feature_cols, outputCol=\"features\")\n",
    "df_transformed = assembler.transform(df)\n",
    "\n",
    "df_transformed.show(5, truncate=False)\n"
   ]
  },
  {
   "cell_type": "code",
   "execution_count": 28,
   "id": "822b5833",
   "metadata": {},
   "outputs": [],
   "source": [
    "from pyspark.ml.feature import VectorAssembler\n",
    "from pyspark.ml.evaluation import RegressionEvaluator\n",
    "from xgboost.spark import SparkXGBRegressor\n",
    "from pyspark.sql import SparkSession, functions as F\n",
    "\n",
    "# --- 2. Chia train / valid / test ---\n",
    "train_data, valid_data, test_data = df_transformed.randomSplit([0.7, 0.15, 0.15], seed=42)\n",
    "\n",
    "# --- 3. Hàm đánh giá ---\n",
    "def evaluate(predictions, label_col):\n",
    "    evaluator_rmse = RegressionEvaluator(labelCol=label_col, predictionCol=\"prediction\", metricName=\"rmse\")\n",
    "    evaluator_r2 = RegressionEvaluator(labelCol=label_col, predictionCol=\"prediction\", metricName=\"r2\")\n",
    "    rmse = evaluator_rmse.evaluate(predictions)\n",
    "    r2 = evaluator_r2.evaluate(predictions)\n",
    "    print(f\"✅ RMSE = {rmse:.4f} | R² = {r2:.4f}\")\n",
    "    return rmse, r2"
   ]
  },
  {
   "cell_type": "code",
   "execution_count": 32,
   "id": "95bcbb7f",
   "metadata": {},
   "outputs": [
    {
     "name": "stdout",
     "output_type": "stream",
     "text": [
      "\n",
      "🚀 Training Linear Regression ...\n",
      "✅ RMSE = 209060.2386 | R² = 0.7092\n"
     ]
    },
    {
     "data": {
      "text/plain": [
       "(209060.23864855382, 0.7092113160232457)"
      ]
     },
     "execution_count": 32,
     "metadata": {},
     "output_type": "execute_result"
    }
   ],
   "source": [
    "print(\"\\n🚀 Training Linear Regression ...\")\n",
    "lr = LinearRegression(featuresCol=\"features\", labelCol=label_col,regParam=0.5, \n",
    "    elasticNetParam=0.8, maxIter=500)\n",
    "lr_model = lr.fit(train_data) \n",
    "pred_lr = lr_model.transform(test_data)\n",
    "evaluate(pred_lr, label_col)\n"
   ]
  },
  {
   "cell_type": "code",
   "execution_count": 17,
   "id": "caf33625",
   "metadata": {},
   "outputs": [
    {
     "name": "stdout",
     "output_type": "stream",
     "text": [
      "\n",
      "🚀 Training Decision Tree ...\n",
      "✅ RMSE = 202760.3626 | R² = 0.7259\n"
     ]
    },
    {
     "data": {
      "text/plain": [
       "(202760.3625626809, 0.7259415832248424)"
      ]
     },
     "execution_count": 17,
     "metadata": {},
     "output_type": "execute_result"
    }
   ],
   "source": [
    "print(\"\\n🚀 Training Decision Tree ...\")\n",
    "dt = DecisionTreeRegressor(featuresCol=\"features\", labelCol=label_col, maxDepth=8)\n",
    "dt_model = dt.fit(train_data)\n",
    "pred_dt = dt_model.transform(valid_data)\n",
    "evaluate(pred_dt, label_col)\n"
   ]
  },
  {
   "cell_type": "code",
   "execution_count": null,
   "id": "7268ef49",
   "metadata": {},
   "outputs": [
    {
     "name": "stdout",
     "output_type": "stream",
     "text": [
      "\n",
      "🚀 Training Random Forest ...\n"
     ]
    },
    {
     "name": "stderr",
     "output_type": "stream",
     "text": [
      "25/10/17 14:50:35 WARN DAGScheduler: Broadcasting large task binary with size 1194.4 KiB\n",
      "25/10/17 14:50:38 WARN DAGScheduler: Broadcasting large task binary with size 2013.1 KiB\n",
      "25/10/17 14:50:42 WARN DAGScheduler: Broadcasting large task binary with size 3.5 MiB\n",
      "25/10/17 14:50:49 WARN DAGScheduler: Broadcasting large task binary with size 6.0 MiB\n",
      "25/10/17 14:50:56 WARN DAGScheduler: Broadcasting large task binary with size 10.0 MiB\n",
      "25/10/17 14:51:03 WARN DAGScheduler: Broadcasting large task binary with size 1066.1 KiB\n",
      "25/10/17 14:51:05 WARN DAGScheduler: Broadcasting large task binary with size 15.7 MiB\n",
      "25/10/17 14:51:12 WARN DAGScheduler: Broadcasting large task binary with size 1619.5 KiB\n",
      "25/10/17 14:51:14 WARN DAGScheduler: Broadcasting large task binary with size 23.5 MiB\n",
      "25/10/17 14:51:22 WARN DAGScheduler: Broadcasting large task binary with size 2.3 MiB\n",
      "25/10/17 14:51:24 WARN DAGScheduler: Broadcasting large task binary with size 33.6 MiB\n",
      "25/10/17 14:51:35 WARN DAGScheduler: Broadcasting large task binary with size 3.1 MiB\n",
      "25/10/17 14:51:39 WARN DAGScheduler: Broadcasting large task binary with size 38.8 MiB\n",
      "25/10/17 14:51:46 WARN DAGScheduler: Broadcasting large task binary with size 3.3 MiB\n",
      "25/10/17 14:51:49 WARN DAGScheduler: Broadcasting large task binary with size 7.9 MiB\n",
      "                                                                                \r"
     ]
    },
    {
     "name": "stdout",
     "output_type": "stream",
     "text": [
      "✅ RMSE = 216525.1084 | R² = 0.6875\n"
     ]
    },
    {
     "data": {
      "text/plain": [
       "(216525.1083640161, 0.6874686733394906)"
      ]
     },
     "execution_count": 33,
     "metadata": {},
     "output_type": "execute_result"
    }
   ],
   "source": [
    "print(\"\\n🚀 Training Random Forest ...\")\n",
    "rf = RandomForestRegressor(featuresCol=\"features\", labelCol=label_col, numTrees=200, maxDepth=10)\n",
    "rf_model = rf.fit(train_data)\n",
    "pred_rf = rf_model.transform(valid_data)\n",
    "evaluate(pred_rf, label_col)\n"
   ]
  },
  {
   "cell_type": "code",
   "execution_count": null,
   "id": "237064a3",
   "metadata": {},
   "outputs": [
    {
     "name": "stderr",
     "output_type": "stream",
     "text": [
      "2025-10-17 14:53:00,992 INFO XGBoost-PySpark: _fit Running xgboost-2.0.3 on 1 workers with\n",
      "\tbooster params: {'objective': 'reg:squarederror', 'device': 'cpu', 'max_depth': 6, 'eta': 0.1, 'eval_metric': 'rmse', 'nthread': 1}\n",
      "\ttrain_call_kwargs_params: {'num_boost_round': 100, 'verbose_eval': True}\n",
      "\tdmatrix_kwargs: {'nthread': 1, 'missing': nan}\n",
      "[14:53:04] task 0 got new rank 0                                    (0 + 1) / 1]\n",
      "2025-10-17 14:53:06,014 INFO XGBoost-PySpark: _fit Finished xgboost training!   \n",
      "INFO:XGBoost-PySpark:Do the inference on the CPUs\n"
     ]
    },
    {
     "name": "stdout",
     "output_type": "stream",
     "text": [
      "✅ RMSE = 121334.2835 | R² = 0.9019\n"
     ]
    },
    {
     "name": "stderr",
     "output_type": "stream",
     "text": [
      "INFO:XGBoost-PySpark:Do the inference on the CPUs\n"
     ]
    },
    {
     "data": {
      "text/plain": [
       "(121334.28352576273, 0.9018604445907641)"
      ]
     },
     "execution_count": 34,
     "metadata": {},
     "output_type": "execute_result"
    }
   ],
   "source": [
    "from xgboost.spark import SparkXGBRegressor\n",
    "\n",
    "xgb = SparkXGBRegressor(\n",
    "    features_col=\"features\",\n",
    "    label_col=label_col,\n",
    "    objective=\"reg:squarederror\",\n",
    "    eval_metric=\"rmse\",\n",
    "    num_workers=1,\n",
    "    num_boost_round=200,\n",
    "    max_depth=6,\n",
    "    eta=0.1\n",
    ")\n",
    "xgb_model = xgb.fit(train_data)\n",
    "pred_xgb = xgb_model.transform(valid_data)   \n",
    "evaluate(pred_xgb, label_col)       \n",
    "\n"
   ]
  },
  {
   "cell_type": "code",
   "execution_count": 35,
   "id": "288d4d52",
   "metadata": {},
   "outputs": [
    {
     "name": "stderr",
     "output_type": "stream",
     "text": [
      "INFO:XGBoost-PySpark:Do the inference on the CPUs\n"
     ]
    },
    {
     "name": "stdout",
     "output_type": "stream",
     "text": [
      "✅ RMSE = 118313.9392 | R² = 0.9069\n"
     ]
    },
    {
     "name": "stderr",
     "output_type": "stream",
     "text": [
      "INFO:XGBoost-PySpark:Do the inference on the CPUs\n"
     ]
    },
    {
     "data": {
      "text/plain": [
       "(118313.93920201344, 0.9068663879489318)"
      ]
     },
     "execution_count": 35,
     "metadata": {},
     "output_type": "execute_result"
    }
   ],
   "source": [
    "pred_xgb = xgb_model.transform(test_data)\n",
    "evaluate(pred_xgb, label_col)\n"
   ]
  }
 ],
 "metadata": {
  "kernelspec": {
   "display_name": "base",
   "language": "python",
   "name": "python3"
  },
  "language_info": {
   "codemirror_mode": {
    "name": "ipython",
    "version": 3
   },
   "file_extension": ".py",
   "mimetype": "text/x-python",
   "name": "python",
   "nbconvert_exporter": "python",
   "pygments_lexer": "ipython3",
   "version": "3.12.4"
  }
 },
 "nbformat": 4,
 "nbformat_minor": 5
}
