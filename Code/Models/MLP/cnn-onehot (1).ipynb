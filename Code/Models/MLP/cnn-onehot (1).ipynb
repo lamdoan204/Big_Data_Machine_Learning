{
 "cells": [
  {
   "cell_type": "code",
   "execution_count": 31,
   "metadata": {
    "colab": {
     "base_uri": "https://localhost:8080/"
    },
    "execution": {
     "iopub.execute_input": "2025-10-25T18:05:36.012384Z",
     "iopub.status.busy": "2025-10-25T18:05:36.012024Z",
     "iopub.status.idle": "2025-10-25T18:05:36.016056Z",
     "shell.execute_reply": "2025-10-25T18:05:36.015260Z",
     "shell.execute_reply.started": "2025-10-25T18:05:36.012364Z"
    },
    "id": "VVcl3-ud256t",
    "outputId": "f076ca88-4c7b-4d3e-b90c-a96c29dd427e",
    "trusted": true
   },
   "outputs": [],
   "source": [
    "# !pip install optuna\n",
    "# !pip install  torch torchvision "
   ]
  },
  {
   "cell_type": "code",
   "execution_count": 1,
   "metadata": {
    "execution": {
     "iopub.execute_input": "2025-10-25T23:23:05.835578Z",
     "iopub.status.busy": "2025-10-25T23:23:05.834882Z",
     "iopub.status.idle": "2025-10-25T23:23:07.135681Z",
     "shell.execute_reply": "2025-10-25T23:23:07.134868Z",
     "shell.execute_reply.started": "2025-10-25T23:23:05.835551Z"
    },
    "id": "UW5kkGJs3YJg",
    "trusted": true
   },
   "outputs": [],
   "source": [
    "import optuna\n",
    "import torch\n",
    "from torch import nn\n",
    "import numpy\n",
    "from pyspark.sql import SparkSession\n",
    "from pyspark.ml.feature import StringIndexer, OneHotEncoder\n",
    "from pyspark.ml.functions import vector_to_array\n",
    "from pyspark.sql.functions import  col, when\n",
    "import numpy as np\n"
   ]
  },
  {
   "cell_type": "code",
   "execution_count": 2,
   "metadata": {
    "execution": {
     "iopub.execute_input": "2025-10-25T23:23:07.843058Z",
     "iopub.status.busy": "2025-10-25T23:23:07.842638Z",
     "iopub.status.idle": "2025-10-25T23:23:07.911229Z",
     "shell.execute_reply": "2025-10-25T23:23:07.910069Z",
     "shell.execute_reply.started": "2025-10-25T23:23:07.843036Z"
    },
    "id": "QzaGtiyN3l5C",
    "trusted": true
   },
   "outputs": [
    {
     "name": "stdout",
     "output_type": "stream",
     "text": [
      "cpu\n"
     ]
    }
   ],
   "source": [
    "device  = 'cuda' if torch.cuda.is_available() else 'cpu'\n",
    "print(device)"
   ]
  },
  {
   "cell_type": "code",
   "execution_count": 3,
   "metadata": {
    "execution": {
     "iopub.execute_input": "2025-10-25T23:23:10.272494Z",
     "iopub.status.busy": "2025-10-25T23:23:10.272223Z",
     "iopub.status.idle": "2025-10-25T23:23:15.590538Z",
     "shell.execute_reply": "2025-10-25T23:23:15.589666Z",
     "shell.execute_reply.started": "2025-10-25T23:23:10.272473Z"
    },
    "id": "qhcDkLXp32d7",
    "trusted": true
   },
   "outputs": [],
   "source": [
    "# đọc tập dữ liệu\n",
    "spark  = SparkSession.builder.appName('Onehot').getOrCreate()"
   ]
  },
  {
   "cell_type": "code",
   "execution_count": 5,
   "metadata": {
    "colab": {
     "base_uri": "https://localhost:8080/"
    },
    "execution": {
     "iopub.execute_input": "2025-10-25T23:23:15.592558Z",
     "iopub.status.busy": "2025-10-25T23:23:15.592059Z",
     "iopub.status.idle": "2025-10-25T23:23:22.397046Z",
     "shell.execute_reply": "2025-10-25T23:23:22.396249Z",
     "shell.execute_reply.started": "2025-10-25T23:23:15.592522Z"
    },
    "id": "XHlhU6sA4rAt",
    "outputId": "4fa94eb8-ede5-45f0-ccc5-275f0e133916",
    "trusted": true
   },
   "outputs": [
    {
     "name": "stdout",
     "output_type": "stream",
     "text": [
      "+--------+--------------------+------------+------+---+----+----+------+\n",
      "|image_id|              street|        citi|n_citi|bed|bath|sqft| price|\n",
      "+--------+--------------------+------------+------+---+----+----+------+\n",
      "|       1|      124 C Street W| Brawley, CA|    48|  3|   2| 713|228500|\n",
      "|       2|     2304 Clark Road|Imperial, CA|   152|  3|   1| 800|273950|\n",
      "|       3|  755 Brawley Avenue| Brawley, CA|    48|  3|   1|1082|350000|\n",
      "|       4|2207 R Carrillo C...|Calexico, CA|    55|  4|   3|2547|385100|\n",
      "|       6| 1100 CAMILIA Street|Calexico, CA|    55|  4|   3|2769|415000|\n",
      "+--------+--------------------+------------+------+---+----+----+------+\n",
      "only showing top 5 rows\n"
     ]
    }
   ],
   "source": [
    "df = spark.read.csv('cleaned_data/data.csv', header=True, inferSchema=True)\n",
    "df.show(5)"
   ]
  },
  {
   "cell_type": "code",
   "execution_count": 6,
   "metadata": {
    "colab": {
     "base_uri": "https://localhost:8080/"
    },
    "execution": {
     "iopub.execute_input": "2025-10-25T23:23:22.399590Z",
     "iopub.status.busy": "2025-10-25T23:23:22.398204Z",
     "iopub.status.idle": "2025-10-25T23:23:22.787660Z",
     "shell.execute_reply": "2025-10-25T23:23:22.786849Z",
     "shell.execute_reply.started": "2025-10-25T23:23:22.399560Z"
    },
    "id": "PAe8DurK5ZOI",
    "outputId": "a69a08b7-0c15-442a-b747-a9e3784d2d1b",
    "trusted": true
   },
   "outputs": [
    {
     "name": "stdout",
     "output_type": "stream",
     "text": [
      "+--------+------------+---+----+----+------+\n",
      "|image_id|        citi|bed|bath|sqft| price|\n",
      "+--------+------------+---+----+----+------+\n",
      "|       1| Brawley, CA|  3|   2| 713|228500|\n",
      "|       2|Imperial, CA|  3|   1| 800|273950|\n",
      "|       3| Brawley, CA|  3|   1|1082|350000|\n",
      "|       4|Calexico, CA|  4|   3|2547|385100|\n",
      "|       6|Calexico, CA|  4|   3|2769|415000|\n",
      "+--------+------------+---+----+----+------+\n",
      "only showing top 5 rows\n"
     ]
    }
   ],
   "source": [
    "# không sử dụng dữ liệu hình ảnh\n",
    "features = ['image_id', 'citi', 'bed', 'bath', 'sqft', 'price']\n",
    "df = df.select(features)\n",
    "df.show(5)"
   ]
  },
  {
   "cell_type": "code",
   "execution_count": null,
   "metadata": {
    "colab": {
     "base_uri": "https://localhost:8080/"
    },
    "execution": {
     "iopub.execute_input": "2025-10-25T18:05:36.454823Z",
     "iopub.status.busy": "2025-10-25T18:05:36.454577Z",
     "iopub.status.idle": "2025-10-25T18:05:36.460092Z",
     "shell.execute_reply": "2025-10-25T18:05:36.459053Z",
     "shell.execute_reply.started": "2025-10-25T18:05:36.454801Z"
    },
    "id": "grVVQq-k8A1-",
    "outputId": "76e1092b-8f11-4b54-dc68-b67228ff6d4e",
    "trusted": true
   },
   "outputs": [
    {
     "name": "stdout",
     "output_type": "stream",
     "text": [
      "root\n",
      " |-- image_id: integer (nullable = true)\n",
      " |-- citi: string (nullable = true)\n",
      " |-- bed: integer (nullable = true)\n",
      " |-- bath: integer (nullable = true)\n",
      " |-- sqft: integer (nullable = true)\n",
      " |-- price: integer (nullable = true)\n",
      "\n"
     ]
    }
   ],
   "source": [
    "df.printSchema()"
   ]
  },
  {
   "cell_type": "code",
   "execution_count": 7,
   "metadata": {
    "execution": {
     "iopub.execute_input": "2025-10-25T23:23:22.788582Z",
     "iopub.status.busy": "2025-10-25T23:23:22.788316Z",
     "iopub.status.idle": "2025-10-25T23:23:24.814601Z",
     "shell.execute_reply": "2025-10-25T23:23:24.813822Z",
     "shell.execute_reply.started": "2025-10-25T23:23:22.788558Z"
    },
    "id": "29DdDTtCDaBs",
    "trusted": true
   },
   "outputs": [],
   "source": [
    "# indexing và encoding cho feature citi\n",
    "indexer = StringIndexer(inputCol='citi', outputCol='citi_index')\n",
    "encoder = OneHotEncoder(inputCols=['citi_index'], outputCols=['citi_vec'], dropLast=False)\n",
    "\n",
    "df_indexed = indexer.fit(df).transform(df)\n",
    "df_encoded = encoder.fit(df_indexed).transform(df_indexed)\n",
    "\n",
    "df_arr = df_encoded.withColumn(\"citi_encoded_arr\", vector_to_array(\"citi_vec\"))\n",
    "\n"
   ]
  },
  {
   "cell_type": "code",
   "execution_count": 39,
   "metadata": {
    "colab": {
     "base_uri": "https://localhost:8080/"
    },
    "execution": {
     "iopub.execute_input": "2025-10-25T18:05:36.889956Z",
     "iopub.status.busy": "2025-10-25T18:05:36.889697Z",
     "iopub.status.idle": "2025-10-25T18:05:37.017809Z",
     "shell.execute_reply": "2025-10-25T18:05:37.016773Z",
     "shell.execute_reply.started": "2025-10-25T18:05:36.889933Z"
    },
    "id": "el-XysSCDvfx",
    "outputId": "eaca56e5-a08c-4343-99e1-69495682b9f6",
    "trusted": true
   },
   "outputs": [
    {
     "name": "stdout",
     "output_type": "stream",
     "text": [
      "+--------+------------+---+----+----+------+----------+-----------------+--------------------+\n",
      "|image_id|        citi|bed|bath|sqft| price|citi_index|         citi_vec|    citi_encoded_arr|\n",
      "+--------+------------+---+----+----+------+----------+-----------------+--------------------+\n",
      "|       1| Brawley, CA|  3|   2| 713|228500|     324.0|(415,[324],[1.0])|[0.0, 0.0, 0.0, 0...|\n",
      "|       2|Imperial, CA|  3|   1| 800|273950|     387.0|(415,[387],[1.0])|[0.0, 0.0, 0.0, 0...|\n",
      "|       3| Brawley, CA|  3|   1|1082|350000|     324.0|(415,[324],[1.0])|[0.0, 0.0, 0.0, 0...|\n",
      "|       4|Calexico, CA|  4|   3|2547|385100|     343.0|(415,[343],[1.0])|[0.0, 0.0, 0.0, 0...|\n",
      "|       6|Calexico, CA|  4|   3|2769|415000|     343.0|(415,[343],[1.0])|[0.0, 0.0, 0.0, 0...|\n",
      "+--------+------------+---+----+----+------+----------+-----------------+--------------------+\n",
      "only showing top 5 rows\n",
      "\n"
     ]
    }
   ],
   "source": [
    "df_arr.show(5)"
   ]
  },
  {
   "cell_type": "code",
   "execution_count": 8,
   "metadata": {
    "execution": {
     "iopub.execute_input": "2025-10-25T23:23:28.689493Z",
     "iopub.status.busy": "2025-10-25T23:23:28.688871Z",
     "iopub.status.idle": "2025-10-25T23:23:29.071023Z",
     "shell.execute_reply": "2025-10-25T23:23:29.070129Z",
     "shell.execute_reply.started": "2025-10-25T23:23:28.689464Z"
    },
    "id": "7-NvTo2wF-lI",
    "trusted": true
   },
   "outputs": [],
   "source": [
    "citi_labels = indexer.fit(df).labels"
   ]
  },
  {
   "cell_type": "code",
   "execution_count": 9,
   "metadata": {
    "colab": {
     "base_uri": "https://localhost:8080/"
    },
    "execution": {
     "iopub.execute_input": "2025-10-25T23:23:30.895505Z",
     "iopub.status.busy": "2025-10-25T23:23:30.894917Z",
     "iopub.status.idle": "2025-10-25T23:24:37.763809Z",
     "shell.execute_reply": "2025-10-25T23:24:37.762950Z",
     "shell.execute_reply.started": "2025-10-25T23:23:30.895483Z"
    },
    "id": "ELhO0rgnGKOq",
    "outputId": "0e79ff24-3e9b-4480-ebf6-ac4ea233db81",
    "trusted": true
   },
   "outputs": [],
   "source": [
    "for i, label in enumerate(citi_labels):\n",
    "   df_arr = df_arr.withColumn(f\"{label}\", col('citi_encoded_arr')[i])\n",
    "# df_arr.show(5)"
   ]
  },
  {
   "cell_type": "code",
   "execution_count": 10,
   "metadata": {
    "colab": {
     "base_uri": "https://localhost:8080/"
    },
    "execution": {
     "iopub.execute_input": "2025-10-25T23:24:37.765229Z",
     "iopub.status.busy": "2025-10-25T23:24:37.764909Z",
     "iopub.status.idle": "2025-10-25T23:24:38.605686Z",
     "shell.execute_reply": "2025-10-25T23:24:38.605108Z",
     "shell.execute_reply.started": "2025-10-25T23:24:37.765211Z"
    },
    "id": "AK0HS6jHHQz2",
    "outputId": "a5a5d427-4ed4-44da-9d01-7d9f7d85fead",
    "trusted": true
   },
   "outputs": [],
   "source": [
    "# chọn xóa những features không cần thiết\n",
    "df_arr = df_arr.drop('citi', 'citi_index', 'citi_vec', 'citi_encoded_arr')\n",
    "# df_arr.show(5)\n",
    "# chia dữ liệu train test\n",
    "train_df, test_df = df_arr.randomSplit([0.7, 0.3], seed=42)"
   ]
  },
  {
   "cell_type": "code",
   "execution_count": 11,
   "metadata": {
    "execution": {
     "iopub.execute_input": "2025-10-25T23:24:38.606660Z",
     "iopub.status.busy": "2025-10-25T23:24:38.606424Z",
     "iopub.status.idle": "2025-10-25T23:24:40.581366Z",
     "shell.execute_reply": "2025-10-25T23:24:40.580519Z",
     "shell.execute_reply.started": "2025-10-25T23:24:38.606634Z"
    },
    "id": "y3yXwj6TScf3",
    "trusted": true
   },
   "outputs": [],
   "source": [
    "y = ['price']\n",
    "y_train_df = train_df.select(y)\n",
    "\n",
    "x_train_df = train_df.drop('price')\n",
    "x_train_df1 = train_df.drop('image_id', 'price')\n",
    "\n",
    "y_test_df = test_df.select(y)\n",
    "\n",
    "x_test_df = test_df.drop('price')\n",
    "x_test_df1 = test_df.drop('price', 'image_id')\n"
   ]
  },
  {
   "cell_type": "code",
   "execution_count": 44,
   "metadata": {
    "colab": {
     "base_uri": "https://localhost:8080/"
    },
    "execution": {
     "iopub.execute_input": "2025-10-25T18:06:51.966896Z",
     "iopub.status.busy": "2025-10-25T18:06:51.966656Z",
     "iopub.status.idle": "2025-10-25T18:06:51.970365Z",
     "shell.execute_reply": "2025-10-25T18:06:51.969602Z",
     "shell.execute_reply.started": "2025-10-25T18:06:51.966873Z"
    },
    "id": "GpHwZ5rcTIzz",
    "outputId": "34431ed8-e3d2-448e-e503-de66f306cb33",
    "trusted": true
   },
   "outputs": [],
   "source": [
    "# x_train_df.show()"
   ]
  },
  {
   "cell_type": "code",
   "execution_count": 45,
   "metadata": {
    "colab": {
     "base_uri": "https://localhost:8080/"
    },
    "execution": {
     "iopub.execute_input": "2025-10-25T18:06:51.971171Z",
     "iopub.status.busy": "2025-10-25T18:06:51.971004Z",
     "iopub.status.idle": "2025-10-25T18:06:55.007700Z",
     "shell.execute_reply": "2025-10-25T18:06:55.006960Z",
     "shell.execute_reply.started": "2025-10-25T18:06:51.971157Z"
    },
    "id": "rKlaV_qGTbhs",
    "outputId": "507b6c29-095f-427a-d9d2-1f958bd70c50",
    "trusted": true
   },
   "outputs": [
    {
     "name": "stdout",
     "output_type": "stream",
     "text": [
      "+-------+\n",
      "|  price|\n",
      "+-------+\n",
      "| 228500|\n",
      "| 273950|\n",
      "| 385100|\n",
      "| 415000|\n",
      "| 545000|\n",
      "|1350000|\n",
      "| 995000|\n",
      "|1550000|\n",
      "|1850000|\n",
      "| 249000|\n",
      "| 195000|\n",
      "| 229000|\n",
      "| 239900|\n",
      "| 239900|\n",
      "| 219000|\n",
      "| 220000|\n",
      "| 199500|\n",
      "| 225000|\n",
      "| 234900|\n",
      "| 199900|\n",
      "+-------+\n",
      "only showing top 20 rows\n",
      "\n"
     ]
    }
   ],
   "source": [
    "y_train_df.show()"
   ]
  },
  {
   "cell_type": "code",
   "execution_count": 12,
   "metadata": {
    "execution": {
     "iopub.execute_input": "2025-10-25T18:06:55.008705Z",
     "iopub.status.busy": "2025-10-25T18:06:55.008456Z",
     "iopub.status.idle": "2025-10-25T18:06:55.013860Z",
     "shell.execute_reply": "2025-10-25T18:06:55.013113Z",
     "shell.execute_reply.started": "2025-10-25T18:06:55.008682Z"
    },
    "id": "ejjPLOakRTCK",
    "trusted": true
   },
   "outputs": [],
   "source": [
    "# xây dựng mô hình\n",
    "class MLP_Regression(nn.Module):\n",
    "  def __init__(self, input_size, hidden_layers, activations_func, output_size):\n",
    "      super().__init__()\n",
    "      layers = []\n",
    "      pre_dim = input_size\n",
    "      for h in hidden_layers:\n",
    "        layers.append(nn.Linear(pre_dim, h))\n",
    "        layers.append(activations_func())\n",
    "        pre_dim = h\n",
    "      layers.append(nn.Linear(pre_dim, output_size))\n",
    "      layers.append(nn.ReLU())\n",
    "      self.model = nn.Sequential(*layers)\n",
    "\n",
    "  def forward(self, x):\n",
    "      return self.model(x)"
   ]
  },
  {
   "cell_type": "code",
   "execution_count": null,
   "metadata": {
    "execution": {
     "iopub.execute_input": "2025-10-25T23:26:44.024756Z",
     "iopub.status.busy": "2025-10-25T23:26:44.024339Z",
     "iopub.status.idle": "2025-10-25T23:26:44.035926Z",
     "shell.execute_reply": "2025-10-25T23:26:44.034837Z",
     "shell.execute_reply.started": "2025-10-25T23:26:44.024735Z"
    },
    "id": "LCnuwzY9SbF-",
    "trusted": true
   },
   "outputs": [],
   "source": [
    "from sklearn.model_selection import KFold\n",
    "from torch.utils.data import TensorDataset, DataLoader, Dataset\n",
    "\n",
    "# Hàm huấn luyện và chọn siêu tham số\n",
    "best_RMSE_global = None\n",
    "best_params_global = None\n",
    "\n",
    "def Objective(X, y, trial):\n",
    "  device = torch.device('cuda' if torch.cuda.is_available() else 'cpu')\n",
    "\n",
    "  global best_RMSE_global\n",
    "  global best_params_global\n",
    "  ############# Khai báo hyper parameter grid #############\n",
    "  num_hidden_layers = trial.suggest_int('num_hidden_layers', 4, 12)\n",
    "  num_neural_for_each_hidden_layer = [trial.suggest_int(f'num_of_l{i}', 64, 512, step= 64) for i in range(num_hidden_layers)]\n",
    "  activations_func = trial.suggest_categorical('activation', ['ReLU', 'Sigmoid', 'Tanh'])\n",
    "  batch_size = trial.suggest_categorical('batch_size', [32, 64, 128])\n",
    "  lr = trial.suggest_float('lr', 1e-4, 1e-2, log=True)\n",
    "  epochs = trial.suggest_int('epoch', 50, 200, step= 10)\n",
    "  #########################################################\n",
    "  activation = getattr(nn, activations_func)\n",
    "\n",
    "  model = MLP_Regression(X.shape[1],num_neural_for_each_hidden_layer, activation, y.shape[1]).to(device)\n",
    "\n",
    "  kf = KFold(n_splits=5, shuffle=True, random_state=42)\n",
    "  rmse = []\n",
    "  for train_index, val_index in kf.split(X):\n",
    "    X_train, X_val = X.iloc[train_index], X.iloc[val_index]\n",
    "    y_train, y_val = y.iloc[train_index], y.iloc[val_index]\n",
    "\n",
    "    x_tran_t = torch.tensor(X_train.values, dtype=torch.float32).to(device)\n",
    "    y_tran_t = torch.tensor(y_train.values, dtype=torch.float32).to(device)\n",
    "    x_val_t = torch.tensor(X_val.values, dtype=torch.float32).to(device)\n",
    "    y_val_t = torch.tensor(y_val.values, dtype=torch.float32).to(device)\n",
    "\n",
    "    optimizer = torch.optim.Adam(model.parameters(), lr=lr)\n",
    "    loss_fn = nn.MSELoss()\n",
    "\n",
    "    train_dataset = TensorDataset(x_tran_t, y_tran_t)\n",
    "    train_loader = DataLoader(train_dataset, batch_size=batch_size, shuffle=True)\n",
    "\n",
    "\n",
    "    for epoch in range(epochs):\n",
    "      model.train()\n",
    "      for x_batch, y_batch in train_loader:\n",
    "        x_batch, y_batch = x_batch.to(device), y_batch.to(device)\n",
    "        optimizer.zero_grad()\n",
    "        y_pred = model(x_batch)\n",
    "        loss = loss_fn(y_pred, y_batch)\n",
    "        loss.backward()\n",
    "        optimizer.step()\n",
    "\n",
    "    model.eval()\n",
    "    with torch.no_grad():\n",
    "      y_pred = model(x_val_t)\n",
    "      loss = loss_fn(y_pred, y_val_t)\n",
    "      rmse.append(np.sqrt(loss.item()))\n",
    "  \n",
    "  if best_RMSE_global is None or np.mean(rmse) < best_RMSE_global:\n",
    "\n",
    "    best_RMSE_global = np.mean(rmse)\n",
    "    best_params_global = trial.params\n",
    "\n",
    "    torch.save({\n",
    "    \"input_dim\": X.shape[1],\n",
    "    \"hidden_dim\": num_neural_for_each_hidden_layer,\n",
    "    \"output_dim\": y.shape[1],\n",
    "    \"activation_func\": activations_func,\n",
    "    \"model_state_dict\": model.state_dict()\n",
    "      }, \"/kaggle/working/checkpoint1.pth\")\n",
    "\n",
    "  return np.mean(rmse)\n"
   ]
  },
  {
   "cell_type": "code",
   "execution_count": 48,
   "metadata": {
    "execution": {
     "iopub.execute_input": "2025-10-25T18:06:55.029125Z",
     "iopub.status.busy": "2025-10-25T18:06:55.028894Z",
     "iopub.status.idle": "2025-10-25T21:16:51.413015Z",
     "shell.execute_reply": "2025-10-25T21:16:51.412440Z",
     "shell.execute_reply.started": "2025-10-25T18:06:55.029110Z"
    },
    "id": "NaY7d9omaPx2",
    "trusted": true
   },
   "outputs": [
    {
     "name": "stderr",
     "output_type": "stream",
     "text": [
      "[I 2025-10-25 18:06:55,040] A new study created in memory with name: no-name-d0969222-16e9-44ef-827a-bc4d65b94cc2\n",
      "[I 2025-10-25 18:11:00,675] Trial 0 finished with value: 825394.0133616516 and parameters: {'num_hidden_layers': 5, 'num_of_l0': 320, 'num_of_l1': 64, 'num_of_l2': 256, 'num_of_l3': 128, 'num_of_l4': 256, 'activation': 'Tanh', 'batch_size': 64, 'lr': 0.005869402882338814, 'epoch': 190}. Best is trial 0 with value: 825394.0133616516.\n",
      "[I 2025-10-25 18:12:33,355] Trial 1 finished with value: 825394.0133616516 and parameters: {'num_hidden_layers': 7, 'num_of_l0': 256, 'num_of_l1': 384, 'num_of_l2': 128, 'num_of_l3': 512, 'num_of_l4': 512, 'num_of_l5': 512, 'num_of_l6': 256, 'activation': 'Tanh', 'batch_size': 128, 'lr': 0.004835322299654834, 'epoch': 110}. Best is trial 0 with value: 825394.0133616516.\n",
      "[I 2025-10-25 18:15:06,640] Trial 2 finished with value: 230647.1159788746 and parameters: {'num_hidden_layers': 8, 'num_of_l0': 192, 'num_of_l1': 64, 'num_of_l2': 384, 'num_of_l3': 256, 'num_of_l4': 384, 'num_of_l5': 64, 'num_of_l6': 64, 'num_of_l7': 128, 'activation': 'ReLU', 'batch_size': 64, 'lr': 0.002805150709490287, 'epoch': 100}. Best is trial 2 with value: 230647.1159788746.\n",
      "[I 2025-10-25 18:21:40,603] Trial 3 finished with value: 402916.32879507344 and parameters: {'num_hidden_layers': 8, 'num_of_l0': 64, 'num_of_l1': 192, 'num_of_l2': 256, 'num_of_l3': 256, 'num_of_l4': 320, 'num_of_l5': 384, 'num_of_l6': 192, 'num_of_l7': 448, 'activation': 'ReLU', 'batch_size': 32, 'lr': 0.006120282353454722, 'epoch': 140}. Best is trial 2 with value: 230647.1159788746.\n",
      "[I 2025-10-25 18:23:33,690] Trial 4 finished with value: 825394.0133616516 and parameters: {'num_hidden_layers': 4, 'num_of_l0': 256, 'num_of_l1': 320, 'num_of_l2': 64, 'num_of_l3': 128, 'activation': 'Sigmoid', 'batch_size': 128, 'lr': 0.0034614414636290813, 'epoch': 160}. Best is trial 2 with value: 230647.1159788746.\n",
      "[I 2025-10-25 18:27:22,482] Trial 5 finished with value: 825394.0133616516 and parameters: {'num_hidden_layers': 7, 'num_of_l0': 64, 'num_of_l1': 128, 'num_of_l2': 64, 'num_of_l3': 448, 'num_of_l4': 512, 'num_of_l5': 320, 'num_of_l6': 512, 'activation': 'Sigmoid', 'batch_size': 64, 'lr': 0.00019681155330707734, 'epoch': 160}. Best is trial 2 with value: 230647.1159788746.\n",
      "[I 2025-10-25 18:28:54,519] Trial 6 finished with value: 825394.0133616516 and parameters: {'num_hidden_layers': 4, 'num_of_l0': 448, 'num_of_l1': 64, 'num_of_l2': 64, 'num_of_l3': 192, 'activation': 'ReLU', 'batch_size': 128, 'lr': 0.0006779937590431759, 'epoch': 130}. Best is trial 2 with value: 230647.1159788746.\n",
      "[I 2025-10-25 18:30:12,193] Trial 7 finished with value: 825394.0133616516 and parameters: {'num_hidden_layers': 8, 'num_of_l0': 192, 'num_of_l1': 448, 'num_of_l2': 384, 'num_of_l3': 128, 'num_of_l4': 384, 'num_of_l5': 384, 'num_of_l6': 384, 'num_of_l7': 256, 'activation': 'Tanh', 'batch_size': 64, 'lr': 0.007095080237831227, 'epoch': 50}. Best is trial 2 with value: 230647.1159788746.\n",
      "[I 2025-10-25 18:31:43,677] Trial 8 finished with value: 825394.0133616516 and parameters: {'num_hidden_layers': 11, 'num_of_l0': 320, 'num_of_l1': 128, 'num_of_l2': 448, 'num_of_l3': 320, 'num_of_l4': 192, 'num_of_l5': 64, 'num_of_l6': 64, 'num_of_l7': 128, 'num_of_l8': 512, 'num_of_l9': 64, 'num_of_l10': 384, 'activation': 'Tanh', 'batch_size': 128, 'lr': 0.005447455447581328, 'epoch': 90}. Best is trial 2 with value: 230647.1159788746.\n",
      "[I 2025-10-25 18:34:53,914] Trial 9 finished with value: 822099.0412479818 and parameters: {'num_hidden_layers': 12, 'num_of_l0': 320, 'num_of_l1': 384, 'num_of_l2': 256, 'num_of_l3': 384, 'num_of_l4': 512, 'num_of_l5': 192, 'num_of_l6': 256, 'num_of_l7': 448, 'num_of_l8': 384, 'num_of_l9': 128, 'num_of_l10': 320, 'num_of_l11': 64, 'activation': 'Sigmoid', 'batch_size': 128, 'lr': 0.0021171499073818264, 'epoch': 180}. Best is trial 2 with value: 230647.1159788746.\n",
      "[I 2025-10-25 18:38:33,319] Trial 10 finished with value: 825394.0133616516 and parameters: {'num_hidden_layers': 10, 'num_of_l0': 512, 'num_of_l1': 256, 'num_of_l2': 512, 'num_of_l3': 256, 'num_of_l4': 64, 'num_of_l5': 64, 'num_of_l6': 64, 'num_of_l7': 64, 'num_of_l8': 64, 'num_of_l9': 512, 'activation': 'ReLU', 'batch_size': 32, 'lr': 0.0008951948834274887, 'epoch': 70}. Best is trial 2 with value: 230647.1159788746.\n",
      "[I 2025-10-25 18:44:32,307] Trial 11 finished with value: 400238.19967546576 and parameters: {'num_hidden_layers': 9, 'num_of_l0': 64, 'num_of_l1': 192, 'num_of_l2': 320, 'num_of_l3': 256, 'num_of_l4': 384, 'num_of_l5': 448, 'num_of_l6': 128, 'num_of_l7': 512, 'num_of_l8': 64, 'activation': 'ReLU', 'batch_size': 32, 'lr': 0.0017868092477568666, 'epoch': 120}. Best is trial 2 with value: 230647.1159788746.\n",
      "[I 2025-10-25 18:50:18,504] Trial 12 finished with value: 228682.5708594417 and parameters: {'num_hidden_layers': 10, 'num_of_l0': 128, 'num_of_l1': 192, 'num_of_l2': 384, 'num_of_l3': 320, 'num_of_l4': 384, 'num_of_l5': 512, 'num_of_l6': 128, 'num_of_l7': 256, 'num_of_l8': 64, 'num_of_l9': 448, 'activation': 'ReLU', 'batch_size': 32, 'lr': 0.001736148807460188, 'epoch': 110}. Best is trial 12 with value: 228682.5708594417.\n",
      "[I 2025-10-25 18:55:01,729] Trial 13 finished with value: 825394.0133616516 and parameters: {'num_hidden_layers': 10, 'num_of_l0': 192, 'num_of_l1': 192, 'num_of_l2': 384, 'num_of_l3': 384, 'num_of_l4': 384, 'num_of_l5': 192, 'num_of_l6': 128, 'num_of_l7': 256, 'num_of_l8': 192, 'num_of_l9': 448, 'activation': 'ReLU', 'batch_size': 32, 'lr': 0.00042298309892600545, 'epoch': 90}. Best is trial 12 with value: 228682.5708594417.\n",
      "[I 2025-10-25 18:57:16,886] Trial 14 finished with value: 276079.36594159016 and parameters: {'num_hidden_layers': 6, 'num_of_l0': 128, 'num_of_l1': 64, 'num_of_l2': 512, 'num_of_l3': 320, 'num_of_l4': 320, 'num_of_l5': 192, 'activation': 'ReLU', 'batch_size': 64, 'lr': 0.00186485859172784, 'epoch': 100}. Best is trial 12 with value: 228682.5708594417.\n",
      "[I 2025-10-25 19:00:44,674] Trial 15 finished with value: 242507.69750461736 and parameters: {'num_hidden_layers': 9, 'num_of_l0': 192, 'num_of_l1': 256, 'num_of_l2': 384, 'num_of_l3': 384, 'num_of_l4': 448, 'num_of_l5': 512, 'num_of_l6': 64, 'num_of_l7': 192, 'num_of_l8': 256, 'activation': 'ReLU', 'batch_size': 32, 'lr': 0.0001087333477611435, 'epoch': 70}. Best is trial 12 with value: 228682.5708594417.\n",
      "[I 2025-10-25 19:04:54,691] Trial 16 finished with value: 825394.0133616516 and parameters: {'num_hidden_layers': 11, 'num_of_l0': 128, 'num_of_l1': 128, 'num_of_l2': 320, 'num_of_l3': 64, 'num_of_l4': 192, 'num_of_l5': 256, 'num_of_l6': 384, 'num_of_l7': 320, 'num_of_l8': 192, 'num_of_l9': 320, 'num_of_l10': 64, 'activation': 'ReLU', 'batch_size': 64, 'lr': 0.0028245570108057752, 'epoch': 140}. Best is trial 12 with value: 228682.5708594417.\n",
      "[I 2025-10-25 19:06:47,592] Trial 17 finished with value: 240039.65072681144 and parameters: {'num_hidden_layers': 9, 'num_of_l0': 128, 'num_of_l1': 128, 'num_of_l2': 448, 'num_of_l3': 192, 'num_of_l4': 448, 'num_of_l5': 128, 'num_of_l6': 192, 'num_of_l7': 64, 'num_of_l8': 384, 'activation': 'ReLU', 'batch_size': 64, 'lr': 0.0012645337531124467, 'epoch': 70}. Best is trial 12 with value: 228682.5708594417.\n",
      "[I 2025-10-25 19:13:13,995] Trial 18 finished with value: 825394.0133616516 and parameters: {'num_hidden_layers': 12, 'num_of_l0': 384, 'num_of_l1': 512, 'num_of_l2': 192, 'num_of_l3': 320, 'num_of_l4': 256, 'num_of_l5': 320, 'num_of_l6': 128, 'num_of_l7': 320, 'num_of_l8': 128, 'num_of_l9': 384, 'num_of_l10': 512, 'num_of_l11': 512, 'activation': 'ReLU', 'batch_size': 32, 'lr': 0.0004911579439976909, 'epoch': 110}. Best is trial 12 with value: 228682.5708594417.\n",
      "[I 2025-10-25 19:15:22,133] Trial 19 finished with value: 784053.7535512665 and parameters: {'num_hidden_layers': 7, 'num_of_l0': 192, 'num_of_l1': 320, 'num_of_l2': 448, 'num_of_l3': 448, 'num_of_l4': 448, 'num_of_l5': 448, 'num_of_l6': 192, 'activation': 'Sigmoid', 'batch_size': 64, 'lr': 0.009326732766214775, 'epoch': 90}. Best is trial 12 with value: 228682.5708594417.\n",
      "[I 2025-10-25 19:17:59,324] Trial 20 finished with value: 825394.0133616516 and parameters: {'num_hidden_layers': 10, 'num_of_l0': 128, 'num_of_l1': 192, 'num_of_l2': 320, 'num_of_l3': 192, 'num_of_l4': 64, 'num_of_l5': 256, 'num_of_l6': 320, 'num_of_l7': 128, 'num_of_l8': 320, 'num_of_l9': 192, 'activation': 'ReLU', 'batch_size': 32, 'lr': 0.0010578350350361285, 'epoch': 50}. Best is trial 12 with value: 228682.5708594417.\n",
      "[I 2025-10-25 19:19:52,339] Trial 21 finished with value: 226240.09713730417 and parameters: {'num_hidden_layers': 9, 'num_of_l0': 128, 'num_of_l1': 128, 'num_of_l2': 448, 'num_of_l3': 192, 'num_of_l4': 448, 'num_of_l5': 128, 'num_of_l6': 192, 'num_of_l7': 64, 'num_of_l8': 448, 'activation': 'ReLU', 'batch_size': 64, 'lr': 0.001414992170678227, 'epoch': 70}. Best is trial 21 with value: 226240.09713730417.\n",
      "[I 2025-10-25 19:21:54,206] Trial 22 finished with value: 825394.0133616516 and parameters: {'num_hidden_layers': 8, 'num_of_l0': 256, 'num_of_l1': 64, 'num_of_l2': 384, 'num_of_l3': 192, 'num_of_l4': 384, 'num_of_l5': 128, 'num_of_l6': 128, 'num_of_l7': 128, 'activation': 'ReLU', 'batch_size': 64, 'lr': 0.003440740679151531, 'epoch': 80}. Best is trial 21 with value: 226240.09713730417.\n",
      "[I 2025-10-25 19:25:08,229] Trial 23 finished with value: 259878.13866950612 and parameters: {'num_hidden_layers': 9, 'num_of_l0': 128, 'num_of_l1': 128, 'num_of_l2': 448, 'num_of_l3': 256, 'num_of_l4': 448, 'num_of_l5': 128, 'num_of_l6': 192, 'num_of_l7': 192, 'num_of_l8': 512, 'activation': 'ReLU', 'batch_size': 64, 'lr': 0.0013050507228726336, 'epoch': 120}. Best is trial 21 with value: 226240.09713730417.\n",
      "[I 2025-10-25 19:26:54,933] Trial 24 finished with value: 227554.2839071646 and parameters: {'num_hidden_layers': 11, 'num_of_l0': 192, 'num_of_l1': 256, 'num_of_l2': 512, 'num_of_l3': 64, 'num_of_l4': 320, 'num_of_l5': 64, 'num_of_l6': 64, 'num_of_l7': 64, 'num_of_l8': 448, 'num_of_l9': 256, 'num_of_l10': 64, 'activation': 'ReLU', 'batch_size': 64, 'lr': 0.0027407732044797575, 'epoch': 60}. Best is trial 21 with value: 226240.09713730417.\n",
      "[I 2025-10-25 19:28:25,061] Trial 25 finished with value: 825394.0133616516 and parameters: {'num_hidden_layers': 11, 'num_of_l0': 64, 'num_of_l1': 256, 'num_of_l2': 512, 'num_of_l3': 64, 'num_of_l4': 320, 'num_of_l5': 128, 'num_of_l6': 128, 'num_of_l7': 64, 'num_of_l8': 448, 'num_of_l9': 256, 'num_of_l10': 64, 'activation': 'ReLU', 'batch_size': 64, 'lr': 0.0005233299656982575, 'epoch': 50}. Best is trial 21 with value: 226240.09713730417.\n",
      "[I 2025-10-25 19:31:44,360] Trial 26 finished with value: 825394.0133616516 and parameters: {'num_hidden_layers': 11, 'num_of_l0': 128, 'num_of_l1': 256, 'num_of_l2': 512, 'num_of_l3': 64, 'num_of_l4': 256, 'num_of_l5': 64, 'num_of_l6': 192, 'num_of_l7': 384, 'num_of_l8': 384, 'num_of_l9': 320, 'num_of_l10': 192, 'activation': 'ReLU', 'batch_size': 32, 'lr': 0.00032657585682845184, 'epoch': 60}. Best is trial 21 with value: 226240.09713730417.\n",
      "[I 2025-10-25 19:34:00,793] Trial 27 finished with value: 277583.6762060204 and parameters: {'num_hidden_layers': 10, 'num_of_l0': 256, 'num_of_l1': 320, 'num_of_l2': 448, 'num_of_l3': 128, 'num_of_l4': 192, 'num_of_l5': 192, 'num_of_l6': 256, 'num_of_l7': 192, 'num_of_l8': 448, 'num_of_l9': 512, 'activation': 'ReLU', 'batch_size': 64, 'lr': 0.0007960550551050934, 'epoch': 80}. Best is trial 21 with value: 226240.09713730417.\n",
      "[I 2025-10-25 19:35:52,996] Trial 28 finished with value: 825394.0133616516 and parameters: {'num_hidden_layers': 12, 'num_of_l0': 192, 'num_of_l1': 192, 'num_of_l2': 512, 'num_of_l3': 64, 'num_of_l4': 320, 'num_of_l5': 256, 'num_of_l6': 64, 'num_of_l7': 64, 'num_of_l8': 320, 'num_of_l9': 256, 'num_of_l10': 192, 'num_of_l11': 256, 'activation': 'Tanh', 'batch_size': 64, 'lr': 0.0014746102940473647, 'epoch': 60}. Best is trial 21 with value: 226240.09713730417.\n",
      "[I 2025-10-25 19:40:03,192] Trial 29 finished with value: 782720.4465585544 and parameters: {'num_hidden_layers': 10, 'num_of_l0': 64, 'num_of_l1': 384, 'num_of_l2': 448, 'num_of_l3': 128, 'num_of_l4': 448, 'num_of_l5': 384, 'num_of_l6': 320, 'num_of_l7': 192, 'num_of_l8': 448, 'num_of_l9': 384, 'activation': 'Sigmoid', 'batch_size': 32, 'lr': 0.0025427867374895785, 'epoch': 80}. Best is trial 21 with value: 226240.09713730417.\n",
      "[I 2025-10-25 19:45:58,464] Trial 30 finished with value: 782100.3675664071 and parameters: {'num_hidden_layers': 11, 'num_of_l0': 128, 'num_of_l1': 192, 'num_of_l2': 320, 'num_of_l3': 128, 'num_of_l4': 128, 'num_of_l5': 128, 'num_of_l6': 128, 'num_of_l7': 256, 'num_of_l8': 512, 'num_of_l9': 192, 'num_of_l10': 192, 'activation': 'Tanh', 'batch_size': 64, 'lr': 0.003938785827855381, 'epoch': 200}. Best is trial 21 with value: 226240.09713730417.\n",
      "[I 2025-10-25 19:48:31,956] Trial 31 finished with value: 825394.0133616516 and parameters: {'num_hidden_layers': 8, 'num_of_l0': 192, 'num_of_l1': 64, 'num_of_l2': 384, 'num_of_l3': 320, 'num_of_l4': 384, 'num_of_l5': 64, 'num_of_l6': 64, 'num_of_l7': 128, 'activation': 'ReLU', 'batch_size': 64, 'lr': 0.0023480258071024145, 'epoch': 100}. Best is trial 21 with value: 226240.09713730417.\n",
      "[I 2025-10-25 19:51:29,875] Trial 32 finished with value: 333491.66380788333 and parameters: {'num_hidden_layers': 9, 'num_of_l0': 256, 'num_of_l1': 128, 'num_of_l2': 384, 'num_of_l3': 256, 'num_of_l4': 384, 'num_of_l5': 64, 'num_of_l6': 64, 'num_of_l7': 64, 'num_of_l8': 256, 'activation': 'ReLU', 'batch_size': 64, 'lr': 0.001731596794174686, 'epoch': 110}. Best is trial 21 with value: 226240.09713730417.\n",
      "[I 2025-10-25 19:53:53,391] Trial 33 finished with value: 215274.4570296091 and parameters: {'num_hidden_layers': 7, 'num_of_l0': 192, 'num_of_l1': 64, 'num_of_l2': 448, 'num_of_l3': 192, 'num_of_l4': 256, 'num_of_l5': 64, 'num_of_l6': 128, 'activation': 'ReLU', 'batch_size': 64, 'lr': 0.004148611637110045, 'epoch': 100}. Best is trial 33 with value: 215274.4570296091.\n",
      "[I 2025-10-25 19:55:14,403] Trial 34 finished with value: 216116.4726651903 and parameters: {'num_hidden_layers': 6, 'num_of_l0': 192, 'num_of_l1': 64, 'num_of_l2': 448, 'num_of_l3': 192, 'num_of_l4': 256, 'num_of_l5': 512, 'activation': 'ReLU', 'batch_size': 64, 'lr': 0.003595447523787346, 'epoch': 60}. Best is trial 33 with value: 215274.4570296091.\n",
      "[I 2025-10-25 19:56:35,112] Trial 35 finished with value: 252871.51608267697 and parameters: {'num_hidden_layers': 6, 'num_of_l0': 256, 'num_of_l1': 64, 'num_of_l2': 512, 'num_of_l3': 192, 'num_of_l4': 256, 'num_of_l5': 128, 'activation': 'ReLU', 'batch_size': 64, 'lr': 0.004538241702090809, 'epoch': 60}. Best is trial 33 with value: 215274.4570296091.\n",
      "[I 2025-10-25 19:58:09,341] Trial 36 finished with value: 269763.5124805362 and parameters: {'num_hidden_layers': 6, 'num_of_l0': 320, 'num_of_l1': 64, 'num_of_l2': 448, 'num_of_l3': 192, 'num_of_l4': 256, 'num_of_l5': 448, 'activation': 'ReLU', 'batch_size': 64, 'lr': 0.007324740360625999, 'epoch': 70}. Best is trial 33 with value: 215274.4570296091.\n",
      "[I 2025-10-25 19:59:24,713] Trial 37 finished with value: 818129.2527209455 and parameters: {'num_hidden_layers': 5, 'num_of_l0': 192, 'num_of_l1': 128, 'num_of_l2': 128, 'num_of_l3': 128, 'num_of_l4': 128, 'activation': 'Tanh', 'batch_size': 64, 'lr': 0.00326082058240525, 'epoch': 60}. Best is trial 33 with value: 215274.4570296091.\n",
      "[I 2025-10-25 20:01:04,645] Trial 38 finished with value: 825394.0133616516 and parameters: {'num_hidden_layers': 5, 'num_of_l0': 256, 'num_of_l1': 64, 'num_of_l2': 512, 'num_of_l3': 192, 'num_of_l4': 192, 'activation': 'Sigmoid', 'batch_size': 64, 'lr': 0.004573726467360665, 'epoch': 80}. Best is trial 33 with value: 215274.4570296091.\n",
      "[I 2025-10-25 20:01:46,767] Trial 39 finished with value: 825394.0133616516 and parameters: {'num_hidden_layers': 7, 'num_of_l0': 192, 'num_of_l1': 128, 'num_of_l2': 448, 'num_of_l3': 64, 'num_of_l4': 320, 'num_of_l5': 64, 'num_of_l6': 256, 'activation': 'ReLU', 'batch_size': 128, 'lr': 0.005920621109399389, 'epoch': 50}. Best is trial 33 with value: 215274.4570296091.\n",
      "[I 2025-10-25 20:03:07,794] Trial 40 finished with value: 281367.1325030868 and parameters: {'num_hidden_layers': 6, 'num_of_l0': 384, 'num_of_l1': 448, 'num_of_l2': 256, 'num_of_l3': 128, 'num_of_l4': 256, 'num_of_l5': 64, 'activation': 'ReLU', 'batch_size': 64, 'lr': 0.009784314439525486, 'epoch': 60}. Best is trial 33 with value: 215274.4570296091.\n",
      "[I 2025-10-25 20:06:29,260] Trial 41 finished with value: 281925.6300478539 and parameters: {'num_hidden_layers': 7, 'num_of_l0': 128, 'num_of_l1': 192, 'num_of_l2': 448, 'num_of_l3': 256, 'num_of_l4': 320, 'num_of_l5': 512, 'num_of_l6': 128, 'activation': 'ReLU', 'batch_size': 64, 'lr': 0.0029382973850662635, 'epoch': 140}. Best is trial 33 with value: 215274.4570296091.\n",
      "[I 2025-10-25 20:08:24,504] Trial 42 finished with value: 207111.20379018277 and parameters: {'num_hidden_layers': 8, 'num_of_l0': 64, 'num_of_l1': 128, 'num_of_l2': 448, 'num_of_l3': 320, 'num_of_l4': 512, 'num_of_l5': 512, 'num_of_l6': 192, 'num_of_l7': 384, 'activation': 'ReLU', 'batch_size': 128, 'lr': 0.002215186859186184, 'epoch': 130}. Best is trial 42 with value: 207111.20379018277.\n",
      "[I 2025-10-25 20:10:37,651] Trial 43 finished with value: 211562.40499674404 and parameters: {'num_hidden_layers': 8, 'num_of_l0': 64, 'num_of_l1': 64, 'num_of_l2': 512, 'num_of_l3': 512, 'num_of_l4': 512, 'num_of_l5': 320, 'num_of_l6': 192, 'num_of_l7': 384, 'activation': 'ReLU', 'batch_size': 128, 'lr': 0.0022998822164509774, 'epoch': 150}. Best is trial 42 with value: 207111.20379018277.\n",
      "[I 2025-10-25 20:12:59,208] Trial 44 finished with value: 211533.9436273572 and parameters: {'num_hidden_layers': 8, 'num_of_l0': 64, 'num_of_l1': 64, 'num_of_l2': 448, 'num_of_l3': 448, 'num_of_l4': 512, 'num_of_l5': 448, 'num_of_l6': 192, 'num_of_l7': 384, 'activation': 'ReLU', 'batch_size': 128, 'lr': 0.003940772815557455, 'epoch': 160}. Best is trial 42 with value: 207111.20379018277.\n",
      "[I 2025-10-25 20:15:20,267] Trial 45 finished with value: 215854.29082048993 and parameters: {'num_hidden_layers': 8, 'num_of_l0': 64, 'num_of_l1': 64, 'num_of_l2': 512, 'num_of_l3': 512, 'num_of_l4': 512, 'num_of_l5': 448, 'num_of_l6': 256, 'num_of_l7': 384, 'activation': 'ReLU', 'batch_size': 128, 'lr': 0.0041133796758202005, 'epoch': 160}. Best is trial 42 with value: 207111.20379018277.\n",
      "[I 2025-10-25 20:17:33,670] Trial 46 finished with value: 783128.2869538347 and parameters: {'num_hidden_layers': 7, 'num_of_l0': 64, 'num_of_l1': 64, 'num_of_l2': 512, 'num_of_l3': 512, 'num_of_l4': 512, 'num_of_l5': 384, 'num_of_l6': 256, 'activation': 'Tanh', 'batch_size': 128, 'lr': 0.0072106064502178565, 'epoch': 160}. Best is trial 42 with value: 207111.20379018277.\n",
      "[I 2025-10-25 20:20:02,232] Trial 47 finished with value: 825394.0133616516 and parameters: {'num_hidden_layers': 8, 'num_of_l0': 64, 'num_of_l1': 64, 'num_of_l2': 512, 'num_of_l3': 448, 'num_of_l4': 512, 'num_of_l5': 448, 'num_of_l6': 192, 'num_of_l7': 384, 'activation': 'Sigmoid', 'batch_size': 128, 'lr': 0.0050265039013838025, 'epoch': 170}. Best is trial 42 with value: 207111.20379018277.\n",
      "[I 2025-10-25 20:22:14,028] Trial 48 finished with value: 208663.68432515865 and parameters: {'num_hidden_layers': 8, 'num_of_l0': 64, 'num_of_l1': 64, 'num_of_l2': 512, 'num_of_l3': 512, 'num_of_l4': 512, 'num_of_l5': 320, 'num_of_l6': 320, 'num_of_l7': 384, 'activation': 'ReLU', 'batch_size': 128, 'lr': 0.0022471758591309523, 'epoch': 150}. Best is trial 42 with value: 207111.20379018277.\n",
      "[I 2025-10-25 20:24:19,813] Trial 49 finished with value: 205126.78862264194 and parameters: {'num_hidden_layers': 7, 'num_of_l0': 64, 'num_of_l1': 128, 'num_of_l2': 192, 'num_of_l3': 448, 'num_of_l4': 512, 'num_of_l5': 320, 'num_of_l6': 320, 'activation': 'ReLU', 'batch_size': 128, 'lr': 0.002165125139936706, 'epoch': 150}. Best is trial 49 with value: 205126.78862264194.\n",
      "[I 2025-10-25 20:26:31,856] Trial 50 finished with value: 825394.0133616516 and parameters: {'num_hidden_layers': 8, 'num_of_l0': 64, 'num_of_l1': 128, 'num_of_l2': 192, 'num_of_l3': 448, 'num_of_l4': 512, 'num_of_l5': 320, 'num_of_l6': 384, 'num_of_l7': 448, 'activation': 'ReLU', 'batch_size': 128, 'lr': 0.0020998650534637163, 'epoch': 150}. Best is trial 49 with value: 205126.78862264194.\n",
      "[I 2025-10-25 20:28:37,080] Trial 51 finished with value: 221627.28371033847 and parameters: {'num_hidden_layers': 7, 'num_of_l0': 64, 'num_of_l1': 64, 'num_of_l2': 192, 'num_of_l3': 512, 'num_of_l4': 512, 'num_of_l5': 320, 'num_of_l6': 320, 'activation': 'ReLU', 'batch_size': 128, 'lr': 0.0021374450152451033, 'epoch': 150}. Best is trial 49 with value: 205126.78862264194.\n",
      "[I 2025-10-25 20:30:25,927] Trial 52 finished with value: 825394.0133616516 and parameters: {'num_hidden_layers': 7, 'num_of_l0': 64, 'num_of_l1': 128, 'num_of_l2': 128, 'num_of_l3': 384, 'num_of_l4': 512, 'num_of_l5': 320, 'num_of_l6': 320, 'activation': 'ReLU', 'batch_size': 128, 'lr': 0.0030992622512664458, 'epoch': 130}. Best is trial 49 with value: 205126.78862264194.\n",
      "[I 2025-10-25 20:32:56,368] Trial 53 finished with value: 208445.23452537754 and parameters: {'num_hidden_layers': 8, 'num_of_l0': 64, 'num_of_l1': 64, 'num_of_l2': 192, 'num_of_l3': 448, 'num_of_l4': 448, 'num_of_l5': 384, 'num_of_l6': 448, 'num_of_l7': 384, 'activation': 'ReLU', 'batch_size': 128, 'lr': 0.0010019111679764117, 'epoch': 170}. Best is trial 49 with value: 205126.78862264194.\n",
      "[I 2025-10-25 20:35:35,475] Trial 54 finished with value: 203919.59451113324 and parameters: {'num_hidden_layers': 8, 'num_of_l0': 64, 'num_of_l1': 128, 'num_of_l2': 192, 'num_of_l3': 448, 'num_of_l4': 448, 'num_of_l5': 384, 'num_of_l6': 448, 'num_of_l7': 384, 'activation': 'ReLU', 'batch_size': 128, 'lr': 0.000995390093207534, 'epoch': 180}. Best is trial 54 with value: 203919.59451113324.\n",
      "[I 2025-10-25 20:38:14,441] Trial 55 finished with value: 225549.18826532378 and parameters: {'num_hidden_layers': 8, 'num_of_l0': 64, 'num_of_l1': 128, 'num_of_l2': 192, 'num_of_l3': 448, 'num_of_l4': 448, 'num_of_l5': 384, 'num_of_l6': 512, 'num_of_l7': 320, 'activation': 'ReLU', 'batch_size': 128, 'lr': 0.0010517724686943833, 'epoch': 180}. Best is trial 54 with value: 203919.59451113324.\n",
      "[I 2025-10-25 20:41:00,829] Trial 56 finished with value: 210403.34170511173 and parameters: {'num_hidden_layers': 9, 'num_of_l0': 64, 'num_of_l1': 128, 'num_of_l2': 256, 'num_of_l3': 448, 'num_of_l4': 448, 'num_of_l5': 384, 'num_of_l6': 448, 'num_of_l7': 448, 'num_of_l8': 128, 'activation': 'ReLU', 'batch_size': 128, 'lr': 0.0006619015410922471, 'epoch': 180}. Best is trial 54 with value: 203919.59451113324.\n",
      "[I 2025-10-25 20:43:47,743] Trial 57 finished with value: 210433.27369670718 and parameters: {'num_hidden_layers': 9, 'num_of_l0': 64, 'num_of_l1': 128, 'num_of_l2': 256, 'num_of_l3': 384, 'num_of_l4': 448, 'num_of_l5': 384, 'num_of_l6': 448, 'num_of_l7': 512, 'num_of_l8': 128, 'activation': 'ReLU', 'batch_size': 128, 'lr': 0.0005793596572628466, 'epoch': 180}. Best is trial 54 with value: 203919.59451113324.\n",
      "[I 2025-10-25 20:46:42,893] Trial 58 finished with value: 822722.0895553234 and parameters: {'num_hidden_layers': 9, 'num_of_l0': 128, 'num_of_l1': 192, 'num_of_l2': 256, 'num_of_l3': 448, 'num_of_l4': 448, 'num_of_l5': 384, 'num_of_l6': 448, 'num_of_l7': 448, 'num_of_l8': 128, 'activation': 'Sigmoid', 'batch_size': 128, 'lr': 0.0008312865869765973, 'epoch': 190}. Best is trial 54 with value: 203919.59451113324.\n",
      "[I 2025-10-25 20:49:13,159] Trial 59 finished with value: 825394.0133616516 and parameters: {'num_hidden_layers': 8, 'num_of_l0': 128, 'num_of_l1': 128, 'num_of_l2': 192, 'num_of_l3': 384, 'num_of_l4': 448, 'num_of_l5': 256, 'num_of_l6': 448, 'num_of_l7': 448, 'activation': 'ReLU', 'batch_size': 128, 'lr': 0.0003614854422675619, 'epoch': 170}. Best is trial 54 with value: 203919.59451113324.\n",
      "[I 2025-10-25 20:51:50,768] Trial 60 finished with value: 204326.0378133289 and parameters: {'num_hidden_layers': 9, 'num_of_l0': 64, 'num_of_l1': 128, 'num_of_l2': 128, 'num_of_l3': 512, 'num_of_l4': 448, 'num_of_l5': 320, 'num_of_l6': 384, 'num_of_l7': 512, 'num_of_l8': 192, 'activation': 'ReLU', 'batch_size': 128, 'lr': 0.0007453295023569564, 'epoch': 170}. Best is trial 54 with value: 203919.59451113324.\n",
      "[I 2025-10-25 20:54:27,900] Trial 61 finished with value: 825394.0133616516 and parameters: {'num_hidden_layers': 9, 'num_of_l0': 64, 'num_of_l1': 128, 'num_of_l2': 128, 'num_of_l3': 512, 'num_of_l4': 448, 'num_of_l5': 320, 'num_of_l6': 384, 'num_of_l7': 512, 'num_of_l8': 192, 'activation': 'ReLU', 'batch_size': 128, 'lr': 0.0007199416786213388, 'epoch': 170}. Best is trial 54 with value: 203919.59451113324.\n",
      "[I 2025-10-25 20:57:24,032] Trial 62 finished with value: 825394.0133616516 and parameters: {'num_hidden_layers': 9, 'num_of_l0': 512, 'num_of_l1': 192, 'num_of_l2': 64, 'num_of_l3': 448, 'num_of_l4': 512, 'num_of_l5': 320, 'num_of_l6': 448, 'num_of_l7': 448, 'num_of_l8': 256, 'activation': 'ReLU', 'batch_size': 128, 'lr': 0.0009583425416020955, 'epoch': 190}. Best is trial 54 with value: 203919.59451113324.\n",
      "[I 2025-10-25 21:00:20,700] Trial 63 finished with value: 207349.42684909838 and parameters: {'num_hidden_layers': 8, 'num_of_l0': 64, 'num_of_l1': 128, 'num_of_l2': 192, 'num_of_l3': 512, 'num_of_l4': 448, 'num_of_l5': 384, 'num_of_l6': 384, 'num_of_l7': 512, 'activation': 'ReLU', 'batch_size': 128, 'lr': 0.0006392430349355503, 'epoch': 200}. Best is trial 54 with value: 203919.59451113324.\n",
      "[I 2025-10-25 21:03:08,397] Trial 64 finished with value: 212605.7766063121 and parameters: {'num_hidden_layers': 7, 'num_of_l0': 128, 'num_of_l1': 128, 'num_of_l2': 128, 'num_of_l3': 512, 'num_of_l4': 448, 'num_of_l5': 256, 'num_of_l6': 384, 'activation': 'ReLU', 'batch_size': 128, 'lr': 0.0011539068492805488, 'epoch': 200}. Best is trial 54 with value: 203919.59451113324.\n",
      "[I 2025-10-25 21:05:56,207] Trial 65 finished with value: 207788.29201509902 and parameters: {'num_hidden_layers': 8, 'num_of_l0': 64, 'num_of_l1': 192, 'num_of_l2': 192, 'num_of_l3': 512, 'num_of_l4': 512, 'num_of_l5': 384, 'num_of_l6': 384, 'num_of_l7': 512, 'activation': 'ReLU', 'batch_size': 128, 'lr': 0.00024161407554609395, 'epoch': 190}. Best is trial 54 with value: 203919.59451113324.\n",
      "[I 2025-10-25 21:08:43,610] Trial 66 finished with value: 822336.2714908186 and parameters: {'num_hidden_layers': 8, 'num_of_l0': 128, 'num_of_l1': 192, 'num_of_l2': 192, 'num_of_l3': 512, 'num_of_l4': 384, 'num_of_l5': 384, 'num_of_l6': 384, 'num_of_l7': 512, 'activation': 'Tanh', 'batch_size': 128, 'lr': 0.00021663704277977632, 'epoch': 190}. Best is trial 54 with value: 203919.59451113324.\n",
      "[I 2025-10-25 21:11:40,094] Trial 67 finished with value: 825394.0133616516 and parameters: {'num_hidden_layers': 8, 'num_of_l0': 64, 'num_of_l1': 192, 'num_of_l2': 192, 'num_of_l3': 448, 'num_of_l4': 448, 'num_of_l5': 384, 'num_of_l6': 512, 'num_of_l7': 512, 'activation': 'ReLU', 'batch_size': 128, 'lr': 0.00015821701506370397, 'epoch': 200}. Best is trial 54 with value: 203919.59451113324.\n",
      "[I 2025-10-25 21:14:02,394] Trial 68 finished with value: 825394.0133616516 and parameters: {'num_hidden_layers': 7, 'num_of_l0': 128, 'num_of_l1': 128, 'num_of_l2': 128, 'num_of_l3': 384, 'num_of_l4': 384, 'num_of_l5': 384, 'num_of_l6': 384, 'activation': 'ReLU', 'batch_size': 128, 'lr': 0.0002813018527824793, 'epoch': 170}. Best is trial 54 with value: 203919.59451113324.\n",
      "[I 2025-10-25 21:16:51,410] Trial 69 finished with value: 219094.11535588856 and parameters: {'num_hidden_layers': 8, 'num_of_l0': 448, 'num_of_l1': 256, 'num_of_l2': 64, 'num_of_l3': 512, 'num_of_l4': 512, 'num_of_l5': 448, 'num_of_l6': 448, 'num_of_l7': 512, 'activation': 'ReLU', 'batch_size': 128, 'lr': 0.00010034135410148635, 'epoch': 190}. Best is trial 54 with value: 203919.59451113324.\n"
     ]
    }
   ],
   "source": [
    "train = optuna.create_study(direction='minimize')\n",
    "x_train_PD = x_train_df1.toPandas()\n",
    "y_train_PD = y_train_df.toPandas()\n",
    "# x_test_np = x_test_df.toPandas()\n",
    "# y_test_np = y_test_df.toPandas()\n",
    "train.optimize(lambda trial: Objective(x_train_PD, y_train_PD, trial), n_trials = 70)"
   ]
  },
  {
   "cell_type": "code",
   "execution_count": 13,
   "metadata": {
    "execution": {
     "iopub.execute_input": "2025-10-25T21:16:51.413933Z",
     "iopub.status.busy": "2025-10-25T21:16:51.413763Z",
     "iopub.status.idle": "2025-10-25T21:16:51.417577Z",
     "shell.execute_reply": "2025-10-25T21:16:51.416846Z",
     "shell.execute_reply.started": "2025-10-25T21:16:51.413920Z"
    },
    "id": "DjmgvqckgRqe",
    "trusted": true
   },
   "outputs": [],
   "source": [
    "\n",
    "# load lại mô hình\n",
    "checkpoint = torch.load(\"checkpoint1.pth\", map_location=\"cpu\")\n",
    "\n",
    "activation_func = checkpoint['activation_func']\n",
    "activation = getattr(nn, activation_func)\n",
    "input_dim = checkpoint['input_dim']\n",
    "output_dim = checkpoint['output_dim']\n",
    "hidden_dim = checkpoint['hidden_dim']\n",
    "model = MLP_Regression(input_dim, hidden_dim, activation, output_dim).to(device)\n",
    "model.load_state_dict(checkpoint['model_state_dict'])\n",
    "\n",
    "tabular_model  = model"
   ]
  },
  {
   "cell_type": "code",
   "execution_count": 19,
   "metadata": {},
   "outputs": [
    {
     "name": "stdout",
     "output_type": "stream",
     "text": [
      "Test RMSE: 534359.9375\n"
     ]
    },
    {
     "name": "stderr",
     "output_type": "stream",
     "text": [
      "C:\\Users\\DoanQuangLam\\AppData\\Local\\Temp\\ipykernel_16788\\4017265484.py:14: UserWarning: Using a target size (torch.Size([3605, 1])) that is different to the input size (torch.Size([3605])). This will likely lead to incorrect results due to broadcasting. Please ensure they have the same size.\n",
      "  mse = F.mse_loss(y_pred, y_test_tensor)\n"
     ]
    }
   ],
   "source": [
    "# đánh giá trên tập dữ liệu test\n",
    "import torch.nn.functional as F\n",
    "\n",
    "x_test_pd = x_test_df1.toPandas()\n",
    "y_test_pd = y_test_df.toPandas()\n",
    "\n",
    "X_test_tensor = torch.tensor(x_test_pd.values, dtype=torch.float32).to(device)\n",
    "y_test_tensor = torch.tensor(y_test_pd.values, dtype=torch.float32).to(device)\n",
    "\n",
    "model.eval()\n",
    "with torch.no_grad():\n",
    "    y_pred = tabular_model(X_test_tensor).squeeze()\n",
    "\n",
    "mse = F.mse_loss(y_pred, y_test_tensor)\n",
    "rmse = torch.sqrt(mse)\n",
    "\n",
    "\n",
    "print(f\"Test RMSE: {rmse.item():.4f}\")\n"
   ]
  },
  {
   "cell_type": "code",
   "execution_count": 12,
   "metadata": {
    "execution": {
     "iopub.execute_input": "2025-10-25T23:24:40.583692Z",
     "iopub.status.busy": "2025-10-25T23:24:40.583462Z",
     "iopub.status.idle": "2025-10-25T23:24:45.849605Z",
     "shell.execute_reply": "2025-10-25T23:24:45.848941Z",
     "shell.execute_reply.started": "2025-10-25T23:24:40.583674Z"
    },
    "id": "0M9yIC_OkXW0",
    "trusted": true
   },
   "outputs": [
    {
     "name": "stderr",
     "output_type": "stream",
     "text": [
      "25/10/25 23:24:42 WARN SparkStringUtils: Truncated the string representation of a plan since it was too large. This behavior can be adjusted by setting 'spark.sql.debug.maxToStringFields'.\n",
      "                                                                                \r"
     ]
    }
   ],
   "source": [
    "# đọc dữ liệu hình ảnh cho train\n",
    "import os\n",
    "\n",
    "train_image_id = train_df.select(\"image_id\").collect()\n",
    "y_df = train_df.select(\"price\")\n",
    "images_dir = \"/kaggle/input/dataset2/socal2/socal_pics/\"\n",
    "\n"
   ]
  },
  {
   "cell_type": "code",
   "execution_count": 13,
   "metadata": {
    "execution": {
     "iopub.execute_input": "2025-10-25T23:24:45.850416Z",
     "iopub.status.busy": "2025-10-25T23:24:45.850218Z",
     "iopub.status.idle": "2025-10-25T23:24:45.864706Z",
     "shell.execute_reply": "2025-10-25T23:24:45.863949Z",
     "shell.execute_reply.started": "2025-10-25T23:24:45.850400Z"
    },
    "id": "KnrwSvaUrCa4",
    "trusted": true
   },
   "outputs": [],
   "source": [
    "train_image_id = [row.image_id for row in train_image_id]\n"
   ]
  },
  {
   "cell_type": "code",
   "execution_count": 52,
   "metadata": {
    "colab": {
     "base_uri": "https://localhost:8080/"
    },
    "execution": {
     "iopub.execute_input": "2025-10-25T21:16:54.532179Z",
     "iopub.status.busy": "2025-10-25T21:16:54.531948Z",
     "iopub.status.idle": "2025-10-25T21:16:54.540556Z",
     "shell.execute_reply": "2025-10-25T21:16:54.539879Z",
     "shell.execute_reply.started": "2025-10-25T21:16:54.532165Z"
    },
    "id": "H39-iee_1Uwv",
    "outputId": "22794605-cab8-4127-ed1a-969d1462784e",
    "trusted": true
   },
   "outputs": [],
   "source": [
    "# train_df.show(5)"
   ]
  },
  {
   "cell_type": "code",
   "execution_count": 17,
   "metadata": {
    "execution": {
     "iopub.execute_input": "2025-10-25T23:26:54.636741Z",
     "iopub.status.busy": "2025-10-25T23:26:54.636477Z",
     "iopub.status.idle": "2025-10-25T23:26:54.642829Z",
     "shell.execute_reply": "2025-10-25T23:26:54.642129Z",
     "shell.execute_reply.started": "2025-10-25T23:26:54.636722Z"
    },
    "id": "XoUT8iojrmZB",
    "trusted": true
   },
   "outputs": [],
   "source": [
    "from PIL import Image\n",
    "class MultiModalDataset(Dataset):\n",
    "    def __init__(self, df, image_dir, transform):\n",
    "        self.df = df\n",
    "        self.image_dir = image_dir\n",
    "        self.transform = transform\n",
    "\n",
    "        self.image_ids = self.df['image_id'].values\n",
    "        self.tabular_data = self.df.drop(['price', 'image_id'], axis=1).values\n",
    "        self.target = self.df['price'].values\n",
    "\n",
    "    def __getitem__(self, index):\n",
    "        image_id = self.image_ids[index]\n",
    "        image_path = os.path.join(self.image_dir, f\"{image_id}.jpg\")\n",
    "\n",
    "        image = Image.open(image_path).convert('RGB')\n",
    "        image = self.transform(image)\n",
    "\n",
    "        tabular = torch.tensor(self.tabular_data[index], dtype=torch.float32)\n",
    "        target = torch.tensor(self.target[index], dtype=torch.float32)\n",
    "\n",
    "        return image, tabular, target\n",
    "\n",
    "    def __len__(self):\n",
    "        return len(self.df)\n"
   ]
  },
  {
   "cell_type": "code",
   "execution_count": 18,
   "metadata": {
    "execution": {
     "iopub.execute_input": "2025-10-25T23:26:58.000392Z",
     "iopub.status.busy": "2025-10-25T23:26:58.000120Z",
     "iopub.status.idle": "2025-10-25T23:27:01.132326Z",
     "shell.execute_reply": "2025-10-25T23:27:01.131671Z",
     "shell.execute_reply.started": "2025-10-25T23:26:58.000372Z"
    },
    "id": "591oyzeTub5X",
    "trusted": true
   },
   "outputs": [],
   "source": [
    "from torchvision import transforms\n",
    "import torchvision.models as models\n",
    "\n",
    "input_size = (311, 415)\n",
    "\n",
    "transform = transforms.Compose([\n",
    "    transforms.ToTensor()\n",
    "])"
   ]
  },
  {
   "cell_type": "code",
   "execution_count": 19,
   "metadata": {
    "execution": {
     "iopub.execute_input": "2025-10-25T23:27:01.133659Z",
     "iopub.status.busy": "2025-10-25T23:27:01.133265Z",
     "iopub.status.idle": "2025-10-25T23:27:01.141964Z",
     "shell.execute_reply": "2025-10-25T23:27:01.141195Z",
     "shell.execute_reply.started": "2025-10-25T23:27:01.133630Z"
    },
    "id": "KxuDJQWdmu-w",
    "trusted": true
   },
   "outputs": [],
   "source": [
    "class CNN_model(nn.Module):\n",
    "    def __init__(self):\n",
    "        super().__init__()\n",
    "        layers = []\n",
    "\n",
    "        # Conv block 1\n",
    "        layers.append(nn.Conv2d(3, 32, kernel_size=3, stride=1, padding=1))\n",
    "        layers.append(nn.BatchNorm2d(32))\n",
    "        layers.append(nn.ReLU())\n",
    "        layers.append(nn.Conv2d(32, 32, kernel_size=3, stride=1, padding=1))\n",
    "        layers.append(nn.BatchNorm2d(32))\n",
    "        layers.append(nn.ReLU())\n",
    "        layers.append(nn.MaxPool2d(2,2))\n",
    "        layers.append(nn.Dropout(0.2))\n",
    "\n",
    "        # Conv block 2\n",
    "        layers.append(nn.Conv2d(32, 64, kernel_size=3, stride=1, padding=1))\n",
    "        layers.append(nn.BatchNorm2d(64))\n",
    "        layers.append(nn.ReLU())\n",
    "        layers.append(nn.Conv2d(64, 64, kernel_size=3, stride=1, padding=1))\n",
    "        layers.append(nn.BatchNorm2d(64))\n",
    "        layers.append(nn.ReLU())\n",
    "        layers.append(nn.MaxPool2d(2,2))\n",
    "        layers.append(nn.Dropout(0.3))\n",
    "\n",
    "        # Conv block 3\n",
    "        layers.append(nn.Conv2d(64, 128, kernel_size=3, stride=1, padding=1))\n",
    "        layers.append(nn.BatchNorm2d(128))\n",
    "        layers.append(nn.ReLU())\n",
    "        layers.append(nn.Conv2d(128, 128, kernel_size=3, stride=1, padding=1))\n",
    "        layers.append(nn.BatchNorm2d(128))\n",
    "        layers.append(nn.ReLU())\n",
    "        layers.append(nn.AdaptiveAvgPool2d((7,7)))\n",
    "        layers.append(nn.Dropout(0.4))\n",
    "\n",
    "        self.features = nn.Sequential(*layers)\n",
    "        self.flatten = nn.Flatten()\n",
    "        self.fc = nn.Sequential(\n",
    "            nn.Linear(128*7*7, 512),\n",
    "            nn.ReLU(),\n",
    "            nn.Dropout(0.5),\n",
    "            nn.Linear(512, 256),\n",
    "            nn.ReLU()\n",
    "        )\n",
    "\n",
    "    def forward(self, x):\n",
    "        x = self.features(x)\n",
    "        x = self.flatten(x)\n",
    "        x = self.fc(x)\n",
    "        return x\n"
   ]
  },
  {
   "cell_type": "code",
   "execution_count": 22,
   "metadata": {
    "execution": {
     "iopub.execute_input": "2025-10-25T23:27:13.471275Z",
     "iopub.status.busy": "2025-10-25T23:27:13.470972Z",
     "iopub.status.idle": "2025-10-25T23:27:13.476737Z",
     "shell.execute_reply": "2025-10-25T23:27:13.476051Z",
     "shell.execute_reply.started": "2025-10-25T23:27:13.471255Z"
    },
    "trusted": true
   },
   "outputs": [],
   "source": [
    "class TabularModel(nn.Module):\n",
    "    def __init__(self, input_dim, hidden_dims=[256,128, 64, 32], tabular_out_dim=32, dropout=0.2):\n",
    "        super().__init__()\n",
    "        layers = []\n",
    "        in_dim = input_dim\n",
    "        for h_dim in hidden_dims:\n",
    "            layers.append(nn.Linear(in_dim, h_dim))\n",
    "            layers.append(nn.ReLU())\n",
    "            layers.append(nn.BatchNorm1d(h_dim))\n",
    "            layers.append(nn.Dropout(dropout))\n",
    "            in_dim = h_dim\n",
    "        self.mlp = nn.Sequential(*layers)\n",
    "        self.out = nn.Linear(hidden_dims[-1], tabular_out_dim)  # output nhiều chiều\n",
    "\n",
    "    def forward(self, x):\n",
    "        x = self.mlp(x)\n",
    "        x = self.out(x)\n",
    "        return x"
   ]
  },
  {
   "cell_type": "code",
   "execution_count": 23,
   "metadata": {
    "execution": {
     "iopub.execute_input": "2025-10-25T23:27:17.591311Z",
     "iopub.status.busy": "2025-10-25T23:27:17.591047Z",
     "iopub.status.idle": "2025-10-25T23:27:17.596868Z",
     "shell.execute_reply": "2025-10-25T23:27:17.596128Z",
     "shell.execute_reply.started": "2025-10-25T23:27:17.591292Z"
    },
    "id": "cb7uXUapyQId",
    "trusted": true
   },
   "outputs": [],
   "source": [
    "class FusionModel(nn.Module):\n",
    "    def __init__(self, tabular_model, cnn_model, tabular_out_dim=32):\n",
    "        super().__init__()\n",
    "        \n",
    "        self.tabular_model = tabular_model\n",
    "        self.cnn_model = cnn_model\n",
    "\n",
    "        fusion_input_size = tabular_out_dim + 256  # nhiều feature từ tabular + cnn\n",
    "        self.fusion_mlp = nn.Sequential(\n",
    "            nn.Linear(fusion_input_size, 256),\n",
    "            nn.ReLU(),\n",
    "            nn.Dropout(0.3),\n",
    "            nn.Linear(256, 128),\n",
    "            nn.ReLU(),\n",
    "            nn.Dropout(0.2),\n",
    "            nn.Linear(128, 64),\n",
    "            nn.ReLU(),\n",
    "            nn.Linear(64, 1)  # dự đoán giá nhà\n",
    "        )\n",
    "\n",
    "    def forward(self, x_tabular, x_cnn):\n",
    "        x_tabular = self.tabular_model(x_tabular)\n",
    "        x_cnn = self.cnn_model(x_cnn)\n",
    "        x_fusion = torch.cat([x_tabular, x_cnn], dim=1)\n",
    "        return self.fusion_mlp(x_fusion)\n"
   ]
  },
  {
   "cell_type": "code",
   "execution_count": 24,
   "metadata": {
    "execution": {
     "iopub.execute_input": "2025-10-25T23:27:21.573086Z",
     "iopub.status.busy": "2025-10-25T23:27:21.572792Z",
     "iopub.status.idle": "2025-10-25T23:27:27.404826Z",
     "shell.execute_reply": "2025-10-25T23:27:27.404202Z",
     "shell.execute_reply.started": "2025-10-25T23:27:21.573065Z"
    },
    "id": "NG_hOA_oy4eL",
    "trusted": true
   },
   "outputs": [
    {
     "name": "stderr",
     "output_type": "stream",
     "text": [
      "                                                                                \r"
     ]
    }
   ],
   "source": [
    "cnn_model = CNN_model().to(device)\n",
    "\n",
    "tabular_model = TabularModel(x_train_df1.toPandas().shape[1]).to(device)\n",
    "\n",
    "fusion_model = FusionModel(tabular_model, cnn_model ).to(device)"
   ]
  },
  {
   "cell_type": "code",
   "execution_count": 25,
   "metadata": {
    "colab": {
     "base_uri": "https://localhost:8080/",
     "height": 373
    },
    "execution": {
     "iopub.execute_input": "2025-10-25T23:27:29.206415Z",
     "iopub.status.busy": "2025-10-25T23:27:29.205828Z",
     "iopub.status.idle": "2025-10-25T23:50:28.937488Z",
     "shell.execute_reply": "2025-10-25T23:50:28.936618Z",
     "shell.execute_reply.started": "2025-10-25T23:27:29.206387Z"
    },
    "id": "LHNLwwgN3aET",
    "outputId": "4369cffc-f55a-4db7-bf8a-3dd88e47d278",
    "trusted": true
   },
   "outputs": [
    {
     "name": "stderr",
     "output_type": "stream",
     "text": [
      "                                                                                \r"
     ]
    },
    {
     "name": "stdout",
     "output_type": "stream",
     "text": [
      "\n",
      "===== Starting epoch: 1 =====\n",
      "Epoch [1/200] - Train RMSE: 677742.9408, Val RMSE: 386024.5440\n",
      "✅ Saved new best model with Val RMSE: 386024.5440\n",
      "\n",
      "===== Starting epoch: 2 =====\n",
      "Epoch [2/200] - Train RMSE: 396767.3820, Val RMSE: 379725.1439\n",
      "✅ Saved new best model with Val RMSE: 379725.1439\n",
      "\n",
      "===== Starting epoch: 3 =====\n",
      "Epoch [3/200] - Train RMSE: 390902.2593, Val RMSE: 370397.8035\n",
      "✅ Saved new best model with Val RMSE: 370397.8035\n",
      "\n",
      "===== Starting epoch: 4 =====\n",
      "Epoch [4/200] - Train RMSE: 382849.3624, Val RMSE: 377384.8512\n",
      "\n",
      "===== Starting epoch: 5 =====\n",
      "Epoch [5/200] - Train RMSE: 378514.9315, Val RMSE: 374549.6736\n",
      "\n",
      "===== Starting epoch: 6 =====\n",
      "Epoch [6/200] - Train RMSE: 374775.0273, Val RMSE: 352142.6054\n",
      "✅ Saved new best model with Val RMSE: 352142.6054\n",
      "\n",
      "===== Starting epoch: 7 =====\n",
      "Epoch [7/200] - Train RMSE: 365610.5384, Val RMSE: 378585.9303\n",
      "\n",
      "===== Starting epoch: 8 =====\n",
      "Epoch [8/200] - Train RMSE: 383024.5280, Val RMSE: 378747.5007\n",
      "\n",
      "===== Starting epoch: 9 =====\n",
      "Epoch [9/200] - Train RMSE: 381448.7642, Val RMSE: 366181.7845\n",
      "\n",
      "===== Starting epoch: 10 =====\n",
      "Epoch [10/200] - Train RMSE: 374704.0055, Val RMSE: 366168.0373\n",
      "\n",
      "===== Starting epoch: 11 =====\n",
      "Epoch [11/200] - Train RMSE: 378221.6281, Val RMSE: 380505.2076\n",
      "\n",
      "===== Starting epoch: 12 =====\n",
      "Epoch [12/200] - Train RMSE: 375535.0772, Val RMSE: 362941.1730\n",
      "\n",
      "===== Starting epoch: 13 =====\n",
      "Epoch [13/200] - Train RMSE: 371672.9748, Val RMSE: 373117.6061\n",
      "\n",
      "===== Starting epoch: 14 =====\n",
      "Epoch [14/200] - Train RMSE: 374870.3802, Val RMSE: 411650.1637\n",
      "\n",
      "===== Starting epoch: 15 =====\n",
      "Epoch [15/200] - Train RMSE: 374742.1097, Val RMSE: 364452.6757\n",
      "\n",
      "===== Starting epoch: 16 =====\n",
      "Epoch [16/200] - Train RMSE: 370026.2600, Val RMSE: 360224.5494\n",
      "⏹️ Early stopping at epoch 16\n"
     ]
    }
   ],
   "source": [
    "from torch.utils.data import random_split, DataLoader\n",
    "\n",
    "train_dataset = MultiModalDataset(train_df.toPandas(), images_dir, transform)\n",
    "\n",
    "optimizer = torch.optim.Adam(fusion_model.parameters(), lr=0.0005)\n",
    "loss_fn = nn.MSELoss()\n",
    "\n",
    "max_epochs = 200\n",
    "patience = 10  # số epoch liên tiếp không cải thiện thì dừng\n",
    "best_val_rmse = float('inf')\n",
    "trigger_times = 0\n",
    "\n",
    "for epoch in range(max_epochs):\n",
    "    print(f\"\\n===== Starting epoch: {epoch+1} =====\")\n",
    "\n",
    "    # --- Re-split train/val mỗi epoch ---\n",
    "    dataset_size = len(train_dataset)\n",
    "    val_size = int(0.3 * dataset_size)\n",
    "    train_size = dataset_size - val_size\n",
    "    train_subset, val_subset = random_split(train_dataset, [train_size, val_size])\n",
    "\n",
    "    train_loader = DataLoader(train_subset, batch_size=64, shuffle=True)\n",
    "    val_loader = DataLoader(val_subset, batch_size=64, shuffle=False)\n",
    "\n",
    "    # --------- Training ---------\n",
    "    fusion_model.train()\n",
    "    running_loss = 0.0\n",
    "    for image, tabular, target in train_loader:\n",
    "        image, tabular, target = image.to(device), tabular.to(device), target.to(device)\n",
    "        optimizer.zero_grad()\n",
    "        y_pred = fusion_model(tabular, image)\n",
    "        loss = loss_fn(y_pred.squeeze(), target)\n",
    "        loss.backward()\n",
    "        optimizer.step()\n",
    "        running_loss += loss.item() * image.size(0)\n",
    "\n",
    "    train_mse = running_loss / len(train_loader.dataset)\n",
    "    train_rmse = train_mse ** 0.5\n",
    "\n",
    "    # --------- Validation ---------\n",
    "    fusion_model.eval()\n",
    "    val_loss = 0.0\n",
    "    with torch.no_grad():\n",
    "        for image, tabular, target in val_loader:\n",
    "            image, tabular, target = image.to(device), tabular.to(device), target.to(device)\n",
    "            y_pred = fusion_model(tabular, image)\n",
    "            loss = loss_fn(y_pred.squeeze(), target)\n",
    "            val_loss += loss.item() * image.size(0)\n",
    "\n",
    "    val_mse = val_loss / len(val_loader.dataset)\n",
    "    val_rmse = val_mse ** 0.5\n",
    "\n",
    "    print(f\"Epoch [{epoch+1}/{max_epochs}] - Train RMSE: {train_rmse:.4f}, Val RMSE: {val_rmse:.4f}\")\n",
    "\n",
    "    # --------- Early Stopping & Save Best Model ---------\n",
    "    if val_rmse < best_val_rmse:\n",
    "        best_val_rmse = val_rmse\n",
    "        trigger_times = 0\n",
    "        torch.save(fusion_model.state_dict(), \"/kaggle/working/checkpoint2.pth\")\n",
    "        print(f\"✅ Saved new best model with Val RMSE: {best_val_rmse:.4f}\")\n",
    "    else:\n",
    "        trigger_times += 1\n",
    "        if trigger_times >= patience:\n",
    "            print(f\"⏹️ Early stopping at epoch {epoch+1}\")\n",
    "            break\n"
   ]
  }
 ],
 "metadata": {
  "colab": {
   "provenance": []
  },
  "kaggle": {
   "accelerator": "gpu",
   "dataSources": [
    {
     "datasetId": 8570577,
     "sourceId": 13498542,
     "sourceType": "datasetVersion"
    },
    {
     "datasetId": 8570611,
     "sourceId": 13498591,
     "sourceType": "datasetVersion"
    }
   ],
   "dockerImageVersionId": 31154,
   "isGpuEnabled": true,
   "isInternetEnabled": false,
   "language": "python",
   "sourceType": "notebook"
  },
  "kernelspec": {
   "display_name": "Python 3",
   "language": "python",
   "name": "python3"
  },
  "language_info": {
   "codemirror_mode": {
    "name": "ipython",
    "version": 3
   },
   "file_extension": ".py",
   "mimetype": "text/x-python",
   "name": "python",
   "nbconvert_exporter": "python",
   "pygments_lexer": "ipython3",
   "version": "3.10.0"
  }
 },
 "nbformat": 4,
 "nbformat_minor": 4
}
