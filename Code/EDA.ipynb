{
 "cells": [
  {
   "cell_type": "code",
   "execution_count": 1,
   "id": "bf472d3f",
   "metadata": {},
   "outputs": [
    {
     "name": "stderr",
     "output_type": "stream",
     "text": [
      "WARNING: Using incubator modules: jdk.incubator.vector\n",
      "Using Spark's default log4j profile: org/apache/spark/log4j2-defaults.properties\n",
      "25/10/14 00:43:04 WARN Utils: Your hostname, soaz, resolves to a loopback address: 127.0.1.1; using 192.168.1.42 instead (on interface wlp0s20f3)\n",
      "25/10/14 00:43:04 WARN Utils: Set SPARK_LOCAL_IP if you need to bind to another address\n",
      "Using Spark's default log4j profile: org/apache/spark/log4j2-defaults.properties\n",
      "Setting default log level to \"WARN\".\n",
      "To adjust logging level use sc.setLogLevel(newLevel). For SparkR, use setLogLevel(newLevel).\n",
      "25/10/14 00:43:05 WARN NativeCodeLoader: Unable to load native-hadoop library for your platform... using builtin-java classes where applicable\n"
     ]
    }
   ],
   "source": [
    "from pyspark.sql import SparkSession\n",
    "\n",
    "spark = SparkSession.builder \\\n",
    "    .appName(\"HousePriceEDA\") \\\n",
    "    .getOrCreate()\n"
   ]
  },
  {
   "cell_type": "markdown",
   "id": "3c111386",
   "metadata": {},
   "source": [
    "### Đọc dữ liệu"
   ]
  },
  {
   "cell_type": "code",
   "execution_count": 2,
   "id": "a78a316b",
   "metadata": {},
   "outputs": [],
   "source": [
    "df = spark.read.csv('../data/socal2.csv', inferSchema= True, header= True)"
   ]
  },
  {
   "cell_type": "code",
   "execution_count": 3,
   "id": "d1bc22be",
   "metadata": {},
   "outputs": [
    {
     "name": "stdout",
     "output_type": "stream",
     "text": [
      "+--------+--------------------+---------------+------+---+----+----+------+\n",
      "|image_id|              street|           citi|n_citi|bed|bath|sqft| price|\n",
      "+--------+--------------------+---------------+------+---+----+----+------+\n",
      "|       0|1317 Van Buren Av...|Salton City, CA|   317|  3| 2.0|1560|201900|\n",
      "|       1|      124 C Street W|    Brawley, CA|    48|  3| 2.0| 713|228500|\n",
      "|       2|     2304 Clark Road|   Imperial, CA|   152|  3| 1.0| 800|273950|\n",
      "|       3|  755 Brawley Avenue|    Brawley, CA|    48|  3| 1.0|1082|350000|\n",
      "|       4|2207 R Carrillo C...|   Calexico, CA|    55|  4| 3.0|2547|385100|\n",
      "+--------+--------------------+---------------+------+---+----+----+------+\n",
      "only showing top 5 rows\n",
      "root\n",
      " |-- image_id: integer (nullable = true)\n",
      " |-- street: string (nullable = true)\n",
      " |-- citi: string (nullable = true)\n",
      " |-- n_citi: integer (nullable = true)\n",
      " |-- bed: integer (nullable = true)\n",
      " |-- bath: double (nullable = true)\n",
      " |-- sqft: integer (nullable = true)\n",
      " |-- price: integer (nullable = true)\n",
      "\n"
     ]
    }
   ],
   "source": [
    "df.show(5)\n",
    "df.printSchema()\n"
   ]
  },
  {
   "cell_type": "code",
   "execution_count": 4,
   "id": "2db7eb0b",
   "metadata": {},
   "outputs": [
    {
     "name": "stdout",
     "output_type": "stream",
     "text": [
      "Số hàng: 15474\n",
      "Số cột: 8\n"
     ]
    },
    {
     "name": "stderr",
     "output_type": "stream",
     "text": [
      "25/10/14 00:43:12 WARN SparkStringUtils: Truncated the string representation of a plan since it was too large. This behavior can be adjusted by setting 'spark.sql.debug.maxToStringFields'.\n",
      "[Stage 6:>                                                          (0 + 1) / 1]\r"
     ]
    },
    {
     "name": "stdout",
     "output_type": "stream",
     "text": [
      "+-------+----------------+------------+----------------+------------------+------------------+------------------+------------------+-----------------+\n",
      "|summary|        image_id|      street|            citi|            n_citi|               bed|              bath|              sqft|            price|\n",
      "+-------+----------------+------------+----------------+------------------+------------------+------------------+------------------+-----------------+\n",
      "|  count|           15474|       15474|           15474|             15474|             15474|             15474|             15474|            15474|\n",
      "|   mean|          7736.5|        NULL|            NULL|216.59751841799147|3.5063978286157425|2.4532506139328003|2173.9132092542327|703120.9375080781|\n",
      "| stddev|4467.10336795557|        NULL|            NULL|112.37298461699699|1.0348377033393983|0.9587417665050789|1025.3396166979098|376976.1544210645|\n",
      "|    min|               0|  0 H Street|    29 Palms, CA|                 0|                 1|               0.0|               280|           195000|\n",
      "|    max|           15473|Vista Calico|Yucca Valley, CA|               414|                12|              36.0|             17667|          2000000|\n",
      "+-------+----------------+------------+----------------+------------------+------------------+------------------+------------------+-----------------+\n",
      "\n"
     ]
    },
    {
     "name": "stderr",
     "output_type": "stream",
     "text": [
      "                                                                                \r"
     ]
    }
   ],
   "source": [
    "print(\"Số hàng:\", df.count())\n",
    "print(\"Số cột:\", len(df.columns))\n",
    "df.describe().show()\n"
   ]
  },
  {
   "cell_type": "markdown",
   "id": "31d55965",
   "metadata": {},
   "source": [
    "### Kiểm tra giá trị thiếu và trùng lặp"
   ]
  },
  {
   "cell_type": "code",
   "execution_count": 5,
   "id": "6907321d",
   "metadata": {},
   "outputs": [
    {
     "name": "stdout",
     "output_type": "stream",
     "text": [
      "+--------+------+----+------+---+----+----+-----+\n",
      "|image_id|street|citi|n_citi|bed|bath|sqft|price|\n",
      "+--------+------+----+------+---+----+----+-----+\n",
      "|       0|     0|   0|     0|  0|   0|   0|    0|\n",
      "+--------+------+----+------+---+----+----+-----+\n",
      "\n",
      "Số dòng trùng lặp: 0\n"
     ]
    }
   ],
   "source": [
    "from pyspark.sql.functions import col, sum as _sum\n",
    "\n",
    "# Đếm giá trị null mỗi cột\n",
    "df.select([_sum(col(c).isNull().cast(\"int\")).alias(c) for c in df.columns]).show()\n",
    "\n",
    "# Đếm số dòng trùng\n",
    "dup_count = df.count() - df.dropDuplicates().count()\n",
    "print(\"Số dòng trùng lặp:\", dup_count)\n"
   ]
  },
  {
   "cell_type": "markdown",
   "id": "25cf00dc",
   "metadata": {},
   "source": [
    "### Phân tích cơ bản các cột"
   ]
  },
  {
   "cell_type": "code",
   "execution_count": 6,
   "id": "7500aa2b",
   "metadata": {},
   "outputs": [
    {
     "name": "stdout",
     "output_type": "stream",
     "text": [
      "+-------+------------------+------------------+------------------+------------------+-----------------+\n",
      "|summary|            n_citi|               bed|              bath|              sqft|            price|\n",
      "+-------+------------------+------------------+------------------+------------------+-----------------+\n",
      "|  count|             15474|             15474|             15474|             15474|            15474|\n",
      "|   mean|216.59751841799147|3.5063978286157425|2.4532506139328003|2173.9132092542327|703120.9375080781|\n",
      "| stddev|112.37298461699699|1.0348377033393983|0.9587417665050789|1025.3396166979098|376976.1544210645|\n",
      "|    min|                 0|                 1|               0.0|               280|           195000|\n",
      "|    max|               414|                12|              36.0|             17667|          2000000|\n",
      "+-------+------------------+------------------+------------------+------------------+-----------------+\n",
      "\n"
     ]
    }
   ],
   "source": [
    "numeric_cols = ['n_citi', 'bed', 'bath', 'sqft', 'price']\n",
    "df.select(numeric_cols).describe().show()\n"
   ]
  },
  {
   "cell_type": "markdown",
   "id": "a5cd440e",
   "metadata": {},
   "source": [
    "### Tần suất giá trị "
   ]
  },
  {
   "cell_type": "code",
   "execution_count": 7,
   "id": "e65e2508",
   "metadata": {},
   "outputs": [
    {
     "name": "stdout",
     "output_type": "stream",
     "text": [
      "+--------------------+-----+\n",
      "|                citi|count|\n",
      "+--------------------+-----+\n",
      "|       San Diego, CA|  707|\n",
      "|     Los Angeles, CA|  388|\n",
      "|       Lancaster, CA|  312|\n",
      "|       La Quinta, CA|  305|\n",
      "|       Riverside, CA|  274|\n",
      "|          Corona, CA|  257|\n",
      "|       Escondido, CA|  242|\n",
      "|         Fontana, CA|  230|\n",
      "|    Palm Springs, CA|  228|\n",
      "|        Big Bear, CA|  228|\n",
      "|        Palmdale, CA|  224|\n",
      "|       Oceanside, CA|  208|\n",
      "|Rancho Cucamonga, CA|  199|\n",
      "|     Palm Desert, CA|  196|\n",
      "|        Murrieta, CA|  188|\n",
      "|     Paso Robles, CA|  184|\n",
      "|  San Bernardino, CA|  177|\n",
      "|  Lake Arrowhead, CA|  172|\n",
      "|   Rancho Mirage, CA|  167|\n",
      "|        Temecula, CA|  162|\n",
      "+--------------------+-----+\n",
      "only showing top 20 rows\n"
     ]
    }
   ],
   "source": [
    "df.groupBy(\"citi\").count().orderBy(\"count\", ascending=False).show()\n"
   ]
  },
  {
   "cell_type": "markdown",
   "id": "db5fad06",
   "metadata": {},
   "source": [
    "### Hệ số tương phản giữa các biến số"
   ]
  },
  {
   "cell_type": "code",
   "execution_count": 8,
   "id": "ad34461c",
   "metadata": {},
   "outputs": [
    {
     "name": "stdout",
     "output_type": "stream",
     "text": [
      "Correlation(n_citi, price) = 0.04716909254697919\n",
      "Correlation(bed, price) = 0.3487107415125128\n",
      "Correlation(bath, price) = 0.4777352482285269\n",
      "Correlation(sqft, price) = 0.58345693239826\n"
     ]
    }
   ],
   "source": [
    "for c in ['n_citi', 'bed', 'bath', 'sqft']:\n",
    "    corr = df.stat.corr(c, 'price')\n",
    "    print(f\"Correlation({c}, price) = {corr}\")\n"
   ]
  },
  {
   "cell_type": "markdown",
   "id": "c973c05b",
   "metadata": {},
   "source": [
    "### Giá trung bình theo thành phố"
   ]
  },
  {
   "cell_type": "code",
   "execution_count": 10,
   "id": "60bc4c79",
   "metadata": {},
   "outputs": [
    {
     "name": "stdout",
     "output_type": "stream",
     "text": [
      "+--------------------+------------------+\n",
      "|                citi|        avg(price)|\n",
      "+--------------------+------------------+\n",
      "|   Newport Coast, CA|         1819500.0|\n",
      "|  Corona del Mar, CA|         1799995.0|\n",
      "|         Solvang, CA|         1795000.0|\n",
      "|Palos Verdes Esta...|         1784000.0|\n",
      "|      Villa Park, CA|         1771999.8|\n",
      "|     Westchester, CA|         1750000.0|\n",
      "| Rancho Santa Fe, CA|1724987.5555555555|\n",
      "|  West Hollywood, CA|         1679000.0|\n",
      "|          Venice, CA| 1669142.857142857|\n",
      "|        La Jolla, CA|        1653508.95|\n",
      "|      El Segundo, CA|         1648640.0|\n",
      "|      San Marino, CA|         1643250.0|\n",
      "|   Playa del Rey, CA|         1622000.0|\n",
      "|         Cardiff, CA|1616333.3333333333|\n",
      "|  Valley Village, CA|         1593600.0|\n",
      "|   Beverly Hills, CA|         1585750.0|\n",
      "|         Del Mar, CA|1577181.8181818181|\n",
      "|     Toluca Lake, CA|         1549000.0|\n",
      "|   Hermosa Beach, CA|         1499000.0|\n",
      "|   Newport Beach, CA|1487798.9523809524|\n",
      "+--------------------+------------------+\n",
      "only showing top 20 rows\n"
     ]
    }
   ],
   "source": [
    "df.groupBy(\"citi\").avg(\"price\").orderBy(\"avg(price)\", ascending=False).show()\n"
   ]
  },
  {
   "cell_type": "markdown",
   "id": "eb5aec66",
   "metadata": {},
   "source": [
    "### Giá trung bình theo số phòng ngủ"
   ]
  },
  {
   "cell_type": "code",
   "execution_count": 11,
   "id": "79c80775",
   "metadata": {},
   "outputs": [
    {
     "name": "stdout",
     "output_type": "stream",
     "text": [
      "+---+------------------+\n",
      "|bed|        avg(price)|\n",
      "+---+------------------+\n",
      "|  1|          496312.5|\n",
      "|  2|490969.01347305387|\n",
      "|  3|  636639.575828985|\n",
      "|  4| 771009.4107390529|\n",
      "|  5| 902858.4025122884|\n",
      "|  6|1012255.6504297995|\n",
      "|  7|1126643.1973684211|\n",
      "|  8|1017620.5263157894|\n",
      "|  9|1581462.6666666667|\n",
      "| 10|1136583.3333333333|\n",
      "| 11|         1550000.0|\n",
      "| 12|          869500.0|\n",
      "+---+------------------+\n",
      "\n"
     ]
    }
   ],
   "source": [
    "df.groupBy(\"bed\").avg(\"price\").orderBy(\"bed\").show()\n"
   ]
  }
 ],
 "metadata": {
  "kernelspec": {
   "display_name": "base",
   "language": "python",
   "name": "python3"
  },
  "language_info": {
   "codemirror_mode": {
    "name": "ipython",
    "version": 3
   },
   "file_extension": ".py",
   "mimetype": "text/x-python",
   "name": "python",
   "nbconvert_exporter": "python",
   "pygments_lexer": "ipython3",
   "version": "3.12.4"
  }
 },
 "nbformat": 4,
 "nbformat_minor": 5
}
