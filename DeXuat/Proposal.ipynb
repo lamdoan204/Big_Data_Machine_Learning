{
 "cells": [
  {
   "cell_type": "markdown",
   "id": "38c860ca",
   "metadata": {},
   "source": [
    "# Nội dung đề xuất (Proposal) nhóm 10\n"
   ]
  },
  {
   "cell_type": "markdown",
   "id": "56bc2949",
   "metadata": {},
   "source": [
    "> ### Thành viên nhóm:\n",
    "- ĐOÀN QUANG LÂM - 22133032\n",
    "- TRẦN THẾ ANH - 22133003"
   ]
  },
  {
   "cell_type": "markdown",
   "id": "3d6c2fad",
   "metadata": {},
   "source": [
    "## 1. Giới thiệu về bài toán và dữ liệu\n",
    "> ### 1.1. Về bài toán\n",
    " Trong bối cảnh nhu cầu nhà ở ngày càng tăng cao tại Việt Nam, việc dự đoán giá nhà và cá nhân hóa trải nghiệm tìm kiếm bất động sản trở nên cần thiết. Người mua thường muốn biết giá hợp lý của một căn nhà dựa trên diện tích, vị trí, số phòng, và các tiện ích đi kèm. Đồng thời, các nền tảng bất động sản cũng cần xây dựng hệ thống gợi ý để giúp người dùng nhanh chóng tìm được căn nhà phù hợp với nhu cầu và khả năng tài chính.\n",
    "\n",
    "Dự án của nhóm tập trung vào hai mục tiêu chính:\n",
    "- Xây dựng mô hình dự đoán giá nhà tại Việt Nam dựa trên các đặc trưng của căn nhà.\n",
    "- Xây dựng hệ thống gợi ý nhà dựa trên lịch sử xem nhà của người dùng nhằm cá nhân hóa kết quả tìm kiếm.\n",
    "> ### 1.2. Câu hỏi nghiên cứu\n",
    "- Những đặc trưng nào quan trọng trong việc quyết định giá nhà ?\n",
    "- \n",
    "- \n",
    "> ### 1.3. Về dữ liệu\n",
    "- Nguồn: Bộ dữ liệu Vietnam Housing Dataset 2024 được công bố trên Kaggle (*https://www.kaggle.com/datasets/nguyentiennhan/vietnam-housing-dataset-2024*)\n",
    "- Thu thập: Dữ liệu được thu thập từ nhiều nguồn bất động sản trực tuyến trong năm 2024 ở Việt Nam\n",
    "- Quan sát: Mỗi dòng dữ liệu đại diện cho một căn nhà\n",
    "\n",
    "- Các biến: \n",
    "- Biến giải thích (X): Address, Area, Frontage, Access Road, House Direction, Balcony Direction, Floors, Bedrooms, Bathrooms, Legal Status, Furniture State. \n",
    "- Biến phản hồi (Y): Price\n",
    "\n",
    "Dữ liệu sẽ được tiền xử lý, phân tích khám phá (EDA), sau đó dùng để huấn luyện mô hình dự đoán và xây dựng hệ thống gợi ý."
   ]
  },
  {
   "cell_type": "markdown",
   "id": "5069c185",
   "metadata": {},
   "source": [
    "## 2. Kế hoạch phân tích dữ liệu\n",
    ">### 2.1. Làm rõ Input và Output của bài toán.\n",
    "- Address: Địa chỉ đầy đủ của bất động sản, bao gồm các thông tin chi tiết như tên dự án, đường phố, phường, quận và thành phố.\n",
    "- Area: Tổng diện tích của bất động sản, được đo bằng mét vuông.\n",
    "- Frontage: Chiều rộng mặt trước của bất động sản, được đo bằng mét.\n",
    "- Access Road: Chiều rộng của con đường dẫn vào bất động sản, được đo bằng mét.\n",
    "- House Direction: Hướng chính của mặt tiền ngôi nhà (ví dụ: Đông, Tây, Bắc, Nam).\n",
    "- Balcony Direction: Hướng chính của ban công.\n",
    "- Floors: Tổng số tầng của tòa nhà.\n",
    "- Bedrooms: Số lượng phòng ngủ trong bất động sản.\n",
    "- Bathrooms: Số lượng phòng tắm trong căn nhà.\n",
    "- Legal Status: Chỉ ra tình trạng pháp lý của bất động sản, chẳng hạn như bất động sản có giấy chứng nhận quyền sở hữu hay có hợp đồng mua bán hay không.\n",
    "- Furniture State: Chỉ ra tình trạng trang bị nội thất trong bất động sản, chẳng hạn như đã trang bị đầy đủ nội thất, đã trang bị một phần hoặc chưa trang bị nội thất.\n",
    "- Price: Giá của bất động sản được biểu thị bằng tỷ đồng Việt Nam (VND).\n",
    ">### 2.2. Các phương pháp mà nhóm tin sẽ hữu ích trong việc trả lời được các câu hỏi đặt ra.\n",
    "> #### 2.2.1. Phân tích dữ liệu khám phá (EDA)\n",
    "- Kiểm tra dữ liệu bị thiếu và xử lý ngoại lệ.\n",
    "- Từ trích xuất dữ liệu từ cột 'Address' tạo thêm một vài cột mới có ý nghĩa về mặt địa lý phân bố và tiện ích xung quanh.\n",
    "- Trực quan hóa phân bố giá nhà, mối liên hệ giữa giá và các đặc trưng.\n",
    "> #### 2.2.2. Mô hình dự đoán giá nhà\n",
    "- Linear Regression\n",
    "- Random Forest Regressor\n",
    "- Neural Network\n",
    "- ...\n",
    "> #### 2.2.3. Hệ thống gợi ý tìm kiếm nhà.\n",
    "- Content-based Filtering: Gợi ý nhà có đặc trưng tương tự với những gì người dùng đã xem.\n",
    "- Collaborative Filtering: Gợi ý dựa trên những hành vi của những người có lịch sử tương đồng (giả lập dữ liệu lịch sử người đùng).\n",
    "- Hybird Recommender System: Kết hợp cả 2.\n",
    ">### 2.3. Các độ đo và phương pháp để đánh giá kết quả.\n",
    "> #### 2.3.1. Bài toán dự đoán đánh giá:\n",
    "- MSE (Mean Squared Error)\n",
    "- RMSE (Root Mean Squared Error)\n",
    "- MAE (Mean Absolute Error)\n",
    "- R² (Coefficient of Determination)\n",
    "> #### 2.3.2. Bài toán gợi ý:\n",
    "- ...\n",
    ">### 2.4. Kế hoạch thực hiện và phân công\n"
   ]
  },
  {
   "cell_type": "markdown",
   "id": "41b9fd1f",
   "metadata": {},
   "source": []
  }
 ],
 "metadata": {
  "language_info": {
   "name": "python"
  }
 },
 "nbformat": 4,
 "nbformat_minor": 5
}
