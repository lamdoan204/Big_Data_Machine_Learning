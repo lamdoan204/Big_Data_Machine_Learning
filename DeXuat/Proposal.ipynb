{
 "cells": [
  {
   "cell_type": "markdown",
   "id": "38c860ca",
   "metadata": {},
   "source": [
    "# Nội dung đề xuất (Proposal) nhóm 10\n"
   ]
  },
  {
   "cell_type": "markdown",
   "id": "56bc2949",
   "metadata": {},
   "source": [
    "### Thành viên nhóm:\n",
    "- ĐOÀN QUANG LÂM - 22133032\n",
    "- TRẦN THẾ ANH - 22133003\n",
    "- CHÂU NHẬT HUÂN - 221330"
   ]
  },
  {
   "cell_type": "markdown",
   "id": "3d6c2fad",
   "metadata": {},
   "source": [
    "## 1. Giới thiệu về bài toán và dữ liệu\n",
    " ### 1.1. Về bài toán\n",
    " Trong bối cảnh nhu cầu nhà ở ngày càng tăng cao tại Việt Nam, việc dự đoán giá nhà và cá nhân hóa trải nghiệm tìm kiếm bất động sản trở nên cần thiết. Người mua thường muốn biết giá hợp lý của một căn nhà dựa trên diện tích, vị trí, số phòng, và các tiện ích đi kèm. Đồng thời, các nền tảng bất động sản cũng cần xây dựng hệ thống gợi ý để giúp người dùng nhanh chóng tìm được căn nhà phù hợp với nhu cầu và khả năng tài chính.\n",
    "\n",
    "Dự án của nhóm tập trung vào hai mục tiêu chính:\n",
    "- Xây dựng mô hình dự đoán giá nhà tại Việt Nam dựa trên các đặc trưng của căn nhà.\n",
    "- Xây dựng hệ thống gợi ý nhà dựa trên lịch sử xem nhà của người dùng nhằm cá nhân hóa kết quả tìm kiếm.\n",
    " ### 1.2. Câu hỏi nghiên cứu\n",
    "- **RQ1**: Trong số các đặc trưng có sẵn (diện tích, số tầng, số phòng ngủ, hướng nhà, vị trí địa lý, v.v.), đặc trưng nào có mức độ tương quan cao nhất với giá nhà ?\n",
    "- **RQ2**: Mô hình nào trong số Linear Regression, Random Forest, XGBoost và Neural Network đạt được RMSE thấp nhất và R² cao nhất trên tập kiểm tra?\n",
    "- **RQ3**: Việc trích xuất thông tin địa lý chi tiết từ địa chỉ (quận, thành phố, khu vực) có cải thiện đáng kể hiệu suất dự đoán (giảm RMSE ít nhất 10%) so với chỉ sử dụng các đặc trưng vật lý không?\n",
    "- **RQ4**: Hệ thống gợi ý Content-based hay Collaborative Filtering đạt được Precision@10 và NDCG@10 cao hơn trên dữ liệu thử nghiệm?\n",
    "- **RQ5**: Hybrid Recommender System có cải thiện ít nhất 10% về MAP và Coverage so với từng phương pháp riêng lẻ không?"
   ]
  },
  {
   "cell_type": "markdown",
   "id": "bae926bc",
   "metadata": {},
   "source": [
    " ### 1.3. Về dữ liệu\n",
    "- Nguồn: Bộ dữ liệu Vietnam Housing Dataset 2024 được công bố trên Kaggle (*https://www.kaggle.com/datasets/nguyentiennhan/vietnam-housing-dataset-2024*)\n",
    "- Thu thập: Dữ liệu được thu thập từ nhiều nguồn bất động sản trực tuyến trong năm 2024 ở Việt Nam\n",
    "- Quan sát: Mỗi dòng dữ liệu đại diện cho một căn nhà\n",
    "\n",
    "- Các biến: \n",
    "- Biến giải thích (X): Address, Area, Frontage, Access Road, House Direction, Balcony Direction, Floors, Bedrooms, Bathrooms, Legal Status, Furniture State. \n",
    "- Biến phản hồi (Y): Price\n",
    "\n",
    "Dữ liệu sẽ được tiền xử lý, phân tích khám phá (EDA), sau đó dùng để huấn luyện mô hình dự đoán và xây dựng hệ thống gợi ý."
   ]
  },
  {
   "cell_type": "markdown",
   "id": "5069c185",
   "metadata": {},
   "source": [
    "## 2. Kế hoạch phân tích dữ liệu\n",
    "\n",
    "\n"
   ]
  },
  {
   "cell_type": "markdown",
   "id": "7d151e58",
   "metadata": {},
   "source": [
    "### 2.1. Làm rõ Input và Output của bài toán.\n",
    "- Address: Địa chỉ đầy đủ của bất động sản, bao gồm các thông tin chi tiết như tên dự án, đường phố, phường, quận và thành phố.\n",
    "- Area: Tổng diện tích của bất động sản, được đo bằng mét vuông.\n",
    "- Frontage: Chiều rộng mặt trước của bất động sản, được đo bằng mét.\n",
    "- Access Road: Chiều rộng của con đường dẫn vào bất động sản, được đo bằng mét.\n",
    "- House Direction: Hướng chính của mặt tiền ngôi nhà (ví dụ: Đông, Tây, Bắc, Nam).\n",
    "- Balcony Direction: Hướng chính của ban công.\n",
    "- Floors: Tổng số tầng của tòa nhà.\n",
    "- Bedrooms: Số lượng phòng ngủ trong bất động sản.\n",
    "- Bathrooms: Số lượng phòng tắm trong căn nhà.\n",
    "- Legal Status: Chỉ ra tình trạng pháp lý của bất động sản, chẳng hạn như bất động sản có giấy chứng nhận quyền sở hữu hay có hợp đồng mua bán hay không.\n",
    "- Furniture State: Chỉ ra tình trạng trang bị nội thất trong bất động sản, chẳng hạn như đã trang bị đầy đủ nội thất, đã trang bị một phần hoặc chưa trang bị nội thất.\n",
    "- Price: Giá của bất động sản được biểu thị bằng tỷ đồng Việt Nam (VND)."
   ]
  },
  {
   "cell_type": "markdown",
   "id": "1eb74dbc",
   "metadata": {},
   "source": [
    "### 2.2. Các phương pháp mà nhóm tin sẽ hữu ích trong việc trả lời được các câu hỏi đặt ra.\n",
    " #### 2.2.1. Phân tích dữ liệu khám phá (EDA) - *Trả lời RQ1*\n",
    "- **Correlation Analysis**: Tính correlation matrix giữa tất cả các đặc trưng số và giá nhà\n",
    "- **Feature Importance Analysis**: Sử dụng Random Forest feature importance và permutation importance\n",
    "- **Statistical Analysis**: Tính R² cho từng đặc trưng riêng lẻ để xác định đóng góp độc lập\n",
    "- **Visualization**: Heat map correlation, scatter plots, box plots theo từng đặc trưng\n",
    "- **Categorical Analysis**: Phân tích ANOVA cho các biến categorical (hướng nhà, legal status, v.v.)\n",
    "\n",
    " #### 2.2.2. Mô hình dự đoán giá nhà - *Trả lời RQ2 & RQ3*\n",
    "**Baseline Models (RQ2):**\n",
    "- **Linear Regression**: Làm baseline, đánh giá mối quan hệ tuyến tính\n",
    "- **Random Forest Regressor**: Xử lý non-linear relationships và feature interactions\n",
    "- **XGBoost**: Gradient boosting với regularization, thường hiệu quả cao\n",
    "- **Neural Network (MLP)**: Multi-layer perceptron với 2-3 hidden layers\n",
    "\n",
    "**Feature Engineering Experiment (RQ3):**\n",
    "- **Scenario A**: Chỉ sử dụng đặc trưng vật lý (Area, Frontage, Floors, Bedrooms, Bathrooms, v.v.)\n",
    "- **Scenario B**: Thêm đặc trưng địa lý được trích xuất từ Address:\n",
    "  - District/Province extraction từ text\n",
    "  - City classification (TP.HCM, Hà Nội, cities khác)\n",
    "  - Distance to city center (ước tính từ district)\n",
    "  - Urban/Suburban classification\n",
    "- **Comparison**: So sánh RMSE giữa Scenario A và B cho mỗi mô hình\n",
    "\n",
    " #### 2.2.3. Hệ thống gợi ý tìm kiếm nhà - *Trả lời RQ4 & RQ5*\n",
    "**Individual Methods (RQ4):**\n",
    "- **Content-based Filtering**: \n",
    "  - Cosine similarity dựa trên đặc trưng nhà (normalized features)\n",
    "  - TF-IDF cho đặc trưng text (address, legal status)\n",
    "\n",
    "- **Collaborative Filtering**: (làm thêm nếu giả lập được dữ liệu người dùng tương tự)\n",
    "  - User-based CF: Tìm người dùng tương tự dựa trên lịch sử xem nhà\n",
    "  - Item-based CF: Gợi ý nhà tương tự với những nhà đã xem\n",
    "  - Matrix Factorization (SVD) cho sparse matrix\n",
    "\n",
    "**Hybrid System (RQ5):**\n",
    "- **Weighted Hybrid**: Kết hợp linear của CB và CF scores\n",
    "- **Switching Hybrid**: Chọn phương pháp dựa trên số lượng data của user\n",
    "- **Mixed Hybrid**: Trình bày cả hai loại gợi ý riêng biệt"
   ]
  },
  {
   "cell_type": "markdown",
   "id": "d09cec34",
   "metadata": {},
   "source": [
    "### 2.3. Các độ đo và phương pháp để đánh giá kết quả.\n",
    "#### 2.3.1. Đánh giá Feature Importance (RQ1):\n",
    "- **Pearson Correlation Coefficient**: Đo tương quan tuyến tính với giá nhà\n",
    "- **Spearman Correlation**: Đo tương quan monotonic (cho non-linear relationships)\n",
    "- **R² Individual**: R² khi dùng từng feature riêng lẻ để predict giá\n",
    "- **Permutation Importance**: Giảm accuracy khi shuffle từng feature\n",
    "- **SHAP Values**: Giải thích contribution của từng feature cho predictions\n",
    "\n",
    "#### 2.3.2. Đánh giá mô hình dự đoán (RQ2 & RQ3):\n",
    "- **RMSE (Root Mean Squared Error)**: Metric chính để compare models\n",
    "- **R² (Coefficient of Determination)**: Đo khả năng giải thích variance\n",
    "- **MAE (Mean Absolute Error)**: Robust với outliers\n",
    "- **MAPE (Mean Absolute Percentage Error)**: Đánh giá theo tỷ lệ phần trăm\n",
    "- **Cross-validation**: 5-fold CV để đảm bảo stability\n",
    "- **Statistical Testing**: Paired t-test để kiểm tra significant difference giữa models\n",
    "\n",
    "#### 2.3.3. Đánh giá hệ thống gợi ý (RQ4 & RQ5):\n",
    "- **Precision@10**: Tỷ lệ nhà phù hợp trong top 10 gợi ý\n",
    "- **Recall@10**: Tỷ lệ nhà phù hợp được tìm thấy trong top 10\n",
    "- **NDCG@10**: Đánh giá quality ranking có xét đến position\n",
    "- **MAP (Mean Average Precision)**: Trung bình AP across all users\n",
    "- **Coverage**: Tỷ lệ items được gợi ý / tổng items"
   ]
  },
  {
   "cell_type": "markdown",
   "id": "f3021af2",
   "metadata": {},
   "source": [
    "### 2.4. Kế hoạch thực hiện và phân công\n",
    "\n",
    "#### 2.4.1. Timeline tổng thể\n",
    "**Thu thập và tiền xử lý dữ liệu**\n",
    "- Tải và khám phá bộ dữ liệu Vietnam Housing Dataset 2024\n",
    "- Làm sạch dữ liệu, xử lý missing values và outliers\n",
    "- Chuẩn bị dữ liệu cho analysis\n",
    "\n",
    "**Feature Analysis để trả lời RQ1**\n",
    "- Correlation analysis (Pearson, Spearman) giữa features và giá\n",
    "- Feature importance analysis (Random Forest, Permutation)\n",
    "- Statistical analysis (R² individual, ANOVA)\n",
    "- Visualization và báo cáo kết quả RQ1\n",
    "\n",
    "**Feature Engineering cho RQ3**\n",
    "- Trích xuất địa lý từ Address (district, city, urban classification)\n",
    "- Tạo features mới (distance to center, density indicators)\n",
    "- Chuẩn bị 2 scenarios: with/without địa lý features\n",
    "\n",
    "**Model Comparison cho RQ2 & RQ3**\n",
    "- Implement và train: Linear Regression, Random Forest, XGBoost, Neural Network  \n",
    "- Cross-validation và hyperparameter tuning\n",
    "- So sánh RMSE, R² giữa các models (RQ2)\n",
    "- A/B test: Scenario A vs B cho từng model (RQ3)\n",
    "\n",
    "**Recommender Systems cho RQ4 & RQ5**\n",
    "- Tạo synthetic user behavior data\n",
    "- Implement Content-based và Collaborative Filtering\n",
    "- Đánh giá Precision@10, NDCG@10 cho từng method (RQ4)\n",
    "- Implement Hybrid system và đánh giá MAP, Coverage (RQ5)\n",
    "\n",
    "**Finalize và báo cáo**\n",
    "- Statistical testing cho tất cả comparisons\n",
    "- Viết báo cáo với answers cho 5 Research Questions\n",
    "- Chuẩn bị presentation\n",
    "\n",
    "#### 2.4.2. Phân công nhiệm vụ"
   ]
  },
  {
   "cell_type": "markdown",
   "id": "a1b1b36f",
   "metadata": {},
   "source": [
    "***ĐOÀN QUANG LÂM***\n",
    "- Tiền xử lý dữ liệu, trích xuất dữ liệu từ thuộc tính địa chỉ (Mục đích nhằm trả lời RQ1, 2)\n",
    "- Giả lập dữ liệu hồ sơ và hành vi người xem (phục vụ cho xây dựng Collaborative Filtering, trả lời câu hỏi RQ4,5)\n",
    "- Xây dựng mô hình dự đoán giá nhà bằng MLP (mục đích nhằm trả lời câu hỏi RQ2)\n",
    "- Xây dựng hệ thống gợi ý theo phương pháp Collaborative Filtering (Mục đích nhằm trả lời câu hỏi RQ4,5)\n",
    "\n",
    "***TRẦN THẾ ANH***\n",
    "- Tìm kiếm dữ liệu\n",
    "- Trực quan hóa\n",
    "- Xây dựng mô hình dự đoán giá nhà \n",
    "- Xây dựng hệ thống gợi ý Content-based (giả lập dữ liệu người dùng)\n",
    "\n",
    "***CHÂU NHẬT HUÂN***\n",
    "- Cào thêm dữ liệu\n",
    "- Xây dựng mô hình dự đoán giá nhà \n",
    "- Xây dựng hệ thống gợi ý Hybrid Recommender System (Kết hợp content-based + CF)"
   ]
  }
 ],
 "metadata": {
  "kernelspec": {
   "display_name": "Python 3",
   "language": "python",
   "name": "python3"
  },
  "language_info": {
   "name": "python",
   "version": "3.13.7"
  }
 },
 "nbformat": 4,
 "nbformat_minor": 5
}
