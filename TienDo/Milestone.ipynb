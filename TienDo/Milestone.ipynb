{
 "cells": [
  {
   "cell_type": "markdown",
   "id": "23740089",
   "metadata": {},
   "source": [
    "## 1. Sụ đóng góp của các thành viên\n",
    "## 2. Thông tin về Project\n",
    "###     2.1. Bài toán muốn giải quyết\n",
    "###     2.2. Tập dữ liệu, input/output của bài toán\n",
    "###     2.3. cách đánh giá kết quả\n",
    "## 3. Giải pháp"
   ]
  }
 ],
 "metadata": {
  "language_info": {
   "name": "python"
  }
 },
 "nbformat": 4,
 "nbformat_minor": 5
}
